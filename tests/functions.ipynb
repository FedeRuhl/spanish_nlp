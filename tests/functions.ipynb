{
 "cells": [
  {
   "cell_type": "code",
   "execution_count": 1,
   "metadata": {},
   "outputs": [
    {
     "name": "stdout",
     "output_type": "stream",
     "text": [
      "\" No van a llegar, al poder.... no podemos ser tan wns los chilenos, para repetir la historia de los 70... # RechazoDeSalida # RechazoDeSalida # RechazoDeSalida # RechazoDeSalida # RechazoDeSalida # RechazoDeSalida # RechazoDeSalida # RechazoDeSalida # RechazoDeSalida #\n"
     ]
    }
   ],
   "source": [
    "from spanish_nlp import preprocess\n",
    "sp = preprocess.SpanishPreprocess(\n",
    "        lower=False,\n",
    "        remove_url=True,\n",
    "        remove_hashtags=False,\n",
    "        split_hashtags=True,\n",
    "        normalize_breaklines=True,\n",
    "        remove_emoticons=False,\n",
    "        remove_emojis=False,\n",
    "        convert_emoticons=False,\n",
    "        convert_emojis=False,\n",
    "        normalize_inclusive_language=False,\n",
    "        reduce_spam=True,\n",
    "        remove_reduplications=True,\n",
    "        remove_vowels_accents=False,\n",
    "        remove_multiple_spaces=True,\n",
    "        remove_punctuation=False,\n",
    "        remove_unprintable=True,\n",
    "        remove_numbers=False,\n",
    "        remove_stopwords=False,\n",
    "        stopwords_list=None,\n",
    "        lemmatize=False,\n",
    "        stem=False,\n",
    "        remove_html_tags=True,\n",
    ")\n",
    "\n",
    "text = \"\"\"\n",
    "\"@asteinsapir @CaceresJoo @gabrielboric @paulanarvaezo @yasnaprovoste @danieljadue No van a llegar, al poder....no podemos ser tan wns los chilenos, para repetir la historia de los 70...\n",
    "#RechazoDeSalida \n",
    "#RechazoDeSalida \n",
    "#RechazoDeSalida \n",
    "#RechazoDeSalida \n",
    "#RechazoDeSalida \n",
    "#RechazoDeSalida \n",
    "#RechazoDeSalida \n",
    "#RechazoDeSalida \n",
    "#RechazoDeSalida\n",
    "# \"\"\"\n",
    "\n",
    "print(sp.transform(text, debug=True))\n"
   ]
  },
  {
   "cell_type": "code",
   "execution_count": 2,
   "metadata": {},
   "outputs": [
    {
     "data": {
      "text/plain": [
       "'No van a llegar, al poder.... no podemos ser tan wns los chilenos, para repetir la historia de los 70... Rechazo De Salida Rechazo De Salida #'"
      ]
     },
     "execution_count": 2,
     "metadata": {},
     "output_type": "execute_result"
    }
   ],
   "source": [
    "import re\n",
    "\n",
    "def rs(text):\n",
    "    \"\"\"Reduce spam in text when a expression is repeated more than 3 times.\n",
    "    Example: \"hola hola hola hola hola hola\" -> \"hola hola hola\" \"\"\"\n",
    "    text = re.sub(r\"(\\w+\\s)\\1+\", r\"\\1\\1\", text)\n",
    "    text = re.sub(r\"(\\b(\\w+\\s){3})\\1+\", r\"\\1\\1\", text)\n",
    "    return text\n",
    "\n",
    "rs(\"No van a llegar, al poder.... no podemos ser tan wns los chilenos, para repetir la historia de los 70... Rechazo De Salida Rechazo De Salida Rechazo De Salida Rechazo De Salida Rechazo De Salida Rechazo De Salida Rechazo De Salida Rechazo De Salida Rechazo De Salida #\")"
   ]
  }
 ],
 "metadata": {
  "kernelspec": {
   "display_name": "tesis",
   "language": "python",
   "name": "python3"
  },
  "language_info": {
   "codemirror_mode": {
    "name": "ipython",
    "version": 3
   },
   "file_extension": ".py",
   "mimetype": "text/x-python",
   "name": "python",
   "nbconvert_exporter": "python",
   "pygments_lexer": "ipython3",
   "version": "3.9.13"
  },
  "orig_nbformat": 4,
  "vscode": {
   "interpreter": {
    "hash": "55f6ada9710d2be3261dfe6106fc8a8d32ccc4c77b66e487f6b103b7c5a66cc1"
   }
  }
 },
 "nbformat": 4,
 "nbformat_minor": 2
}
