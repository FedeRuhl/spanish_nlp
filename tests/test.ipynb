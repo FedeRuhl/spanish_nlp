{
 "cells": [
  {
   "cell_type": "code",
   "execution_count": 4,
   "metadata": {},
   "outputs": [
    {
     "ename": "AttributeError",
     "evalue": "module 'spanish_nlp' has no attribute 'preprocess'",
     "output_type": "error",
     "traceback": [
      "\u001b[0;31m---------------------------------------------------------------------------\u001b[0m",
      "\u001b[0;31mAttributeError\u001b[0m                            Traceback (most recent call last)",
      "\u001b[1;32m/home/jorge/spanish_nlp/tests/test.ipynb Cell 1\u001b[0m in \u001b[0;36m<cell line: 2>\u001b[0;34m()\u001b[0m\n\u001b[1;32m      <a href='vscode-notebook-cell://ssh-remote%2Bs.ortizfuentes.com/home/jorge/spanish_nlp/tests/test.ipynb#W0sdnNjb2RlLXJlbW90ZQ%3D%3D?line=0'>1</a>\u001b[0m \u001b[39mimport\u001b[39;00m \u001b[39mspanish_nlp\u001b[39;00m\n\u001b[0;32m----> <a href='vscode-notebook-cell://ssh-remote%2Bs.ortizfuentes.com/home/jorge/spanish_nlp/tests/test.ipynb#W0sdnNjb2RlLXJlbW90ZQ%3D%3D?line=1'>2</a>\u001b[0m sp \u001b[39m=\u001b[39m spanish_nlp\u001b[39m.\u001b[39;49mpreprocess\u001b[39m.\u001b[39mSpanishPreprocess(\n\u001b[1;32m      <a href='vscode-notebook-cell://ssh-remote%2Bs.ortizfuentes.com/home/jorge/spanish_nlp/tests/test.ipynb#W0sdnNjb2RlLXJlbW90ZQ%3D%3D?line=2'>3</a>\u001b[0m     lower\u001b[39m=\u001b[39m\u001b[39mTrue\u001b[39;00m,\n\u001b[1;32m      <a href='vscode-notebook-cell://ssh-remote%2Bs.ortizfuentes.com/home/jorge/spanish_nlp/tests/test.ipynb#W0sdnNjb2RlLXJlbW90ZQ%3D%3D?line=3'>4</a>\u001b[0m     remove_url\u001b[39m=\u001b[39m\u001b[39mTrue\u001b[39;00m,\n\u001b[1;32m      <a href='vscode-notebook-cell://ssh-remote%2Bs.ortizfuentes.com/home/jorge/spanish_nlp/tests/test.ipynb#W0sdnNjb2RlLXJlbW90ZQ%3D%3D?line=4'>5</a>\u001b[0m     remove_hashtags\u001b[39m=\u001b[39m\u001b[39mTrue\u001b[39;00m,\n\u001b[1;32m      <a href='vscode-notebook-cell://ssh-remote%2Bs.ortizfuentes.com/home/jorge/spanish_nlp/tests/test.ipynb#W0sdnNjb2RlLXJlbW90ZQ%3D%3D?line=5'>6</a>\u001b[0m     preserve_emoticons\u001b[39m=\u001b[39m\u001b[39mTrue\u001b[39;00m,\n\u001b[1;32m      <a href='vscode-notebook-cell://ssh-remote%2Bs.ortizfuentes.com/home/jorge/spanish_nlp/tests/test.ipynb#W0sdnNjb2RlLXJlbW90ZQ%3D%3D?line=6'>7</a>\u001b[0m     preserve_emojis\u001b[39m=\u001b[39m\u001b[39mTrue\u001b[39;00m,\n\u001b[1;32m      <a href='vscode-notebook-cell://ssh-remote%2Bs.ortizfuentes.com/home/jorge/spanish_nlp/tests/test.ipynb#W0sdnNjb2RlLXJlbW90ZQ%3D%3D?line=7'>8</a>\u001b[0m     convert_emoticons\u001b[39m=\u001b[39m\u001b[39mFalse\u001b[39;00m,\n\u001b[1;32m      <a href='vscode-notebook-cell://ssh-remote%2Bs.ortizfuentes.com/home/jorge/spanish_nlp/tests/test.ipynb#W0sdnNjb2RlLXJlbW90ZQ%3D%3D?line=8'>9</a>\u001b[0m     convert_emojis\u001b[39m=\u001b[39m\u001b[39mFalse\u001b[39;00m,\n\u001b[1;32m     <a href='vscode-notebook-cell://ssh-remote%2Bs.ortizfuentes.com/home/jorge/spanish_nlp/tests/test.ipynb#W0sdnNjb2RlLXJlbW90ZQ%3D%3D?line=9'>10</a>\u001b[0m     normalize_inclusive_language\u001b[39m=\u001b[39m\u001b[39mTrue\u001b[39;00m,\n\u001b[1;32m     <a href='vscode-notebook-cell://ssh-remote%2Bs.ortizfuentes.com/home/jorge/spanish_nlp/tests/test.ipynb#W0sdnNjb2RlLXJlbW90ZQ%3D%3D?line=10'>11</a>\u001b[0m     reduce_spam\u001b[39m=\u001b[39m\u001b[39mTrue\u001b[39;00m,\n\u001b[1;32m     <a href='vscode-notebook-cell://ssh-remote%2Bs.ortizfuentes.com/home/jorge/spanish_nlp/tests/test.ipynb#W0sdnNjb2RlLXJlbW90ZQ%3D%3D?line=11'>12</a>\u001b[0m     remove_vowels_accents\u001b[39m=\u001b[39m\u001b[39mTrue\u001b[39;00m,\n\u001b[1;32m     <a href='vscode-notebook-cell://ssh-remote%2Bs.ortizfuentes.com/home/jorge/spanish_nlp/tests/test.ipynb#W0sdnNjb2RlLXJlbW90ZQ%3D%3D?line=12'>13</a>\u001b[0m     remove_punctuation\u001b[39m=\u001b[39m\u001b[39mTrue\u001b[39;00m,\n\u001b[1;32m     <a href='vscode-notebook-cell://ssh-remote%2Bs.ortizfuentes.com/home/jorge/spanish_nlp/tests/test.ipynb#W0sdnNjb2RlLXJlbW90ZQ%3D%3D?line=13'>14</a>\u001b[0m     remove_unprintable\u001b[39m=\u001b[39m\u001b[39mTrue\u001b[39;00m,\n\u001b[1;32m     <a href='vscode-notebook-cell://ssh-remote%2Bs.ortizfuentes.com/home/jorge/spanish_nlp/tests/test.ipynb#W0sdnNjb2RlLXJlbW90ZQ%3D%3D?line=14'>15</a>\u001b[0m     remove_numbers\u001b[39m=\u001b[39m\u001b[39mTrue\u001b[39;00m,\n\u001b[1;32m     <a href='vscode-notebook-cell://ssh-remote%2Bs.ortizfuentes.com/home/jorge/spanish_nlp/tests/test.ipynb#W0sdnNjb2RlLXJlbW90ZQ%3D%3D?line=15'>16</a>\u001b[0m     remove_stopwords\u001b[39m=\u001b[39m\u001b[39mFalse\u001b[39;00m,\n\u001b[1;32m     <a href='vscode-notebook-cell://ssh-remote%2Bs.ortizfuentes.com/home/jorge/spanish_nlp/tests/test.ipynb#W0sdnNjb2RlLXJlbW90ZQ%3D%3D?line=16'>17</a>\u001b[0m     stopwords_list\u001b[39m=\u001b[39m\u001b[39mNone\u001b[39;00m,\n\u001b[1;32m     <a href='vscode-notebook-cell://ssh-remote%2Bs.ortizfuentes.com/home/jorge/spanish_nlp/tests/test.ipynb#W0sdnNjb2RlLXJlbW90ZQ%3D%3D?line=17'>18</a>\u001b[0m     stem\u001b[39m=\u001b[39m\u001b[39mFalse\u001b[39;00m,\n\u001b[1;32m     <a href='vscode-notebook-cell://ssh-remote%2Bs.ortizfuentes.com/home/jorge/spanish_nlp/tests/test.ipynb#W0sdnNjb2RlLXJlbW90ZQ%3D%3D?line=18'>19</a>\u001b[0m )\n\u001b[1;32m     <a href='vscode-notebook-cell://ssh-remote%2Bs.ortizfuentes.com/home/jorge/spanish_nlp/tests/test.ipynb#W0sdnNjb2RlLXJlbW90ZQ%3D%3D?line=20'>21</a>\u001b[0m test_text \u001b[39m=\u001b[39m \u001b[39m\"\"\"\u001b[39m\u001b[39m𝓣𝓮𝔁𝓽𝓸 𝓭𝓮 𝓹𝓻𝓾𝓮𝓫𝓪\u001b[39m\n\u001b[1;32m     <a href='vscode-notebook-cell://ssh-remote%2Bs.ortizfuentes.com/home/jorge/spanish_nlp/tests/test.ipynb#W0sdnNjb2RlLXJlbW90ZQ%3D%3D?line=21'>22</a>\u001b[0m \n\u001b[1;32m     <a href='vscode-notebook-cell://ssh-remote%2Bs.ortizfuentes.com/home/jorge/spanish_nlp/tests/test.ipynb#W0sdnNjb2RlLXJlbW90ZQ%3D%3D?line=22'>23</a>\u001b[0m \u001b[39mEste es un texto de prueba :) a continuación voy a insertar una noticia de prueba 🤭👀😅\u001b[39m\n\u001b[0;32m   (...)\u001b[0m\n\u001b[1;32m     <a href='vscode-notebook-cell://ssh-remote%2Bs.ortizfuentes.com/home/jorge/spanish_nlp/tests/test.ipynb#W0sdnNjb2RlLXJlbW90ZQ%3D%3D?line=27'>28</a>\u001b[0m \n\u001b[1;32m     <a href='vscode-notebook-cell://ssh-remote%2Bs.ortizfuentes.com/home/jorge/spanish_nlp/tests/test.ipynb#W0sdnNjb2RlLXJlbW90ZQ%3D%3D?line=28'>29</a>\u001b[0m \u001b[39mTengo una deuda de $10.000.000.000, pero tengo 2000 vacas. Mi teléfono es +5698791045\u001b[39m\u001b[39m\"\"\"\u001b[39m\n\u001b[1;32m     <a href='vscode-notebook-cell://ssh-remote%2Bs.ortizfuentes.com/home/jorge/spanish_nlp/tests/test.ipynb#W0sdnNjb2RlLXJlbW90ZQ%3D%3D?line=29'>30</a>\u001b[0m \u001b[39mprint\u001b[39m(sp\u001b[39m.\u001b[39mtransform(test_text, debug\u001b[39m=\u001b[39m\u001b[39mTrue\u001b[39;00m))\n",
      "\u001b[0;31mAttributeError\u001b[0m: module 'spanish_nlp' has no attribute 'preprocess'"
     ]
    }
   ],
   "source": [
    "import spanish_nlp\n",
    "sp = spanish_nlp.preprocess.SpanishPreprocess(\n",
    "    lower=True,\n",
    "    remove_url=True,\n",
    "    remove_hashtags=True,\n",
    "    preserve_emoticons=True,\n",
    "    preserve_emojis=True,\n",
    "    convert_emoticons=False,\n",
    "    convert_emojis=False,\n",
    "    normalize_inclusive_language=True,\n",
    "    reduce_spam=True,\n",
    "    remove_vowels_accents=True,\n",
    "    remove_punctuation=True,\n",
    "    remove_unprintable=True,\n",
    "    remove_numbers=True,\n",
    "    remove_stopwords=False,\n",
    "    stopwords_list=None,\n",
    "    stem=False,\n",
    ")\n",
    "\n",
    "test_text = \"\"\"𝓣𝓮𝔁𝓽𝓸 𝓭𝓮 𝓹𝓻𝓾𝓮𝓫𝓪\n",
    "\n",
    "Este es un texto de prueba :) a continuación voy a insertar una noticia de prueba 🤭👀😅\n",
    "\n",
    "https://www.biobiochile.cl/noticias/nacional/chile/2022/07/27/presidente-boric-anuncia-copago-cero-para-fonasa-con-guinos-al-apruebo.shtml \n",
    "\n",
    "Me gusta la LINGÜÍSTICA y los ñandúes… También los pingüinos 🐧🐧🐧. \n",
    "\n",
    "Tengo una deuda de $10.000.000.000, pero tengo 2000 vacas. Mi teléfono es +5698791045\"\"\"\n",
    "print(sp.transform(test_text, debug=True))\n"
   ]
  },
  {
   "cell_type": "code",
   "execution_count": 7,
   "metadata": {},
   "outputs": [
    {
     "ename": "AttributeError",
     "evalue": "module 'spanish_nlp' has no attribute 'preprocess'",
     "output_type": "error",
     "traceback": [
      "\u001b[0;31m---------------------------------------------------------------------------\u001b[0m",
      "\u001b[0;31mAttributeError\u001b[0m                            Traceback (most recent call last)",
      "\u001b[1;32m/home/jorge/spanish_nlp/tests/test.ipynb Cell 2\u001b[0m in \u001b[0;36m<cell line: 1>\u001b[0;34m()\u001b[0m\n\u001b[0;32m----> <a href='vscode-notebook-cell://ssh-remote%2Bs.ortizfuentes.com/home/jorge/spanish_nlp/tests/test.ipynb#W1sdnNjb2RlLXJlbW90ZQ%3D%3D?line=0'>1</a>\u001b[0m spanish_nlp\u001b[39m.\u001b[39;49mpreprocess\u001b[39m.\u001b[39mSpanishPreprocess()\n",
      "\u001b[0;31mAttributeError\u001b[0m: module 'spanish_nlp' has no attribute 'preprocess'"
     ]
    }
   ],
   "source": []
  }
 ],
 "metadata": {
  "kernelspec": {
   "display_name": "tesis",
   "language": "python",
   "name": "python3"
  },
  "language_info": {
   "codemirror_mode": {
    "name": "ipython",
    "version": 3
   },
   "file_extension": ".py",
   "mimetype": "text/x-python",
   "name": "python",
   "nbconvert_exporter": "python",
   "pygments_lexer": "ipython3",
   "version": "3.9.13"
  },
  "orig_nbformat": 4,
  "vscode": {
   "interpreter": {
    "hash": "55f6ada9710d2be3261dfe6106fc8a8d32ccc4c77b66e487f6b103b7c5a66cc1"
   }
  }
 },
 "nbformat": 4,
 "nbformat_minor": 2
}
