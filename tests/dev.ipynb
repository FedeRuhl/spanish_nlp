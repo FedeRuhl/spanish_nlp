{
 "cells": [
  {
   "cell_type": "code",
   "execution_count": 67,
   "metadata": {},
   "outputs": [
    {
     "data": {
      "text/plain": [
       "'Tengo un   y '"
      ]
     },
     "execution_count": 67,
     "metadata": {},
     "output_type": "execute_result"
    }
   ],
   "source": [
    "import re\n",
    "\n",
    "def _remove_hashtags_(text):\n",
    "    \"\"\"Remove hashtags from text. By example:\n",
    "    \"Este es un texto con un hashtag: #hashtag\" -> \"Este es un texto con un hashtag:\"\n",
    "    \"Tengo un #hashtag1 #HashTag2 y #hasTag3\" -> \"Tengo un y\"\n",
    "    \"\"\"\n",
    "    return re.sub(r'#\\w+', '', text)\n",
    "\n",
    "text1 = \"Este es un texto con un hashtag: #háshtag\"\n",
    "text2 = \"Tengo un #hashtag1 #HashTag2 y #hasTag3\"\n",
    "\n",
    "_remove_hashtags_(text2)"
   ]
  }
 ],
 "metadata": {
  "kernelspec": {
   "display_name": "tesis",
   "language": "python",
   "name": "python3"
  },
  "language_info": {
   "codemirror_mode": {
    "name": "ipython",
    "version": 3
   },
   "file_extension": ".py",
   "mimetype": "text/x-python",
   "name": "python",
   "nbconvert_exporter": "python",
   "pygments_lexer": "ipython3",
   "version": "3.9.13"
  },
  "orig_nbformat": 4,
  "vscode": {
   "interpreter": {
    "hash": "55f6ada9710d2be3261dfe6106fc8a8d32ccc4c77b66e487f6b103b7c5a66cc1"
   }
  }
 },
 "nbformat": 4,
 "nbformat_minor": 2
}
