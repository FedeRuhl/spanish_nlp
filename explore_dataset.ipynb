{
 "cells": [
  {
   "cell_type": "code",
   "execution_count": 2,
   "metadata": {},
   "outputs": [],
   "source": [
    "import pandas as pd\n",
    "df = pd.read_pickle(\"data/data_classified.pkl\")\n",
    "df"
   ]
  },
  {
   "cell_type": "code",
   "execution_count": null,
   "metadata": {},
   "outputs": [
    {
     "data": {
      "application/vnd.jupyter.widget-view+json": {
       "model_id": "8cad8af4003540b0805a827bbf6e5df4",
       "version_major": 2,
       "version_minor": 0
      },
      "text/plain": [
       "Pandas Apply:   0%|          | 0/1096848 [00:00<?, ?it/s]"
      ]
     },
     "metadata": {},
     "output_type": "display_data"
    },
    {
     "data": {
      "application/vnd.jupyter.widget-view+json": {
       "model_id": "735dcb93ccae4c82b70e45457c502689",
       "version_major": 2,
       "version_minor": 0
      },
      "text/plain": [
       "Pandas Apply:   0%|          | 0/1096848 [00:00<?, ?it/s]"
      ]
     },
     "metadata": {},
     "output_type": "display_data"
    },
    {
     "data": {
      "application/vnd.jupyter.widget-view+json": {
       "model_id": "052b29498a9e44d78be282908a7e6e09",
       "version_major": 2,
       "version_minor": 0
      },
      "text/plain": [
       "Pandas Apply:   0%|          | 0/1096848 [00:00<?, ?it/s]"
      ]
     },
     "metadata": {},
     "output_type": "display_data"
    },
    {
     "data": {
      "application/vnd.jupyter.widget-view+json": {
       "model_id": "06c6b5537d774ef1a78c4fd98ba570f6",
       "version_major": 2,
       "version_minor": 0
      },
      "text/plain": [
       "Pandas Apply:   0%|          | 0/1096848 [00:00<?, ?it/s]"
      ]
     },
     "metadata": {},
     "output_type": "display_data"
    },
    {
     "data": {
      "application/vnd.jupyter.widget-view+json": {
       "model_id": "111c0709ca2849989f606ff5241a1c0a",
       "version_major": 2,
       "version_minor": 0
      },
      "text/plain": [
       "Pandas Apply:   0%|          | 0/1096848 [00:00<?, ?it/s]"
      ]
     },
     "metadata": {},
     "output_type": "display_data"
    }
   ],
   "source": [
    "import swifter\n",
    "# Split column with dict into separate columns\n",
    "hate_speech\t= df[\"hate_speech\"].swifter.apply(pd.Series)\n",
    "hate_speech.columns = [\"hate_speech__\" + c for c in list(hate_speech.columns)]\n",
    "\n",
    "toxic_speech = df[\"toxic_speech\"].swifter.apply(pd.Series)\n",
    "toxic_speech.columns = [\"toxic_speech___\" + c for c in list(toxic_speech.columns)]\n",
    "\n",
    "sentiment_analysis = df[\"sentiment_analysis\"].swifter.apply(pd.Series)\n",
    "sentiment_analysis.columns = [\"sentiment_analysis__\" + c for c in list(sentiment_analysis.columns)]\n",
    "\n",
    "emotion_analysis = df[\"emotion_analysis\"].swifter.apply(pd.Series)\n",
    "emotion_analysis.columns = [\"emotion_analysis__\" + c for c in list(emotion_analysis.columns)]\n",
    "\n",
    "irony_analysis = df[\"irony_analysis\"].swifter.apply(pd.Series)\n",
    "irony_analysis.columns = [\"irony_analysis__\" + c for c in list(irony_analysis.columns)]\n",
    "\n",
    "# sexist_analysis = df[\"sexist_analysis\"].swifter.apply(pd.Series)\n",
    "# sexist_analysis.columns = [\"sexist_analysis__\" + c for c in list(sexist_analysis.columns)]\n",
    "\n",
    "# racism_analysis = df[\"racism_analysis\"].swifter.apply(pd.Series)\n",
    "# racism_analysis.columns = [\"racism_analysis__\" + c for c in list(racism_analysis.columns)]\n"
   ]
  },
  {
   "cell_type": "code",
   "execution_count": null,
   "metadata": {},
   "outputs": [],
   "source": [
    "# Concat all df horizontally\n",
    "df_classified = pd.concat([df, hate_speech, toxic_speech, sentiment_analysis, emotion_analysis, irony_analysis], axis=1)"
   ]
  },
  {
   "cell_type": "code",
   "execution_count": null,
   "metadata": {},
   "outputs": [],
   "source": []
  },
  {
   "cell_type": "code",
   "execution_count": null,
   "metadata": {},
   "outputs": [],
   "source": [
    "columns_to_delete = [\"user_id\", \"text\", \"hate_speech\", \"toxic_speech\", \"sentiment_analysis\", \"emotion_analysis\", \"irony_analysis\"]#, \"sexist_analysis\", \"racism_analysis\"]\n",
    "\n",
    "for c in columns_to_delete:\n",
    "    del df_classified[c]"
   ]
  },
  {
   "cell_type": "code",
   "execution_count": null,
   "metadata": {},
   "outputs": [],
   "source": [
    "df_classified.to_csv(\"data/data_classified.csv\", index=False)\n"
   ]
  },
  {
   "cell_type": "code",
   "execution_count": null,
   "metadata": {},
   "outputs": [
    {
     "data": {
      "text/plain": [
       "Index(['date', 'candidato', 'source', 'hate_speech__hateful',\n",
       "       'hate_speech__aggressive', 'hate_speech__targeted',\n",
       "       'toxic_speech___toxic', 'toxic_speech___very_toxic',\n",
       "       'sentiment_analysis__negative', 'sentiment_analysis__neutral',\n",
       "       'sentiment_analysis__positive', 'emotion_analysis__anger',\n",
       "       'emotion_analysis__others', 'emotion_analysis__disgust',\n",
       "       'emotion_analysis__sadness', 'emotion_analysis__joy',\n",
       "       'emotion_analysis__surprise', 'emotion_analysis__fear',\n",
       "       'irony_analysis__not_ironic', 'irony_analysis__ironic'],\n",
       "      dtype='object')"
      ]
     },
     "execution_count": 6,
     "metadata": {},
     "output_type": "execute_result"
    }
   ],
   "source": [
    "df_classified.columns"
   ]
  },
  {
   "cell_type": "code",
   "execution_count": null,
   "metadata": {},
   "outputs": [],
   "source": [
    "import plotly.express as px\n",
    "\n",
    "fig = px.violin(df_classified, y=\"hate_speech__hateful\", x=\"candidato\", color=\"source\", box=True,\n",
    "          hover_data=df_classified.columns)\n",
    "#fig.show()"
   ]
  },
  {
   "cell_type": "code",
   "execution_count": null,
   "metadata": {},
   "outputs": [],
   "source": [
    "type_analysis = ['hate_speech__hateful',\n",
    "       'hate_speech__aggressive', 'hate_speech__targeted',\n",
    "       'toxic_speech___toxic', 'toxic_speech___very_toxic',\n",
    "       'sentiment_analysis__negative', 'sentiment_analysis__neutral',\n",
    "       'sentiment_analysis__positive', 'emotion_analysis__anger',\n",
    "       'emotion_analysis__others', 'emotion_analysis__disgust',\n",
    "       'emotion_analysis__sadness', 'emotion_analysis__joy',\n",
    "       'emotion_analysis__surprise', 'emotion_analysis__fear',\n",
    "       'irony_analysis__not_ironic', 'irony_analysis__ironic']"
   ]
  },
  {
   "cell_type": "code",
   "execution_count": null,
   "metadata": {},
   "outputs": [],
   "source": [
    "plots = []\n",
    "for a in type_analysis:\n",
    "    plots.append(px.violin(df_classified, y=a, x=\"candidato\", color=\"source\", box=True,\n",
    "          hover_data=df_classified.columns, title=a))\n",
    "\n",
    "with open('data/violin_plot.html', 'a') as f:\n",
    "    for p in plots:\n",
    "        f.write(p.to_html(full_html=False, include_plotlyjs='cdn'))\n"
   ]
  }
 ],
 "metadata": {
  "kernelspec": {
   "display_name": "Python 3.9.12 ('ds')",
   "language": "python",
   "name": "python3"
  },
  "language_info": {
   "codemirror_mode": {
    "name": "ipython",
    "version": 3
   },
   "file_extension": ".py",
   "mimetype": "text/x-python",
   "name": "python",
   "nbconvert_exporter": "python",
   "pygments_lexer": "ipython3",
   "version": "3.9.12"
  },
  "orig_nbformat": 4,
  "vscode": {
   "interpreter": {
    "hash": "16449dc0b7f2fda0ef27696825f8670a32395316a914f2c1655227f3236476f5"
   }
  }
 },
 "nbformat": 4,
 "nbformat_minor": 2
}
