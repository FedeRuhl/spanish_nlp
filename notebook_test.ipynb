{
 "cells": [
  {
   "cell_type": "code",
   "execution_count": 2,
   "metadata": {},
   "outputs": [
    {
     "name": "stdout",
     "output_type": "stream",
     "text": [
      "Text 1:  LAS RATAS QUE ESTÁN EN EL CONGRESO DEBERÍAN SER EXTERMINADAS\n",
      "Prediction 1:  {'hateful': 0.29868438839912415, 'aggressive': 0.1646653413772583, 'targeted': 0.0075755491852760315}\n",
      "Text 2:  El presidente convocó a una reunión a los representantes de los partidos políticos\n",
      "Prediction 2:  {'targeted': 0.013353983871638775, 'aggressive': 0.010659483261406422, 'hateful': 0.009115356020629406}\n"
     ]
    }
   ],
   "source": [
    "from spanish_nlp import classifiers\n",
    "\n",
    "sc = classifiers.SpanishClassifier(model_name=\"hate_speech\", device='cpu')\n",
    "t1 =  \"LAS RATAS QUE ESTÁN EN EL CONGRESO DEBERÍAN SER EXTERMINADAS\"\n",
    "t2 = \"El presidente convocó a una reunión a los representantes de los partidos políticos\"\n",
    "p1 = sc.predict(t1)\n",
    "p2 = sc.predict(t2)\n",
    "\n",
    "print(\"Text 1: \", t1)\n",
    "print(\"Prediction 1: \", p1)\n",
    "print(\"Text 2: \", t2)\n",
    "print(\"Prediction 2: \", p2)"
   ]
  }
 ],
 "metadata": {
  "kernelspec": {
   "display_name": "tesis",
   "language": "python",
   "name": "python3"
  },
  "language_info": {
   "codemirror_mode": {
    "name": "ipython",
    "version": 3
   },
   "file_extension": ".py",
   "mimetype": "text/x-python",
   "name": "python",
   "nbconvert_exporter": "python",
   "pygments_lexer": "ipython3",
   "version": "3.9.13"
  },
  "orig_nbformat": 4,
  "vscode": {
   "interpreter": {
    "hash": "55f6ada9710d2be3261dfe6106fc8a8d32ccc4c77b66e487f6b103b7c5a66cc1"
   }
  }
 },
 "nbformat": 4,
 "nbformat_minor": 2
}
