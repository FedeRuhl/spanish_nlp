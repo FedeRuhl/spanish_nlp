{
 "cells": [
  {
   "cell_type": "code",
   "execution_count": 51,
   "metadata": {},
   "outputs": [
    {
     "data": {
      "text/plain": [
       "'En aquel entonces casi tenía veinte años y estaba loco. Había perdido un país pero había logrado un sueño. Y si tenía ese sueño lo siguiente no importaba. Ni trabajar ni rezar y estudiar en la madrugada ni a los perros románticos.'"
      ]
     },
     "execution_count": 51,
     "metadata": {},
     "output_type": "execute_result"
    }
   ],
   "source": [
    "from random import randint\n",
    "from transformers import pipeline\n",
    "import numpy as np\n",
    "\n",
    "fillmask = pipeline(\"fill-mask\", model=\"dccuchile/bert-base-spanish-wwm-cased\")\n",
    "mask_token = fillmask.tokenizer.mask_token\n",
    "\"s\"\n",
    "def augment_data(sentence, aug_percent, stopwords=[\"un\", \"de\", \"si\", \"soy\"]):\n",
    "    outputs = []\n",
    "    words = sentence.split(' ')\n",
    "    n_stopwords = sum([1 for word in words if word in stopwords])\n",
    "    n_total_words = len(words) - n_stopwords\n",
    "\n",
    "    num_words = int(n_total_words * aug_percent)\n",
    "    # Get num_words int without replacement from 0 to len(words) if words[K] not in stopwords\n",
    "    K_list = []\n",
    "    \n",
    "    while len(K_list) < num_words:\n",
    "        K = np.random.randint(0, len(words))\n",
    "        if words[K] not in stopwords:\n",
    "            K_list.append(K)    \n",
    "\n",
    "    \n",
    "    for K in K_list:\n",
    "        words = sentence.split(' ')\n",
    "        masked_sentence = \" \".join(words[:K]  + [mask_token] + words[K+1:])\n",
    "        predictions = fillmask(masked_sentence, top_k=10)\n",
    "        random_number = np.random.randint(0, 10)\n",
    "        new_word = predictions[random_number][\"token_str\"]\n",
    "        count = 0\n",
    "        while True:\n",
    "            count += 1\n",
    "            random_number = np.random.randint(0, 10)\n",
    "            if new_word not in stopwords:\n",
    "                break\n",
    "            elif count > 10:\n",
    "                break\n",
    "        sentence = predictions[random_number][\"sequence\"]\n",
    "    return sentence\n",
    "\n",
    "texts = \"En aquel tiempo yo tenía veinte años y estaba loco. Había perdido un país pero había ganado un sueño. Y si tenía ese sueño lo demás no importaba. Ni trabajar ni rezar ni estudiar en la madrugada junto a los perros románticos.\"\n",
    "\n",
    "augmented_texts = augment_data(texts, aug_percent=0.2)\n",
    "augmented_texts\n"
   ]
  },
  {
   "cell_type": "code",
   "execution_count": 52,
   "metadata": {},
   "outputs": [
    {
     "data": {
      "text/plain": [
       "') En por aquel tiempo yo tenía veinte años y estaba loco. - Había perdido un país pero había ganado un hermoso sueño. Y si ella tenía ese sueño lo demás no importaba. Ni trabajar ni rezar ni no estudiar en la madrugada dormir junto a los perros románticos.'"
      ]
     },
     "execution_count": 52,
     "metadata": {},
     "output_type": "execute_result"
    }
   ],
   "source": [
    "def augment_data_inserting(sentence, aug_percent, stopwords=[\"un\", \"de\", \"si\", \"soy\"]):\n",
    "    \"\"\" Insert a aug_percent% of words within the sentence ((not after punctuation marks)\"\"\"\n",
    "    outputs = []\n",
    "    words = sentence.split(' ')\n",
    "    n_stopwords = sum([1 for word in words if word in stopwords])\n",
    "    n_total_words = len(words) - n_stopwords\n",
    "\n",
    "    num_words = int(n_total_words * aug_percent)\n",
    "    # Get num_words int without replacement from 0 to len(words) if words[K] not in stopwords\n",
    "    K_list = []\n",
    "    \n",
    "    while len(K_list) < num_words:\n",
    "        K = np.random.randint(0, len(words))\n",
    "        if words[K] not in stopwords:\n",
    "            K_list.append(K)    \n",
    "\n",
    "    \n",
    "    for K in K_list:\n",
    "        words = sentence.split(' ')\n",
    "        masked_sentence = \" \".join(words[:K]  + [mask_token] + words[K:])\n",
    "        predictions = fillmask(masked_sentence, top_k=10)\n",
    "        random_number = np.random.randint(0, 10)\n",
    "        new_word = predictions[random_number][\"token_str\"]\n",
    "        count = 0\n",
    "        while True:\n",
    "            count += 1\n",
    "            random_number = np.random.randint(0, 10)\n",
    "            if new_word not in stopwords:\n",
    "                break\n",
    "            elif count > 10:\n",
    "                break\n",
    "        sentence = predictions[random_number][\"sequence\"]\n",
    "    return sentence\n",
    "\n",
    "texts = \"En aquel tiempo yo tenía veinte años y estaba loco. Había perdido un país pero había ganado un sueño. Y si tenía ese sueño lo demás no importaba. Ni trabajar ni rezar ni estudiar en la madrugada junto a los perros románticos.\"\n",
    "\n",
    "augmented_texts = augment_data_inserting(texts, aug_percent=0.2)\n",
    "augmented_texts\n"
   ]
  },
  {
   "cell_type": "code",
   "execution_count": 44,
   "metadata": {},
   "outputs": [
    {
     "data": {
      "text/plain": [
       "'!\"#$%&\\'()*+,-./:;<=>?@[\\\\]^_`{|}~'"
      ]
     },
     "execution_count": 44,
     "metadata": {},
     "output_type": "execute_result"
    }
   ],
   "source": []
  }
 ],
 "metadata": {
  "kernelspec": {
   "display_name": "tesis",
   "language": "python",
   "name": "python3"
  },
  "language_info": {
   "codemirror_mode": {
    "name": "ipython",
    "version": 3
   },
   "file_extension": ".py",
   "mimetype": "text/x-python",
   "name": "python",
   "nbconvert_exporter": "python",
   "pygments_lexer": "ipython3",
   "version": "3.9.13"
  },
  "orig_nbformat": 4,
  "vscode": {
   "interpreter": {
    "hash": "55f6ada9710d2be3261dfe6106fc8a8d32ccc4c77b66e487f6b103b7c5a66cc1"
   }
  }
 },
 "nbformat": 4,
 "nbformat_minor": 2
}
