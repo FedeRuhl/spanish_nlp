{
 "cells": [
  {
   "attachments": {},
   "cell_type": "markdown",
   "metadata": {},
   "source": [
    "# Spanish NLP: Data Augmentation Notebook\n",
    "\n",
    "For more information visit [spanish_nlp](https://github.com/jorgeortizfuentes/spanish_nlp) repository on GitHub."
   ]
  },
  {
   "attachments": {},
   "cell_type": "markdown",
   "metadata": {},
   "source": [
    "## Available models\n",
    "\n",
    "| **Models**               | **Methods**             | **Name to load**  |\n",
    "|--------------------------|-------------------------|-------------------|\n",
    "| Spelling augmentation    | Keyboard spelling       | keyboard          |\n",
    "|                          | OCR spelling            | ocr               |\n",
    "|                          | Random spelling         | random            |\n",
    "|                          | Grapheme spelling       | grapheme_spelling |\n",
    "|                          | Word spelling           | word_spelling     |\n",
    "|                          | Remove punctuation      | remove_punctuation|\n",
    "|                          | Remove accents          | remove_accents    |\n",
    "|                          | Lowercase               | lowercase         |\n",
    "|                          | Uppercase               | uppercase         |\n",
    "|                          | Randomcase              | randomcase        |\n",
    "|                          | Combine all methods     | all               | \n",
    "| Masked augmentation      | Sustitute words         | sustitute         |\n",
    "|                          | Insert words            | insert            |\n",
    "| Synonyms                 | Pending development     |                   |\n",
    "| WordEmbeddings           | Pending development     |                   |\n",
    "| GenerativeOpenSource     | Pending development     |                   |\n",
    "| GenerativeOpenAI         | Pending development     |                   |\n",
    "| BackTranslation          | Pending development     |                   |\n",
    "| AbstractiveSummarization | Pending development     |                   |\n",
    "\n",
    "\n",
    "Others models are under development (such as Synonyms, WordEmbeddings, GenerativeOpenSource, GenerativeOpenAI, BackTranslation, AbstractiveSummarization)\n"
   ]
  },
  {
   "attachments": {},
   "cell_type": "markdown",
   "metadata": {},
   "source": [
    "## Quick usage"
   ]
  },
  {
   "cell_type": "code",
   "execution_count": 1,
   "metadata": {},
   "outputs": [],
   "source": [
    "from spanish_nlp import augmentation\n",
    "\n",
    "text = \"En aquel tiempo yo tenía veinte años y estaba loco. Había perdido un país pero había ganado un sueño. Y si tenía ese sueño lo demás no importaba. Ni trabajar ni rezar ni estudiar en la madrugada junto a los perros románticos.\"\n"
   ]
  },
  {
   "cell_type": "code",
   "execution_count": 2,
   "metadata": {},
   "outputs": [
    {
     "name": "stdout",
     "output_type": "stream",
     "text": [
      "En aquel tiempo yo tenía veinte años y estaba loco. Había perdido un país pero había ganado un sueño. Y si tenía ese sueño lo demás no importaba. Ni trabajar ni rezar ni estudiar en la madrugada junto a los perros románticos.\n",
      "---\n",
      "['En aque1 ti3mpo yo tenía Ueint3 años y estaEa lQco. 4abía Rer0idQ Vn Raí8 Rero había ganado un 8Veño. Y 5i t3nía 3se Bu3no lo demás no importaba. NI tPabajar n1 rezar ni estudiaP en la madrugada jVn7Q a lo5 p3PPos romántiGos.']\n",
      "---\n",
      "['En aquel tiemoo yk tenís veintw qñps y dstaba iico. Habíx peddjdo un laíx perp yabíw vxnaro uh sueño. Y si yenía rse euell li demás jo impprtabq. Ni ttqbxjar ni rszaf ni esfhdiar en la kadrugawa nuntp z kos pefrod rományicox.']\n",
      "---\n",
      "['En akel tienpo yo tenía veinte años y estaba loco. Había perdido um país pero  abía jamado un sueño. Y si temía ese sueño lo demás no importaba. Ni travajar ni rezar ni estudiar en la nadrugada junto a los perros románticos.']\n",
      "---\n",
      "['En aquel tiempo yo tenía veinte, pero estaba loco. Había destruido el país pero había ganado un sueño. Y si tenía ese sueño lo demás nada importaba. Nada trabajar ni rezar ni estudiar en plena madrugada junto a los perros románticos.']\n",
      "---\n",
      "['En aquel tiempo yo tenía veinte años y estaba loco. ¡ Eh Ah Y yo Había perdido un país estúpido estúpido país pero había ganado un bonito sueño. Y si tenía yo ese estúpido sueño, lo demás no más importaba. Ni trabajar ni hacer rezar ni estudiar en casa la ciudad madrugada junto a los perros románticos.']\n",
      "---\n"
     ]
    }
   ],
   "source": [
    "ocr = augmentation.Spelling(method=\"ocr\", \n",
    "                            stopwords=\"default\", \n",
    "                            aug_percent=0.3, \n",
    "                            tokenizer=\"default\")\n",
    "\n",
    "keyboard = augmentation.Spelling(method=\"keyboard\", \n",
    "                                    stopwords=\"default\", \n",
    "                                    aug_percent=0.3, \n",
    "                                    tokenizer=\"default\")\n",
    "\n",
    "grapheme_spelling = augmentation.Spelling(method=\"grapheme_spelling\", \n",
    "                                    stopwords=\"default\", \n",
    "                                    aug_percent=0.3, \n",
    "                                    tokenizer=\"default\")\n",
    "\n",
    "masked_sustitute = augmentation.Masked(method=\"sustitute\", \n",
    "                                       model=\"dccuchile/bert-base-spanish-wwm-cased\",\n",
    "                                       tokenizer=\"default\",\n",
    "                                       stopwords=\"default\",\n",
    "                                       aug_percent=0.4,\n",
    "                                       device=\"cpu\",\n",
    "                                       top_k=10)\n",
    "\n",
    "masked_insert = augmentation.Masked(method=\"insert\", \n",
    "                                    model=\"dccuchile/bert-base-spanish-wwm-cased\",\n",
    "                                    tokenizer=\"default\",\n",
    "                                    stopwords=\"default\",\n",
    "                                    aug_percent=0.4,\n",
    "                                    device=\"cpu\",\n",
    "                                    top_k=10)\n",
    "\n",
    "new_texts = [text]\n",
    "new_texts.append(ocr.augment(text, num_samples=1, num_workers=1))\n",
    "new_texts.append(keyboard.augment(text, num_samples=1, num_workers=1))\n",
    "new_texts.append(grapheme_spelling.augment(text, num_samples=1, num_workers=1))\n",
    "new_texts.append(masked_sustitute.augment(text, num_samples=1))\n",
    "new_texts.append(masked_insert.augment(text, num_samples=1))\n",
    "\n",
    "for t in new_texts:\n",
    "    print(t)\n",
    "    print(\"---\")"
   ]
  },
  {
   "cell_type": "code",
   "execution_count": 3,
   "metadata": {},
   "outputs": [
    {
     "data": {
      "text/plain": [
       "['En squel tidmok yo yenía veinte xpoe j estsba loco. Havíw legdudl yn pxís pero había gznaeo um dueño. Y sl tfnía ese sueñk po semás no iklorrabw. Ni tfabaiwr ni rezag no eqrudiar sn la mxdruhadz junrk a lps petdos gpmánhidos.']"
      ]
     },
     "execution_count": 3,
     "metadata": {},
     "output_type": "execute_result"
    }
   ],
   "source": [
    "keyboard = augmentation.Spelling(method=\"keyboard\", \n",
    "                                    stopwords=\"default\", \n",
    "                                    aug_percent=0.3, \n",
    "                                    tokenizer=\"default\")\n",
    "\n",
    "keyboard.augment(text, num_samples=1)"
   ]
  },
  {
   "cell_type": "code",
   "execution_count": 4,
   "metadata": {},
   "outputs": [
    {
     "data": {
      "text/plain": [
       "['En a9Vel tieWp0 y0 t3nía v3inte aNos y e8taba loco. Ha8ía Rer0ido Vn paíB R3ro había ganado un sueño. V si tenía ese sVeñ0 Io demáB n0 importa8a. Ni 7rabaLaP n1 re2ar nI 3studiar en la madruCada LVnto a los p3rro8 rQmán7ico5.']"
      ]
     },
     "execution_count": 4,
     "metadata": {},
     "output_type": "execute_result"
    }
   ],
   "source": [
    "ocr = augmentation.Spelling(method=\"ocr\", \n",
    "                            stopwords=\"default\", \n",
    "                            aug_percent=0.3, \n",
    "                            tokenizer=\"default\")\n",
    "\n",
    "ocr.augment(text, num_samples=1)"
   ]
  },
  {
   "cell_type": "code",
   "execution_count": 5,
   "metadata": {},
   "outputs": [
    {
     "data": {
      "text/plain": [
       "['En aquel tiempó yJ tenía veinte años y estaba lwco. Había Yerdido un áaís pero había ganado un sueño. Y si tenía ese sueño lo demás no importaba. Ni traPajar ni vezar nP ístudiar en la oadruxada junto a los perros románticos.']"
      ]
     },
     "execution_count": 5,
     "metadata": {},
     "output_type": "execute_result"
    }
   ],
   "source": [
    "random = augmentation.Spelling(method=\"random\",\n",
    "                                    stopwords=\"default\", \n",
    "                                    aug_percent=0.05, \n",
    "                                    tokenizer=\"default\")\n",
    "\n",
    "random.augment(text, num_samples=1)"
   ]
  },
  {
   "cell_type": "code",
   "execution_count": 6,
   "metadata": {},
   "outputs": [
    {
     "data": {
      "text/plain": [
       "['En aquel tiempo yo tenía veinte años y estava loco. Havía perdido un país pero havía janado um sueño. Y si tenía ese sueño lo denás no importaba. Ni travajar ni rezar ni estudiar em la madrugada gunto a los perros románticos.']"
      ]
     },
     "execution_count": 6,
     "metadata": {},
     "output_type": "execute_result"
    }
   ],
   "source": [
    "grapheme_spelling = augmentation.Spelling(method=\"grapheme_spelling\", \n",
    "                                    stopwords=\"default\", \n",
    "                                    aug_percent=0.3, \n",
    "                                    tokenizer=\"default\")\n",
    "\n",
    "grapheme_spelling.augment(text, num_samples=1)"
   ]
  },
  {
   "cell_type": "code",
   "execution_count": 7,
   "metadata": {},
   "outputs": [
    {
     "name": "stdout",
     "output_type": "stream",
     "text": [
      "2\n"
     ]
    },
    {
     "data": {
      "text/plain": [
       "['por favor, no creo q aiga nada mas importante q la libertad de expresion']"
      ]
     },
     "execution_count": 7,
     "metadata": {},
     "output_type": "execute_result"
    }
   ],
   "source": [
    "word_spelling = augmentation.Spelling(method=\"word_spelling\", \n",
    "                                    stopwords=\"default\", \n",
    "                                    aug_percent=0.3, \n",
    "                                    tokenizer=\"default\")\n",
    "\n",
    "text2 = \"por favor, no creo que haya nada mas importante que la libertad de expresion\"\n",
    "word_spelling.augment(text2, num_samples=1)"
   ]
  },
  {
   "cell_type": "code",
   "execution_count": 8,
   "metadata": {},
   "outputs": [
    {
     "data": {
      "text/plain": [
       "['por favor no creo que haya nada mas importante que la libertad de expresion']"
      ]
     },
     "execution_count": 8,
     "metadata": {},
     "output_type": "execute_result"
    }
   ],
   "source": [
    "remove_punctuation = augmentation.Spelling(method=\"remove_punctuation\",\n",
    "                                    stopwords=\"default\", \n",
    "                                    aug_percent=0.5, \n",
    "                                    tokenizer=\"default\")\n",
    "\n",
    "remove_punctuation.augment(text, num_samples=1)"
   ]
  },
  {
   "cell_type": "code",
   "execution_count": 9,
   "metadata": {},
   "outputs": [
    {
     "data": {
      "text/plain": [
       "['por favor, no creo que haya nada mas importante que la libertad de expresion']"
      ]
     },
     "execution_count": 9,
     "metadata": {},
     "output_type": "execute_result"
    }
   ],
   "source": [
    "remove_accents = augmentation.Spelling(method=\"remove_accents\",\n",
    "                                       stopwords=\"default\", \n",
    "                                       aug_percent=0.5, \n",
    "                                       tokenizer=\"default\")\n",
    "\n",
    "remove_accents.augment(text, num_samples=1)"
   ]
  },
  {
   "cell_type": "code",
   "execution_count": 10,
   "metadata": {},
   "outputs": [
    {
     "data": {
      "text/plain": [
       "['por favor, no creo que haya nada mas importante que la libertad de expresion']"
      ]
     },
     "execution_count": 10,
     "metadata": {},
     "output_type": "execute_result"
    }
   ],
   "source": [
    "lowercase = augmentation.Spelling(method=\"lowercase\",\n",
    "                                    stopwords=\"default\", \n",
    "                                    aug_percent=0.3, \n",
    "                                    tokenizer=\"default\")\n",
    "\n",
    "lowercase.augment(text, num_samples=1)\n"
   ]
  },
  {
   "cell_type": "code",
   "execution_count": 11,
   "metadata": {},
   "outputs": [
    {
     "data": {
      "text/plain": [
       "['POR favor, no creo que haya nada mas IMPORTANTE que la libertad de expresion']"
      ]
     },
     "execution_count": 11,
     "metadata": {},
     "output_type": "execute_result"
    }
   ],
   "source": [
    "uppercase = augmentation.Spelling(method=\"uppercase\",\n",
    "                                    stopwords=\"default\", \n",
    "                                    aug_percent=0.1, \n",
    "                                    tokenizer=\"default\")\n",
    "\n",
    "uppercase.augment(text, num_samples=1)"
   ]
  },
  {
   "cell_type": "code",
   "execution_count": 12,
   "metadata": {},
   "outputs": [
    {
     "data": {
      "text/plain": [
       "['por favor, NO creo que haya nada mas importante que la libertad DE expresion']"
      ]
     },
     "execution_count": 12,
     "metadata": {},
     "output_type": "execute_result"
    }
   ],
   "source": [
    "randomcase = augmentation.Spelling(method=\"randomcase\",\n",
    "                                    stopwords=\"default\", \n",
    "                                    aug_percent=0.3, \n",
    "                                    tokenizer=\"default\")\n",
    "\n",
    "randomcase.augment(text, num_samples=1)"
   ]
  },
  {
   "cell_type": "code",
   "execution_count": 13,
   "metadata": {},
   "outputs": [
    {
     "data": {
      "text/plain": [
       "['por favor no creo que haya nada mas importante que la lkbertad de expresion']"
      ]
     },
     "execution_count": 13,
     "metadata": {},
     "output_type": "execute_result"
    }
   ],
   "source": [
    "all = augmentation.Spelling(method=\"all\", \n",
    "                            stopwords=\"default\", \n",
    "                            aug_percent=0.1, \n",
    "                            tokenizer=\"default\")\n",
    "\n",
    "all.augment(text, num_samples=1)"
   ]
  }
 ],
 "metadata": {
  "kernelspec": {
   "display_name": "py310",
   "language": "python",
   "name": "python3"
  },
  "language_info": {
   "codemirror_mode": {
    "name": "ipython",
    "version": 3
   },
   "file_extension": ".py",
   "mimetype": "text/x-python",
   "name": "python",
   "nbconvert_exporter": "python",
   "pygments_lexer": "ipython3",
   "version": "3.10.8"
  },
  "orig_nbformat": 4,
  "vscode": {
   "interpreter": {
    "hash": "d1a940d2a5a085e4f840c6fa90dace1e4a81d9a7fba180f0fcbb4947149ff9d2"
   }
  }
 },
 "nbformat": 4,
 "nbformat_minor": 2
}
