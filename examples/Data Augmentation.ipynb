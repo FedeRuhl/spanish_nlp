{
 "cells": [
  {
   "attachments": {},
   "cell_type": "markdown",
   "metadata": {},
   "source": [
    "# Spanish NLP: Data Augmentation Notebook\n",
    "\n",
    "For more information visit [spanish_nlp](https://github.com/jorgeortizfuentes/spanish_nlp) repository on GitHub."
   ]
  },
  {
   "attachments": {},
   "cell_type": "markdown",
   "metadata": {},
   "source": [
    "## Available models\n",
    "\n",
    "| **Models**               | **Methods**             | **Name to load**  |\n",
    "|--------------------------|-------------------------|-------------------|\n",
    "| Spelling augmentation    | Keyboard spelling       | keyboard          |\n",
    "|                          | OCR spelling            | ocr               |\n",
    "|                          | Random spelling         | random            |\n",
    "|                          | Grapheme spelling       | grapheme_spelling |\n",
    "|                          | Word spelling           | word_spelling     |\n",
    "|                          | Remove punctuation      | remove_punctuation|\n",
    "|                          | Remove accents          | remove_accents    |\n",
    "|                          | Lowercase               | lowercase         |\n",
    "|                          | Uppercase               | uppercase         |\n",
    "|                          | Randomcase              | randomcase        |\n",
    "|                          | Combine all methods     | all               | \n",
    "| Masked augmentation      | Sustitute words         | sustitute         |\n",
    "|                          | Insert words            | insert            |\n",
    "| Synonyms                 | Pending development     |                   |\n",
    "| WordEmbeddings           | Pending development     |                   |\n",
    "| GenerativeOpenSource     | Pending development     |                   |\n",
    "| GenerativeOpenAI         | Pending development     |                   |\n",
    "| BackTranslation          | Pending development     |                   |\n",
    "| AbstractiveSummarization | Pending development     |                   |\n",
    "\n",
    "\n",
    "Others models are under development (such as Synonyms, WordEmbeddings, GenerativeOpenSource, GenerativeOpenAI, BackTranslation, AbstractiveSummarization)\n"
   ]
  },
  {
   "attachments": {},
   "cell_type": "markdown",
   "metadata": {},
   "source": [
    "## Quick usage"
   ]
  },
  {
   "cell_type": "code",
   "execution_count": 1,
   "metadata": {},
   "outputs": [],
   "source": [
    "from spanish_nlp import augmentation\n",
    "\n",
    "text = \"En aquel tiempo yo tenía veinte años y estaba loco. Había perdido un país pero había ganado un sueño. Y si tenía ese sueño lo demás no importaba. Ni trabajar ni rezar ni estudiar en la madrugada junto a los perros románticos.\"\n"
   ]
  },
  {
   "cell_type": "code",
   "execution_count": 2,
   "metadata": {},
   "outputs": [
    {
     "name": "stdout",
     "output_type": "stream",
     "text": [
      "En aquel tiempo yo tenía veinte años y estaba loco. Había perdido un país pero había ganado un sueño. Y si tenía ese sueño lo demás no importaba. Ni trabajar ni rezar ni estudiar en la madrugada junto a los perros románticos.\n",
      "---\n",
      "['3n aque1 ti3mRo y0 t3nía veIn7e anos y es7aEa loco. Había per0ido un Raís pero 4abía ganaOQ un 8u3ño. V sI tenía 3s3 5ueNo l0 d3más no ImportaEa. N1 trabajar ni reZar n1 3stu0Iar en ia madPVga0a jVn7o a los p3rPos rQmánticos.']\n",
      "---\n",
      "['En aqusñ hiemoo yo temía veintf sops y estqgq lpco. Hagíq perdido un oqíx leeo yabía ganado un sysli. Y si tebíx ewe sueño ko denáx no importabs. Ni tfabsmar ni rwzwd nl estudiae rn oz macrugada jkmto a lod perris gomántidke.']\n",
      "---\n",
      "['En aquel tienpo llo tenía veinte años y estaba loco. Havía perdido um país pero havía janado un sueño. Y si tenía ese sueño lo demás no inportaba. Ni trabagar ni rezar ni estudiar em la madrugada junto a los perros románticos.']\n",
      "---\n",
      "['En mi tiempo, tenía veinte años y estaba loco. Estaba perdido un país pero había ganado ese sueño. Y si tenía algún sueño lo demás no importaba. Ni trabajar ni rezar ni dormir en la madrugada junto a los perros románticos.']\n",
      "---\n",
      "['En aquel tiempo yo tenía tanto poder como veinte largos quizás tenía treinta años menos y estaba loco. Había perdido completamente un país pero había ganado un sueño. \" Y si tenía ese otro último sueño lo demás no importaba. Ni trabajar jamás ni rezar ni estudiar en la madrugada junto junto junto a los perros románticos.']\n",
      "---\n"
     ]
    }
   ],
   "source": [
    "ocr = augmentation.Spelling(method=\"ocr\", \n",
    "                            stopwords=\"default\", \n",
    "                            aug_percent=0.3, \n",
    "                            tokenizer=\"default\")\n",
    "\n",
    "keyboard = augmentation.Spelling(method=\"keyboard\", \n",
    "                                    stopwords=\"default\", \n",
    "                                    aug_percent=0.3, \n",
    "                                    tokenizer=\"default\")\n",
    "\n",
    "grapheme_spelling = augmentation.Spelling(method=\"grapheme_spelling\", \n",
    "                                    stopwords=\"default\", \n",
    "                                    aug_percent=0.3, \n",
    "                                    tokenizer=\"default\")\n",
    "\n",
    "masked_sustitute = augmentation.Masked(method=\"sustitute\", \n",
    "                                       model=\"dccuchile/bert-base-spanish-wwm-cased\",\n",
    "                                       tokenizer=\"default\",\n",
    "                                       stopwords=\"default\",\n",
    "                                       aug_percent=0.4,\n",
    "                                       device=\"cpu\",\n",
    "                                       top_k=10)\n",
    "\n",
    "masked_insert = augmentation.Masked(method=\"insert\", \n",
    "                                    model=\"dccuchile/bert-base-spanish-wwm-cased\",\n",
    "                                    tokenizer=\"default\",\n",
    "                                    stopwords=\"default\",\n",
    "                                    aug_percent=0.4,\n",
    "                                    device=\"cpu\",\n",
    "                                    top_k=10)\n",
    "\n",
    "new_texts = [text]\n",
    "new_texts.append(ocr.augment(text, num_samples=1, num_workers=1))\n",
    "new_texts.append(keyboard.augment(text, num_samples=1, num_workers=1))\n",
    "new_texts.append(grapheme_spelling.augment(text, num_samples=1, num_workers=1))\n",
    "new_texts.append(masked_sustitute.augment(text, num_samples=1))\n",
    "new_texts.append(masked_insert.augment(text, num_samples=1))\n",
    "\n",
    "for t in new_texts:\n",
    "    print(t)\n",
    "    print(\"---\")"
   ]
  },
  {
   "cell_type": "code",
   "execution_count": 3,
   "metadata": {},
   "outputs": [
    {
     "data": {
      "text/plain": [
       "['En qqufl tiempo yo twhía vwlhtr xños y edtaba loco. Había pdrdofo um país pero había gsjado ub susñl. Y su tebía ese sueño lp dfmás jk imñpftabs. Ni texbxjzr jo tezar hu ewtudiat en lq mqsruyara jknto z lls perros eománticis.']"
      ]
     },
     "execution_count": 3,
     "metadata": {},
     "output_type": "execute_result"
    }
   ],
   "source": [
    "keyboard = augmentation.Spelling(method=\"keyboard\", \n",
    "                                    stopwords=\"default\", \n",
    "                                    aug_percent=0.3, \n",
    "                                    tokenizer=\"default\")\n",
    "\n",
    "keyboard.augment(text, num_samples=1)"
   ]
  },
  {
   "cell_type": "code",
   "execution_count": 4,
   "metadata": {},
   "outputs": [
    {
     "data": {
      "text/plain": [
       "['3n aqu3l 71emp0 yo tenía veInte añQs V e8taEa lQGo. 4abía perdid0 un país RePo 4a8ía ganado un BVeNo. V si tenía es3 5ueno lo 03Wás no iWportaba. Ni 7rabajaP ni re2ar ni estudiaP en la Wadrugada jVnto a los p3rro5 románticos.']"
      ]
     },
     "execution_count": 4,
     "metadata": {},
     "output_type": "execute_result"
    }
   ],
   "source": [
    "ocr = augmentation.Spelling(method=\"ocr\", \n",
    "                            stopwords=\"default\", \n",
    "                            aug_percent=0.3, \n",
    "                            tokenizer=\"default\")\n",
    "\n",
    "ocr.augment(text, num_samples=1)"
   ]
  },
  {
   "cell_type": "code",
   "execution_count": 5,
   "metadata": {},
   "outputs": [
    {
     "data": {
      "text/plain": [
       "['In Bquel tiempo yo tenía veinte años y estaba loco. Había perdido uP país pero había ganado un sueCo. Y si tenía ese sueño lo demás no impor0aba. Ni traSajar ni r8zar ni estu4iar en la madrugada junto a los perros románticos.']"
      ]
     },
     "execution_count": 5,
     "metadata": {},
     "output_type": "execute_result"
    }
   ],
   "source": [
    "random = augmentation.Spelling(method=\"random\",\n",
    "                                    stopwords=\"default\", \n",
    "                                    aug_percent=0.05, \n",
    "                                    tokenizer=\"default\")\n",
    "\n",
    "random.augment(text, num_samples=1)"
   ]
  },
  {
   "cell_type": "code",
   "execution_count": 6,
   "metadata": {},
   "outputs": [
    {
     "data": {
      "text/plain": [
       "['En aquel tienpo llo tenía beinte años ll estaba loco. Había perdido un país pero había ganado un sueño. Y si tenía ese sueño lo demás mo importava. Ni travajar ni rezar ni estudiar em la madrugada jumto a los perros románticos.']"
      ]
     },
     "execution_count": 6,
     "metadata": {},
     "output_type": "execute_result"
    }
   ],
   "source": [
    "grapheme_spelling = augmentation.Spelling(method=\"grapheme_spelling\", \n",
    "                                    stopwords=\"default\", \n",
    "                                    aug_percent=0.3, \n",
    "                                    tokenizer=\"default\")\n",
    "\n",
    "grapheme_spelling.augment(text, num_samples=1)"
   ]
  },
  {
   "cell_type": "code",
   "execution_count": 7,
   "metadata": {},
   "outputs": [
    {
     "data": {
      "text/plain": [
       "[]"
      ]
     },
     "execution_count": 7,
     "metadata": {},
     "output_type": "execute_result"
    }
   ],
   "source": [
    "word_spelling = augmentation.Spelling(method=\"word_spelling\", \n",
    "                                    stopwords=\"default\", \n",
    "                                    aug_percent=0.3, \n",
    "                                    tokenizer=\"default\")\n",
    "\n",
    "word_spelling.augment(text, num_samples=1)"
   ]
  },
  {
   "cell_type": "code",
   "execution_count": 8,
   "metadata": {},
   "outputs": [
    {
     "data": {
      "text/plain": [
       "['En aquel tiempo yo tenía veinte años y estaba loco Había perdido un país pero había ganado un sueño.Y si tenía ese sueño lo demás no importaba. Ni trabajar ni rezar ni estudiar en la madrugada junto a los perros románticos.']"
      ]
     },
     "execution_count": 8,
     "metadata": {},
     "output_type": "execute_result"
    }
   ],
   "source": [
    "remove_punctuation = augmentation.Spelling(method=\"remove_punctuation\",\n",
    "                                    stopwords=\"default\", \n",
    "                                    aug_percent=0.5, \n",
    "                                    tokenizer=\"default\")\n",
    "\n",
    "remove_punctuation.augment(text, num_samples=1)"
   ]
  },
  {
   "cell_type": "code",
   "execution_count": 9,
   "metadata": {},
   "outputs": [
    {
     "data": {
      "text/plain": [
       "['En aquel tiempo yo tenia veinte años y estaba loco. Habia perdido un pais pero habia ganado un sueño. Y si tenía ese sueño lo demás no importaba. Ni trabajar ni rezar ni estudiar en la madrugada junto a los perros románticos.']"
      ]
     },
     "execution_count": 9,
     "metadata": {},
     "output_type": "execute_result"
    }
   ],
   "source": [
    "remove_accents = augmentation.Spelling(method=\"remove_accents\",\n",
    "                                       stopwords=\"default\", \n",
    "                                       aug_percent=0.5, \n",
    "                                       tokenizer=\"default\")\n",
    "\n",
    "remove_accents.augment(text, num_samples=1)"
   ]
  },
  {
   "cell_type": "code",
   "execution_count": 10,
   "metadata": {},
   "outputs": [
    {
     "data": {
      "text/plain": [
       "['en aquel tiempo yo tenía veinte años y estaba loco. Había perdido un país pero había ganado un sueño. y si tenía ese sueño lo demás no importaba. Ni trabajar ni rezar ni estudiar en la madrugada junto a los perros románticos.']"
      ]
     },
     "execution_count": 10,
     "metadata": {},
     "output_type": "execute_result"
    }
   ],
   "source": [
    "lowercase = augmentation.Spelling(method=\"lowercase\",\n",
    "                                    stopwords=\"default\", \n",
    "                                    aug_percent=0.3, \n",
    "                                    tokenizer=\"default\")\n",
    "\n",
    "lowercase.augment(text, num_samples=1)\n"
   ]
  },
  {
   "cell_type": "code",
   "execution_count": 11,
   "metadata": {},
   "outputs": [
    {
     "data": {
      "text/plain": [
       "['En aquel tiempo yo tenía veinte años Y estaba loco. Había PERDIDO UN país pero había ganado un sueño. Y si tenía ese sueño lo demás NO importaba. Ni trabajar ni rezar ni estudiar en la madrugada junto a los perros románticos.']"
      ]
     },
     "execution_count": 11,
     "metadata": {},
     "output_type": "execute_result"
    }
   ],
   "source": [
    "uppercase = augmentation.Spelling(method=\"uppercase\",\n",
    "                                    stopwords=\"default\", \n",
    "                                    aug_percent=0.1, \n",
    "                                    tokenizer=\"default\")\n",
    "\n",
    "uppercase.augment(text, num_samples=1)"
   ]
  },
  {
   "cell_type": "code",
   "execution_count": 12,
   "metadata": {},
   "outputs": [
    {
     "data": {
      "text/plain": [
       "['en aquel tiempo yo tenía VEINTE AÑOS y estaba loco. había perdido un país pero había GANADO UN sueño. y si tenía ESE sueño lo demás no importaba. ni trabajar ni rezar ni ESTUDIAR en LA madrugada junto A LOS perros románticos.']"
      ]
     },
     "execution_count": 12,
     "metadata": {},
     "output_type": "execute_result"
    }
   ],
   "source": [
    "randomcase = augmentation.Spelling(method=\"randomcase\",\n",
    "                                    stopwords=\"default\", \n",
    "                                    aug_percent=0.3, \n",
    "                                    tokenizer=\"default\")\n",
    "\n",
    "randomcase.augment(text, num_samples=1)"
   ]
  },
  {
   "cell_type": "code",
   "execution_count": 13,
   "metadata": {},
   "outputs": [
    {
     "data": {
      "text/plain": [
       "['en aau5l tiempo yo tenia veinte años y estaba loco había perdidy un país pero había ganado un sueño. y si tonía ese sueño lo demás no imrortaba. ni trabajar ni rezar ni estudiar en la maxrugada junto a los perros románticos.']"
      ]
     },
     "execution_count": 13,
     "metadata": {},
     "output_type": "execute_result"
    }
   ],
   "source": [
    "all = augmentation.Spelling(method=\"all\", \n",
    "                            stopwords=\"default\", \n",
    "                            aug_percent=0.1, \n",
    "                            tokenizer=\"default\")\n",
    "\n",
    "all.augment(text, num_samples=1)"
   ]
  }
 ],
 "metadata": {
  "kernelspec": {
   "display_name": "py310",
   "language": "python",
   "name": "python3"
  },
  "language_info": {
   "codemirror_mode": {
    "name": "ipython",
    "version": 3
   },
   "file_extension": ".py",
   "mimetype": "text/x-python",
   "name": "python",
   "nbconvert_exporter": "python",
   "pygments_lexer": "ipython3",
   "version": "3.10.8"
  },
  "orig_nbformat": 4,
  "vscode": {
   "interpreter": {
    "hash": "d1a940d2a5a085e4f840c6fa90dace1e4a81d9a7fba180f0fcbb4947149ff9d2"
   }
  }
 },
 "nbformat": 4,
 "nbformat_minor": 2
}
