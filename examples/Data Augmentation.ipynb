{
 "cells": [
  {
   "cell_type": "code",
   "execution_count": null,
   "metadata": {},
   "outputs": [],
   "source": [
    "from spanish_nlp import augmentation"
   ]
  }
 ],
 "metadata": {
  "kernelspec": {
   "display_name": "tesis",
   "language": "python",
   "name": "python3"
  },
  "language_info": {
   "name": "python",
   "version": "3.9.13"
  },
  "orig_nbformat": 4,
  "vscode": {
   "interpreter": {
    "hash": "55f6ada9710d2be3261dfe6106fc8a8d32ccc4c77b66e487f6b103b7c5a66cc1"
   }
  }
 },
 "nbformat": 4,
 "nbformat_minor": 2
}
