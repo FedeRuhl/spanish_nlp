{
 "cells": [
  {
   "attachments": {},
   "cell_type": "markdown",
   "metadata": {},
   "source": [
    "# Spanish NLP: Data Augmentation Notebook\n",
    "\n",
    "For more information visit [spanish_nlp](https://github.com/jorgeortizfuentes/spanish_nlp) repository on GitHub."
   ]
  },
  {
   "attachments": {},
   "cell_type": "markdown",
   "metadata": {},
   "source": [
    "## Available models\n",
    "\n",
    "| **Models**               | **Methods**             | **Name to load**  |\n",
    "|--------------------------|-------------------------|-------------------|\n",
    "| Spelling augmentation    | Keyboard spelling       | keyboard          |\n",
    "|                          | OCR spelling            | ocr               |\n",
    "|                          | Random spelling         | random            |\n",
    "|                          | Grapheme spelling       | grapheme_spelling |\n",
    "|                          | Word spelling           | word_spelling     |\n",
    "|                          | Remove punctuation      | remove_punctuation|\n",
    "|                          | Remove spaces           | remove_spaces     |\n",
    "|                          | Remove accents          | remove_accents    |\n",
    "|                          | Lowercase               | lowercase         |\n",
    "|                          | Uppercase               | uppercase         |\n",
    "|                          | Randomcase              | randomcase        |\n",
    "|                          | Combine all methods     | all               | \n",
    "| Masked augmentation      | Sustitute words         | sustitute         |\n",
    "|                          | Insert words            | insert            |\n",
    "| Synonyms                 | Pending development     |                   |\n",
    "| WordEmbeddings           | Pending development     |                   |\n",
    "| GenerativeOpenSource     | Pending development     |                   |\n",
    "| GenerativeOpenAI         | Pending development     |                   |\n",
    "| BackTranslation          | Pending development     |                   |\n",
    "| AbstractiveSummarization | Pending development     |                   |\n",
    "\n",
    "\n",
    "Others models are under development (such as Synonyms, WordEmbeddings, GenerativeOpenSource, GenerativeOpenAI, BackTranslation, AbstractiveSummarization)\n"
   ]
  },
  {
   "attachments": {},
   "cell_type": "markdown",
   "metadata": {},
   "source": [
    "## Quick usage"
   ]
  },
  {
   "cell_type": "code",
   "execution_count": 1,
   "metadata": {},
   "outputs": [
    {
     "name": "stderr",
     "output_type": "stream",
     "text": [
      "/Users/jorge/Repositorios/Proyectos personales/spanish_nlp/.venv/lib/python3.10/site-packages/torch/__init__.py:1144: UserWarning: torch.set_default_tensor_type() is deprecated as of PyTorch 2.1, please use torch.set_default_dtype() and torch.set_default_device() as alternatives. (Triggered internally at /Users/runner/work/pytorch/pytorch/pytorch/torch/csrc/tensor/python_tensor.cpp:434.)\n",
      "  _C._set_default_tensor_type(t)\n"
     ]
    },
    {
     "name": "stdout",
     "output_type": "stream",
     "text": [
      "En aquel tiempo yo tenía veinte años y estaba loco. Había perdido un país pero había ganado un sueño. Y si tenía ese sueño lo demás no importaba. Ni trabajar ni rezar ni estudiar en la madrugada junto a los perros románticos.\n",
      "---\n",
      "['En aqu3l 7iempo yo tenía veinte ano5 y es7aEa loc0. Había perdIdo un RaíB p3ro había ganado un 8ueñQ. V 8i tenía 3se su3n0 lQ Oemás n0 lWportaba. Hl traEajar nl rezar nl 3studIar 3n Ia WaOPVgada LuntQ a l0s p3Pros PoWánticos.']\n",
      "---\n",
      "['En aquel tiempo yo tenía veinte años y estava loco. Havía perdido un país pero había jamado un sueño. Y si temía ese sueño lo denás no importava. Ni trabagar mi rezar ni estudiar en la madrugada junto a los perros románticos.']\n",
      "---\n",
      "['En el tiempo yo tenía veinte años y estaba soñando Había perdido un país pero habíamos ganado un trabajo Y si tenía ese sueño lo demás no importaba. Sin trabajar ni rezar ni estudiar en la academia junto con los perros románticos.']\n",
      "---\n"
     ]
    }
   ],
   "source": [
    "from spanish_nlp import augmentation\n",
    "\n",
    "text = \"En aquel tiempo yo tenía veinte años y estaba loco. Había perdido un país pero había ganado un sueño. Y si tenía ese sueño lo demás no importaba. Ni trabajar ni rezar ni estudiar en la madrugada junto a los perros románticos.\"\n",
    "\n",
    "ocr = augmentation.Spelling(method=\"ocr\", stopwords=\"default\", aug_percent=0.3, tokenizer=\"default\")\n",
    "\n",
    "grapheme_spelling = augmentation.Spelling(\n",
    "    method=\"grapheme_spelling\", stopwords=\"default\", aug_percent=0.3, tokenizer=\"default\"\n",
    ")\n",
    "\n",
    "masked_sustitute = augmentation.Masked(\n",
    "    method=\"sustitute\",\n",
    "    model=\"dccuchile/bert-base-spanish-wwm-cased\",\n",
    "    tokenizer=\"default\",\n",
    "    stopwords=\"default\",\n",
    "    aug_percent=0.4,\n",
    "    device=\"cpu\",\n",
    "    top_k=10,\n",
    ")\n",
    "\n",
    "\n",
    "new_texts = [text]\n",
    "new_texts.append(ocr.augment(text, num_samples=1, num_workers=1))\n",
    "new_texts.append(grapheme_spelling.augment(text, num_samples=1, num_workers=1))\n",
    "new_texts.append(masked_sustitute.augment(text, num_samples=1))\n",
    "\n",
    "for t in new_texts:\n",
    "    print(t)\n",
    "    print(\"---\")"
   ]
  },
  {
   "cell_type": "code",
   "execution_count": 2,
   "metadata": {},
   "outputs": [
    {
     "data": {
      "text/plain": [
       "['En aqusl tiempo ji rwnía vejbte qños y ewgahq pocl. Había pfddido un psís pedo havía ganasi un shrño. Y si teníq ese suelo lo demás nl imoortaba. Ni trabajag ni resae nl estudiat en ka kadgkbwra nujrl a los lerros romájtucos.']"
      ]
     },
     "execution_count": 2,
     "metadata": {},
     "output_type": "execute_result"
    }
   ],
   "source": [
    "keyboard = augmentation.Spelling(\n",
    "    method=\"keyboard\", stopwords=\"default\", aug_percent=0.3, tokenizer=\"default\"\n",
    ")\n",
    "\n",
    "keyboard.augment(text, num_samples=1)"
   ]
  },
  {
   "cell_type": "code",
   "execution_count": 3,
   "metadata": {},
   "outputs": [
    {
     "data": {
      "text/plain": [
       "['En aquel 7iempo Vo tenía veinte añQB y 3staba lQco. 4a8ía perdidQ Vn país pero había ganaO0 Vn sueño. V si tenía 3Be Bueño lo d3más nQ imRortaba. Ni trabaLar n1 P3zar ni 35tud1aP en 1a ma0rVgaOa Lunto a los Rerros PomántiG0s.']"
      ]
     },
     "execution_count": 3,
     "metadata": {},
     "output_type": "execute_result"
    }
   ],
   "source": [
    "ocr = augmentation.Spelling(method=\"ocr\", stopwords=\"default\", aug_percent=0.3, tokenizer=\"default\")\n",
    "\n",
    "ocr.augment(text, num_samples=1)"
   ]
  },
  {
   "cell_type": "code",
   "execution_count": 4,
   "metadata": {},
   "outputs": [
    {
     "data": {
      "text/plain": [
       "['En aCuel tiemVo yo t5nía veiéte años y estaba lvco. HabJO perrido un país pero había ganado un sueño. Y si tenía ese sueño lo demás no importaba. Ni trabajar ni rezar ni Nstudiaa en la madrugada junto a los perros románticos.']"
      ]
     },
     "execution_count": 4,
     "metadata": {},
     "output_type": "execute_result"
    }
   ],
   "source": [
    "random = augmentation.Spelling(\n",
    "    method=\"random\", stopwords=\"default\", aug_percent=0.05, tokenizer=\"default\"\n",
    ")\n",
    "\n",
    "random.augment(text, num_samples=1)"
   ]
  },
  {
   "cell_type": "code",
   "execution_count": 5,
   "metadata": {},
   "outputs": [
    {
     "data": {
      "text/plain": [
       "['Em akel tiempo llo tenía veinte años y estaba loco. Había perdido un país pero havía gamado un sueño. Y si tenía ese sueño lo demás mo importaba. Ni trabagar ni rezar ni estudiar en la madrujada junto a los perros ronánticos.']"
      ]
     },
     "execution_count": 5,
     "metadata": {},
     "output_type": "execute_result"
    }
   ],
   "source": [
    "grapheme_spelling = augmentation.Spelling(\n",
    "    method=\"grapheme_spelling\", stopwords=\"default\", aug_percent=0.3, tokenizer=\"default\"\n",
    ")\n",
    "\n",
    "grapheme_spelling.augment(text, num_samples=1)"
   ]
  },
  {
   "cell_type": "code",
   "execution_count": 6,
   "metadata": {},
   "outputs": [
    {
     "data": {
      "text/plain": [
       "['por favor, no creo q haya nada mas importante q la libertad de expresion']"
      ]
     },
     "execution_count": 6,
     "metadata": {},
     "output_type": "execute_result"
    }
   ],
   "source": [
    "word_spelling = augmentation.Spelling(\n",
    "    method=\"word_spelling\", stopwords=\"default\", aug_percent=0.3, tokenizer=\"default\"\n",
    ")\n",
    "\n",
    "text2 = \"por favor, no creo que haya nada mas importante que la libertad de expresion\"\n",
    "word_spelling.augment(text2, num_samples=1)"
   ]
  },
  {
   "cell_type": "code",
   "execution_count": 7,
   "metadata": {},
   "outputs": [
    {
     "data": {
      "text/plain": [
       "['En aquel tiempo yo tenía veinte años y estaba loco. Había perdido un país pero había ganado un sueño Y si tenía ese sueño lo demás no importaba. Ni trabajar ni rezar ni estudiar en la madrugada junto a los perros románticos.']"
      ]
     },
     "execution_count": 7,
     "metadata": {},
     "output_type": "execute_result"
    }
   ],
   "source": [
    "remove_punctuation = augmentation.Spelling(\n",
    "    method=\"remove_punctuation\", stopwords=\"default\", aug_percent=0.5, tokenizer=\"default\"\n",
    ")\n",
    "\n",
    "remove_punctuation.augment(text, num_samples=1)"
   ]
  },
  {
   "cell_type": "code",
   "execution_count": 8,
   "metadata": {},
   "outputs": [
    {
     "data": {
      "text/plain": [
       "['En aquel tiempo yo tenía veinte años y estaba loco. Habia perdido un país pero habia ganado un sueño. Y si tenía ese sueño lo demas no importaba. Ni trabajar ni rezar ni estudiar en la madrugada junto a los perros romanticos.']"
      ]
     },
     "execution_count": 8,
     "metadata": {},
     "output_type": "execute_result"
    }
   ],
   "source": [
    "remove_accents = augmentation.Spelling(\n",
    "    method=\"remove_accents\", stopwords=\"default\", aug_percent=0.5, tokenizer=\"default\"\n",
    ")\n",
    "\n",
    "remove_accents.augment(text, num_samples=1)"
   ]
  },
  {
   "cell_type": "code",
   "execution_count": 9,
   "metadata": {},
   "outputs": [
    {
     "data": {
      "text/plain": [
       "['En aquel tiempo yo tenía veinte años y estaba loco. había perdido un país pero había ganado un sueño. Y si tenía ese sueño lo demás no importaba. ni trabajar ni rezar ni estudiar en la madrugada junto a los perros románticos.']"
      ]
     },
     "execution_count": 9,
     "metadata": {},
     "output_type": "execute_result"
    }
   ],
   "source": [
    "lowercase = augmentation.Spelling(\n",
    "    method=\"lowercase\", stopwords=\"default\", aug_percent=0.3, tokenizer=\"default\"\n",
    ")\n",
    "\n",
    "lowercase.augment(text, num_samples=1)"
   ]
  },
  {
   "cell_type": "code",
   "execution_count": 10,
   "metadata": {},
   "outputs": [
    {
     "data": {
      "text/plain": [
       "['En aquel tiempo yo tenía veinte años y estaba loco. HABÍA perdido un país PERO había ganado un sueño. Y SI tenía ese sueño lo demás no importaba. Ni trabajar ni rezar ni estudiar EN la madrugada junto a los perros románticos.']"
      ]
     },
     "execution_count": 10,
     "metadata": {},
     "output_type": "execute_result"
    }
   ],
   "source": [
    "uppercase = augmentation.Spelling(\n",
    "    method=\"uppercase\", stopwords=\"default\", aug_percent=0.1, tokenizer=\"default\"\n",
    ")\n",
    "\n",
    "uppercase.augment(text, num_samples=1)"
   ]
  },
  {
   "cell_type": "code",
   "execution_count": 11,
   "metadata": {},
   "outputs": [
    {
     "data": {
      "text/plain": [
       "['en aquel tiempo yo TENÍA veinte años y estaba loco. había perdido UN país pero había ganado un sueño. y SI TENÍA ese sueño LO DEMÁS no importaba. ni trabajar NI rezar NI estudiar en la MADRUGADA junto a los perros románticos.']"
      ]
     },
     "execution_count": 11,
     "metadata": {},
     "output_type": "execute_result"
    }
   ],
   "source": [
    "randomcase = augmentation.Spelling(\n",
    "    method=\"randomcase\", stopwords=\"default\", aug_percent=0.3, tokenizer=\"default\"\n",
    ")\n",
    "\n",
    "randomcase.augment(text, num_samples=1)"
   ]
  },
  {
   "cell_type": "code",
   "execution_count": 12,
   "metadata": {},
   "outputs": [
    {
     "data": {
      "text/plain": [
       "['e']"
      ]
     },
     "execution_count": 12,
     "metadata": {},
     "output_type": "execute_result"
    }
   ],
   "source": [
    "all = augmentation.Spelling(method=\"all\", stopwords=\"default\", aug_percent=0.1, tokenizer=\"default\")\n",
    "\n",
    "all.augment(text, num_samples=1)"
   ]
  }
 ],
 "metadata": {
  "kernelspec": {
   "display_name": ".venv",
   "language": "python",
   "name": "python3"
  },
  "language_info": {
   "codemirror_mode": {
    "name": "ipython",
    "version": 3
   },
   "file_extension": ".py",
   "mimetype": "text/x-python",
   "name": "python",
   "nbconvert_exporter": "python",
   "pygments_lexer": "ipython3",
   "version": "3.10.11"
  },
  "orig_nbformat": 4
 },
 "nbformat": 4,
 "nbformat_minor": 2
}
