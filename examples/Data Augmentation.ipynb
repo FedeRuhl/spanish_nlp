{
 "cells": [
  {
   "cell_type": "code",
   "execution_count": 10,
   "metadata": {},
   "outputs": [
    {
     "name": "stdout",
     "output_type": "stream",
     "text": [
      "En aquel tiempo yo tenía veinte años y estaba loco. Había perdido un país pero había ganado un sueño. Y si tenía ese sueño lo demás no importaba. Ni trabajar ni rezar ni estudiar en la madrugada junto a los perros románticos.\n",
      "---\n",
      "['3n aqueI 7iempo yo t3nía veinte añQs V 3sta8a loGo. Había perO10o un país pero había Canado un BueñQ. V si t3nía ese su3N0 lo d3WáB no imp0rtaEa. Hi trabaLar ni rezaP ni estudiaP en la maOPuga0a Lun7o a IoB perros roWánticos.']\n",
      "---\n",
      "['En squel tjempo yo tfbíx vsknte alod y estxba lpfo. Hanía pfddido un país pero hqvís ganaeo uj skeol. Y si tebía ese syrño lo demáz no jmppfgabx. Nj travayar ni rezar mu estudist eh la nadtugads junto a loa peerks eomábticox.']\n",
      "---\n",
      "['En aquel tiempo yo tenía 18 años y estaba loco. Había arruinado un hogar pero había ganado un sueño. Ahora si tenía ese sueño lo demás no importaba. Pero trabajar ni rezar ni trabajar en la madrugada junto a los perros ni']\n",
      "---\n",
      "['En aquel tiempo yo tenía los veinteséis años y estaba loco. Había perdido un gran país pero sí había ganado tener un sueño. Y si tenía ese sueño lo demás ya no importaba.. Ni trabajar ni rezar ni estudiar en la madrugada junto a los perros románticos.']\n",
      "---\n"
     ]
    }
   ],
   "source": [
    "from spanish_nlp import augmentation\n",
    "ocr = augmentation.Spelling(method=\"ocr\", \n",
    "                            stopwords=\"default\", \n",
    "                            aug_percent=0.3, \n",
    "                            tokenizer=\"default\")\n",
    "\n",
    "misspelling = augmentation.Spelling(method=\"keyboard\", \n",
    "                                    stopwords=\"default\", \n",
    "                                    aug_percent=0.3, \n",
    "                                    tokenizer=\"default\")\n",
    "\n",
    "masked_sustitute = augmentation.Masked(method=\"sustitute\", \n",
    "                                       model=\"dccuchile/bert-base-spanish-wwm-cased\",\n",
    "                                       tokenizer=\"default\",\n",
    "                                       stopwords=\"default\",\n",
    "                                       aug_percent=0.4,\n",
    "                                       device=\"cpu\",\n",
    "                                       top_k=10)\n",
    "\n",
    "masked_insert = augmentation.Masked(method=\"insert\", \n",
    "                                    model=\"dccuchile/bert-base-spanish-wwm-cased\",\n",
    "                                    tokenizer=\"default\",\n",
    "                                    stopwords=\"default\",\n",
    "                                    aug_percent=0.4,\n",
    "                                    device=\"cpu\",\n",
    "                                    top_k=10)\n",
    "\n",
    "text = \"En aquel tiempo yo tenía veinte años y estaba loco. Había perdido un país pero había ganado un sueño. Y si tenía ese sueño lo demás no importaba. Ni trabajar ni rezar ni estudiar en la madrugada junto a los perros románticos.\"\n",
    "\n",
    "new_texts = [text]\n",
    "new_texts.append(ocr.augment(text, num_samples=1, num_workers=1))\n",
    "new_texts.append(misspelling.augment(text, num_samples=1, num_workers=1))\n",
    "new_texts.append(masked_sustitute.augment(text, num_samples=1))\n",
    "new_texts.append(masked_insert.augment(text, num_samples=1))\n",
    "\n",
    "for t in new_texts:\n",
    "    print(t)\n",
    "    print(\"---\")\n",
    "\n",
    "\n"
   ]
  }
 ],
 "metadata": {
  "kernelspec": {
   "display_name": "tesis",
   "language": "python",
   "name": "python3"
  },
  "language_info": {
   "codemirror_mode": {
    "name": "ipython",
    "version": 3
   },
   "file_extension": ".py",
   "mimetype": "text/x-python",
   "name": "python",
   "nbconvert_exporter": "python",
   "pygments_lexer": "ipython3",
   "version": "3.9.13"
  },
  "orig_nbformat": 4,
  "vscode": {
   "interpreter": {
    "hash": "55f6ada9710d2be3261dfe6106fc8a8d32ccc4c77b66e487f6b103b7c5a66cc1"
   }
  }
 },
 "nbformat": 4,
 "nbformat_minor": 2
}
