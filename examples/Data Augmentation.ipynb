{
 "cells": [
  {
   "attachments": {},
   "cell_type": "markdown",
   "metadata": {},
   "source": [
    "# Spanish NLP: Data Augmentation Notebook\n",
    "\n",
    "For more information visit [spanish_nlp](https://github.com/jorgeortizfuentes/spanish_nlp) repository on GitHub."
   ]
  },
  {
   "attachments": {},
   "cell_type": "markdown",
   "metadata": {},
   "source": [
    "## Available models\n",
    "\n",
    "| **Models**               | **Methods**             | **Name to load** |\n",
    "|--------------------------|-------------------------|------------------|\n",
    "| Spelling augmentation    | Keyboard orthography    | keyboard         |\n",
    "|                          | OCR orthography         | ocr              |\n",
    "|                          | Random orthography      | random           |\n",
    "|                          | Orthography             | orthography      |\n",
    "|                          | Combine all methods     | all              |\n",
    "| Masked augmentation      | Sustitute words         | sustitute        |\n",
    "|                          | Insert words            | insert           |\n",
    "| Synonyms                 | Pending development     |                  |\n",
    "| WordEmbeddings           | Pending development     |                  |\n",
    "| GenerativeOpenSource     | Pending development     |                  |\n",
    "| GenerativeOpenAI         | Pending development     |                  |\n",
    "| BackTranslation          | Pending development     |                  |\n",
    "| AbstractiveSummarization | Pending development     |                  |\n",
    "\n",
    "\n",
    "Others models are under development (such as Synonyms, WordEmbeddings, GenerativeOpenSource, GenerativeOpenAI, BackTranslation, AbstractiveSummarization)\n"
   ]
  },
  {
   "attachments": {},
   "cell_type": "markdown",
   "metadata": {},
   "source": [
    "## Quick usage"
   ]
  },
  {
   "cell_type": "code",
   "execution_count": 1,
   "metadata": {},
   "outputs": [],
   "source": [
    "from spanish_nlp import augmentation\n",
    "\n",
    "text = \"En aquel tiempo yo tenía veinte años y estaba loco. Había perdido un país pero había ganado un sueño. Y si tenía ese sueño lo demás no importaba. Ni trabajar ni rezar ni estudiar en la madrugada junto a los perros románticos.\"\n"
   ]
  },
  {
   "cell_type": "code",
   "execution_count": 2,
   "metadata": {},
   "outputs": [
    {
     "name": "stdout",
     "output_type": "stream",
     "text": [
      "En aquel tiempo yo tenía veinte años y estaba loco. Había perdido un país pero había ganado un sueño. Y si tenía ese sueño lo demás no importaba. Ni trabajar ni rezar ni estudiar en la madrugada junto a los perros románticos.\n",
      "---\n",
      "['En aquel 7iempo Vo tenía Uein7e año5 y es7aEa loc0. Había perdid0 un Raí8 R3ro ha8ía qana0o un 8u3ño. Y si tenía es3 8Veño lo d3máB no imRoP7aba. Hi 7rabajar ni rezar n1 estudiar en Ia madrugada jVnt0 a 1o5 pePrQs Pománticos.']\n",
      "---\n",
      "['Em asuel tifmpo yo temíz veonre años g sstaba ilci. Hzbíw pegfidk jn paía perp bahía vxharo hn aueoo. Y xi rfnía ese sueño lo semás bo impirtzga. Ni tgagajad nl rwzar ni sstudiar dn la kadruraxa juhgo w lis oedros rkmánticos.']\n",
      "---\n",
      "['En aquel tiempo yo temía veimte años y estaba loco. Había perdido un país pero había gamado un sueño. Y si tenía ese sueño lo demás mo inportaba. Ni trabajar mi resar ni estudiar en la madrugada gunto a los perros romámticos.']\n",
      "---\n",
      "['En aquel caso yo tenía veinte mil y estaba loco. Había perdido un país pero había hecho un sueño. Entonces si tenía ese trabajo lo demás no importaba. Nunca trabajar ni rezar ni estudiar en pij madrugada junto a los perros románticos.']\n",
      "---\n",
      "['En aquel tiempo yo tenía exactamente veinte años y no estaba loco. Pero Había perdido un bello país pero como yo ya había ganado un sueño. Y si tenía ese mismo sueño lo demás también no me importaba. Y Ni podido trabajar ni rezar ni poder estudiar en la madrugada junto, excepto a los cuatro perros románticos.']\n",
      "---\n"
     ]
    }
   ],
   "source": [
    "ocr = augmentation.Spelling(method=\"ocr\", \n",
    "                            stopwords=\"default\", \n",
    "                            aug_percent=0.3, \n",
    "                            tokenizer=\"default\")\n",
    "\n",
    "keyboard = augmentation.Spelling(method=\"keyboard\", \n",
    "                                    stopwords=\"default\", \n",
    "                                    aug_percent=0.3, \n",
    "                                    tokenizer=\"default\")\n",
    "\n",
    "orthography = augmentation.Spelling(method=\"orthography\", \n",
    "                                    stopwords=\"default\", \n",
    "                                    aug_percent=0.3, \n",
    "                                    tokenizer=\"default\")\n",
    "\n",
    "masked_sustitute = augmentation.Masked(method=\"sustitute\", \n",
    "                                       model=\"dccuchile/bert-base-spanish-wwm-cased\",\n",
    "                                       tokenizer=\"default\",\n",
    "                                       stopwords=\"default\",\n",
    "                                       aug_percent=0.4,\n",
    "                                       device=\"cpu\",\n",
    "                                       top_k=10)\n",
    "\n",
    "masked_insert = augmentation.Masked(method=\"insert\", \n",
    "                                    model=\"dccuchile/bert-base-spanish-wwm-cased\",\n",
    "                                    tokenizer=\"default\",\n",
    "                                    stopwords=\"default\",\n",
    "                                    aug_percent=0.4,\n",
    "                                    device=\"cpu\",\n",
    "                                    top_k=10)\n",
    "\n",
    "new_texts = [text]\n",
    "new_texts.append(ocr.augment(text, num_samples=1, num_workers=1))\n",
    "new_texts.append(keyboard.augment(text, num_samples=1, num_workers=1))\n",
    "new_texts.append(orthography.augment(text, num_samples=1, num_workers=1))\n",
    "new_texts.append(masked_sustitute.augment(text, num_samples=1))\n",
    "new_texts.append(masked_insert.augment(text, num_samples=1))\n",
    "\n",
    "for t in new_texts:\n",
    "    print(t)\n",
    "    print(\"---\")"
   ]
  },
  {
   "cell_type": "code",
   "execution_count": 3,
   "metadata": {},
   "outputs": [
    {
     "data": {
      "text/plain": [
       "['Em aqyel foemoi yi gehía veinte wlos y estabz locl. Hzbía lerdido hb pwís perl había gabado kn eueñk. Y si reníz esr wueño lp denáx no jmpotgaba. Ni tdabajar ni reaar jk estuxiar en la mactutada junfo w lls ñsrros domántjcos.']"
      ]
     },
     "execution_count": 3,
     "metadata": {},
     "output_type": "execute_result"
    }
   ],
   "source": [
    "keyboard = augmentation.Spelling(method=\"keyboard\", \n",
    "                                    stopwords=\"default\", \n",
    "                                    aug_percent=0.3, \n",
    "                                    tokenizer=\"default\")\n",
    "\n",
    "keyboard._keyboard_augment_(text, num_samples=1)"
   ]
  },
  {
   "cell_type": "code",
   "execution_count": 4,
   "metadata": {},
   "outputs": [
    {
     "data": {
      "text/plain": [
       "['En aquel tiempo yo tenía veinte años y estaba loco. Había perdido un país pero había ganado un sueño Y si tenía ese sueño lo demás no importaba.Ni trabajar ni rezar ni estudiar en la madrugada junto a los perros románticos.']"
      ]
     },
     "execution_count": 4,
     "metadata": {},
     "output_type": "execute_result"
    }
   ],
   "source": [
    "remove_punctuation = augmentation.Spelling(method=\"remove_punctuation\",\n",
    "                                    stopwords=\"default\", \n",
    "                                    aug_percent=0.5, \n",
    "                                    tokenizer=\"default\")\n",
    "\n",
    "remove_punctuation.augment(text, num_samples=1, num_workers=1)"
   ]
  },
  {
   "cell_type": "code",
   "execution_count": 5,
   "metadata": {},
   "outputs": [
    {
     "data": {
      "text/plain": [
       "['En aquel tiempo yo tenia veinte años y estaba loco. Había perdido un pais pero habia ganado un sueño. Y si tenia ese sueño lo demás no importaba. Ni trabajar ni rezar ni estudiar en la madrugada junto a los perros románticos.']"
      ]
     },
     "execution_count": 5,
     "metadata": {},
     "output_type": "execute_result"
    }
   ],
   "source": [
    "remove_accents = augmentation.Spelling(method=\"remove_accents\",\n",
    "                                       stopwords=\"default\", \n",
    "                                       aug_percent=0.5, \n",
    "                                       tokenizer=\"default\")\n",
    "\n",
    "remove_accents.augment(text, num_samples=1, num_workers=1)"
   ]
  },
  {
   "cell_type": "code",
   "execution_count": 6,
   "metadata": {},
   "outputs": [
    {
     "data": {
      "text/plain": [
       "['Em aquel tiempo llo temía veinte años y estaba loco. Havía perdido un país pero había ganado un sueño. Y si tenía ese sueño lo demás no inportaba. Ni travajar ni resar ni estudiar em la madrugada gunto a los perros románticos.']"
      ]
     },
     "execution_count": 6,
     "metadata": {},
     "output_type": "execute_result"
    }
   ],
   "source": [
    "orthography = augmentation.Spelling(method=\"orthography\", \n",
    "                                    stopwords=\"default\", \n",
    "                                    aug_percent=0.3, \n",
    "                                    tokenizer=\"default\")\n",
    "\n",
    "orthography.augment(text, num_workers=1)"
   ]
  },
  {
   "cell_type": "code",
   "execution_count": 7,
   "metadata": {},
   "outputs": [
    {
     "data": {
      "text/plain": [
       "['En ñquex tieLKÍ yo 3bní6 veinte años 1 esWabN loco. Habma 1eÜbidÑ un paíL Nerj hYIía gaOñÓo un sueñg. G si ten1ü xs5 8ueuo lo dimás 0o importaba. Ni trabUjar nR rezar ni VsHudiar ÚÑ lÓ 8eyrug4d1 junta Ó los TeÑros rooántico9.']"
      ]
     },
     "execution_count": 7,
     "metadata": {},
     "output_type": "execute_result"
    }
   ],
   "source": [
    "random = augmentation.Spelling(method=\"random\",\n",
    "                                    stopwords=\"default\", \n",
    "                                    aug_percent=0.3, \n",
    "                                    tokenizer=\"default\")\n",
    "\n",
    "random.augment(text, num_workers=1)"
   ]
  },
  {
   "cell_type": "code",
   "execution_count": 8,
   "metadata": {},
   "outputs": [
    {
     "data": {
      "text/plain": [
       "[{'word': 'E', 'start': 224, 'end': 225},\n",
       " {'word': 'E', 'start': 0, 'end': 1},\n",
       " {'word': 'H', 'start': 224, 'end': 225},\n",
       " {'word': 'H', 'start': 52, 'end': 53},\n",
       " {'word': 'Y', 'start': 224, 'end': 225},\n",
       " {'word': 'Y', 'start': 102, 'end': 103},\n",
       " {'word': 'N', 'start': 224, 'end': 225},\n",
       " {'word': 'N', 'start': 146, 'end': 147}]"
      ]
     },
     "execution_count": 8,
     "metadata": {},
     "output_type": "execute_result"
    }
   ],
   "source": [
    "lowercase = augmentation.Spelling(method=\"lowercase\",\n",
    "                                    stopwords=\"default\", \n",
    "                                    aug_percent=0.8, \n",
    "                                    tokenizer=\"default\")\n",
    "\n",
    "#lowercase.augment(text, num_workers=1)\n",
    "lowercase._lowercase_augmentation_(text, num_samples=1)"
   ]
  },
  {
   "cell_type": "code",
   "execution_count": 9,
   "metadata": {},
   "outputs": [
    {
     "name": "stdout",
     "output_type": "stream",
     "text": [
      "2\n",
      "None\n"
     ]
    }
   ],
   "source": [
    "uppercase = augmentation.Spelling(method=\"uppercase\",\n",
    "                                    stopwords=\"default\", \n",
    "                                    aug_percent=0.3, \n",
    "                                    tokenizer=\"default\")\n",
    "\n",
    "u = uppercase.augment(text, num_workers=1)\n",
    "print(u)"
   ]
  },
  {
   "cell_type": "code",
   "execution_count": 10,
   "metadata": {},
   "outputs": [],
   "source": [
    "randomcase = augmentation.Spelling(method=\"randomcase\",\n",
    "                                    stopwords=\"default\", \n",
    "                                    aug_percent=0.3, \n",
    "                                    tokenizer=\"default\")\n",
    "\n",
    "randomcase.augment(text, num_workers=1)"
   ]
  },
  {
   "cell_type": "code",
   "execution_count": 11,
   "metadata": {},
   "outputs": [
    {
     "data": {
      "text/plain": [
       "['En aguel tIenpo yo 7enía veinte anos y ewtabq loco Había peddido un pais pero ha8ía yanado un su3ño. Y 8i 7enís ese sueño lo demás no Imñortaba. Ni trabajar ni rexar ni estudiar en la nadrugada junto a los perPps romántjcos.']"
      ]
     },
     "execution_count": 11,
     "metadata": {},
     "output_type": "execute_result"
    }
   ],
   "source": [
    "all = augmentation.Spelling(method=\"all\", \n",
    "                            stopwords=\"default\", \n",
    "                            aug_percent=0.3, \n",
    "                            tokenizer=\"default\")\n",
    "\n",
    "all.augment(text, num_samples=1, num_workers=1)"
   ]
  },
  {
   "cell_type": "code",
   "execution_count": 12,
   "metadata": {},
   "outputs": [
    {
     "ename": "AttributeError",
     "evalue": "'Spelling' object has no attribute '_set_misspelled_dictionary_'",
     "output_type": "error",
     "traceback": [
      "\u001b[0;31m---------------------------------------------------------------------------\u001b[0m",
      "\u001b[0;31mAttributeError\u001b[0m                            Traceback (most recent call last)",
      "\u001b[1;32m/home/jorge/data/spanish_nlp/examples/Data Augmentation.ipynb Cell 15\u001b[0m in \u001b[0;36m1\n\u001b[0;32m----> <a href='vscode-notebook-cell://ssh-remote%2Bpenguin0/home/jorge/data/spanish_nlp/examples/Data%20Augmentation.ipynb#X24sdnNjb2RlLXJlbW90ZQ%3D%3D?line=0'>1</a>\u001b[0m \u001b[39mall\u001b[39;49m\u001b[39m.\u001b[39;49m_set_misspelled_dictionary_()\n\u001b[1;32m      <a href='vscode-notebook-cell://ssh-remote%2Bpenguin0/home/jorge/data/spanish_nlp/examples/Data%20Augmentation.ipynb#X24sdnNjb2RlLXJlbW90ZQ%3D%3D?line=1'>2</a>\u001b[0m \u001b[39mall\u001b[39m\u001b[39m.\u001b[39mmisspelled_dict\n",
      "\u001b[0;31mAttributeError\u001b[0m: 'Spelling' object has no attribute '_set_misspelled_dictionary_'"
     ]
    }
   ],
   "source": [
    "all._set_misspelled_dictionary_()\n",
    "all.misspelled_dict"
   ]
  }
 ],
 "metadata": {
  "kernelspec": {
   "display_name": "py310",
   "language": "python",
   "name": "python3"
  },
  "language_info": {
   "codemirror_mode": {
    "name": "ipython",
    "version": 3
   },
   "file_extension": ".py",
   "mimetype": "text/x-python",
   "name": "python",
   "nbconvert_exporter": "python",
   "pygments_lexer": "ipython3",
   "version": "3.10.8"
  },
  "orig_nbformat": 4,
  "vscode": {
   "interpreter": {
    "hash": "d1a940d2a5a085e4f840c6fa90dace1e4a81d9a7fba180f0fcbb4947149ff9d2"
   }
  }
 },
 "nbformat": 4,
 "nbformat_minor": 2
}
