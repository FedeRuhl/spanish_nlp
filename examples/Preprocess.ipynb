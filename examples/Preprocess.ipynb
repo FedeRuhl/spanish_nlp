{
 "cells": [
  {
   "attachments": {},
   "cell_type": "markdown",
   "metadata": {},
   "source": [
    "# Spanish NLP: Preprocess Notebook\n",
    "\n",
    "For more information visit [spanish_nlp](https://github.com/jorgeortizfuentes/spanish_nlp) repository on GitHub."
   ]
  },
  {
   "cell_type": "code",
   "execution_count": 1,
   "metadata": {},
   "outputs": [
    {
     "name": "stdout",
     "output_type": "stream",
     "text": [
      "holaaaaaaaa a todos este es un texto de prueba:) a continuacion los mostrare un poema de roberto bolaño llamado los perros romanticos 🤭 👀 😅 \n",
      "me gustan los pinguinos si los pinguinos 🐧 🐧 🐧 🐧 vivan los pinguinos si señor pinguinos del mundo unios ñandues del mundo tambien\n",
      "si colaboras con este repositorio te puedes ganar en dinero falso o tal vez pinguinos mi telefono es\n"
     ]
    }
   ],
   "source": [
    "from spanish_nlp import preprocess\n",
    "\n",
    "sp = preprocess.SpanishPreprocess(\n",
    "    lower=True, # Lowercase the text\n",
    "    remove_url=True, # Remove URLs\n",
    "    remove_hashtags=False, # Remove hashtags\n",
    "    split_hashtags=True, # Split hashtags into words\n",
    "    normalize_breaklines=True, # Delete multiple breaklines and replace them with a single one\n",
    "    remove_emoticons=False, # Remove emoticons like :D\n",
    "    remove_emojis=False, # Remove emojis like 😅\n",
    "    convert_emoticons=False, # Convert emoticons like :D to words according to the emoticon dictionary\n",
    "    convert_emojis=False, # Convert emojis like 😅 to words according to the emoji dictionary\n",
    "    normalize_inclusive_language=True, # Remove inclusive language (to be implemented)\n",
    "    reduce_spam=True, # Reduces words repeated more than 3 times\n",
    "    remove_reduplications=True, # Remove reduplications (to be implemented) like \"holaaaaa\" to \"hola\"\n",
    "    remove_vowels_accents=True, # Convert vowels with accents to their non-accented version\n",
    "    remove_multiple_spaces=True, # Normalize multiple spaces to a single one\n",
    "    remove_punctuation=True, # Remove punctuation\n",
    "    remove_unprintable=True, # Remove unprintable characters\n",
    "    remove_numbers=True, # Remove numbers\n",
    "    remove_stopwords=False, # Remove stopwords\n",
    "    stopwords_list=None, # List of stopwords to remove (if stopwords_list is None, the default stopwords list will be used)\n",
    "    lemmatize=False, # Lemmatize the text\n",
    "    stem=False, # Stem the text\n",
    "    remove_html_tags=True, # Remove HTML tags\n",
    ")\n",
    "\n",
    "        self.text = \"\"\"𝓣𝓮𝔁𝓽𝓸 𝓭𝓮 𝓹𝓻𝓾𝓮𝓫𝓪\n",
    "\n",
    "<b>Holaaaaaaaa a todxs </b>, este es un texto de prueba :) a continuación les mostraré un poema de Roberto Bolaño llamado \"Los perros románticos\" 🤭👀😅\n",
    "\n",
    "https://www.poesi.as/rb9301.htm\n",
    "\n",
    "¡Me gustan los pingüinos! Sí, los PINGÜINOS 🐧🐧🐧 🐧 #VivanLosPinguinos #SíSeñor #PinguinosDelMundoUníos #ÑanduesDelMundoTambién\n",
    "\n",
    "Si colaboras con este repositorio te puedes ganar $100.000 (en dinero falso). O tal vez 20 pingüinos. Mi teléfono es +561212121212\"\"\"\n",
    "\n",
    "print(sp.transform(test_text, debug=False))\n"
   ]
  }
 ],
 "metadata": {
  "kernelspec": {
   "display_name": "tesis",
   "language": "python",
   "name": "python3"
  },
  "language_info": {
   "codemirror_mode": {
    "name": "ipython",
    "version": 3
   },
   "file_extension": ".py",
   "mimetype": "text/x-python",
   "name": "python",
   "nbconvert_exporter": "python",
   "pygments_lexer": "ipython3",
   "version": "3.9.13"
  },
  "orig_nbformat": 4,
  "vscode": {
   "interpreter": {
    "hash": "55f6ada9710d2be3261dfe6106fc8a8d32ccc4c77b66e487f6b103b7c5a66cc1"
   }
  }
 },
 "nbformat": 4,
 "nbformat_minor": 2
}
