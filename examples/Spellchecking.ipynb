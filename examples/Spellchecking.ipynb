{
 "cells": [
  {
   "cell_type": "markdown",
   "metadata": {},
   "source": [
    "# Spanish NLP: Spell Checking Notebook\n",
    "\n",
    "This notebook demonstrates how to use the `SpanishSpellChecker` class from the `spanish_nlp` library.\n",
    "\n",
    "It supports multiple spell checking methods:\n",
    "*   `dictionary`: Uses `pyspellchecker` based on dictionary lookups and edit distance.\n",
    "*   `contextual_lm`: Uses a transformer-based masked language model (like BETO) for context-aware corrections.\n",
    "\n",
    "For more information visit [spanish_nlp](https://github.com/jorgeortizfuentes/spanish_nlp) repository on GitHub."
   ]
  },
  {
   "cell_type": "markdown",
   "metadata": {},
   "source": [
    "## Setup\n",
    "\n",
    "Import the necessary class and configure logging to see informational messages."
   ]
  },
  {
   "cell_type": "code",
   "execution_count": 8,
   "metadata": {},
   "outputs": [],
   "source": [
    "import logging\n",
    "from spanish_nlp import SpanishSpellChecker\n",
    "\n",
    "# Configure logging to see messages from the library\n",
    "logging.basicConfig(level=logging.INFO)\n",
    "# You might want to set a higher level (e.g., logging.WARNING) for less verbose output\n",
    "# logging.basicConfig(level=logging.WARNING)"
   ]
  },
  {
   "cell_type": "markdown",
   "metadata": {},
   "source": [
    "## Method 1: Dictionary-Based Spell Checker (`method='dictionary'`)"
   ]
  },
  {
   "cell_type": "code",
   "execution_count": 9,
   "metadata": {},
   "outputs": [
    {
     "name": "stderr",
     "output_type": "stream",
     "text": [
      "INFO:spanish_nlp.spellchecker:Initializing SpanishSpellChecker with method: 'dictionary'\n",
      "INFO:spanish_nlp.spellchecker.dictionary_impl:DictionarySpellChecker initialized for language 'es' with distance 2.\n"
     ]
    },
    {
     "name": "stdout",
     "output_type": "stream",
     "text": [
      "Initialized: Using implementation: DictionarySpellChecker\n"
     ]
    }
   ],
   "source": [
    "try:\n",
    "    # Initialize with default settings (language='es', distance=2)\n",
    "    dict_checker = SpanishSpellChecker(method=\"dictionary\")\n",
    "    print(f\"Initialized: {dict_checker.get_implementation_details()}\")\n",
    "except Exception as e:\n",
    "    print(f\"Error initializing dictionary checker: {e}\")"
   ]
  },
  {
   "cell_type": "code",
   "execution_count": 10,
   "metadata": {},
   "outputs": [
    {
     "name": "stdout",
     "output_type": "stream",
     "text": [
      "Original Text: hola komo stas?\n",
      "Potential Errors: ['stas', 'komo']\n",
      "Is 'stás' correct? False\n",
      "Is 'hola' correct? True\n",
      "Suggestions for 'pruevs': ['pues', 'prueba']\n",
      "Correction for 'testo': esto\n",
      "Corrected Text: hola como estas?\n"
     ]
    }
   ],
   "source": [
    "text_simple = \"hola komo stas?\"\n",
    "\n",
    "if \"dict_checker\" in locals():\n",
    "    print(f\"Original Text: {text_simple}\")\n",
    "\n",
    "    # Find potential errors\n",
    "    errors = dict_checker.find_errors(text_simple)\n",
    "    print(f\"Potential Errors: {errors}\")\n",
    "\n",
    "    # Check a specific word\n",
    "    print(f\"Is 'stás' correct? {dict_checker.is_correct('stás')}\")\n",
    "    print(f\"Is 'hola' correct? {dict_checker.is_correct('hola')}\")\n",
    "\n",
    "    # Get suggestions for a word\n",
    "    suggestions = dict_checker.suggest(\"pruevs\")\n",
    "    print(f\"Suggestions for 'pruevs': {suggestions}\")\n",
    "\n",
    "    # Get the single best correction for a word\n",
    "    correction = dict_checker.correct_word(\"testo\")\n",
    "    print(f\"Correction for 'testo': {correction}\")\n",
    "\n",
    "    # Correct the entire text (use with caution)\n",
    "    corrected_text = dict_checker.correct_text(text_simple)\n",
    "    print(f\"Corrected Text: {corrected_text}\")"
   ]
  },
  {
   "cell_type": "markdown",
   "metadata": {},
   "source": [
    "### Using Custom distance\n",
    "\n",
    "The `distance` parameter controls the maximum Levenshtein distance for suggestions. Levenshtein distance is the minimum number of single-character edits (insertions, deletions, or substitutions) required to change one word into the other.                          \n",
    "\n",
    "A lower `distance` value makes the checker stricter, only suggesting words that are very similar (few edits away). A higher value is more lenient and will suggest words that are less similar.\n",
    "\n",
    "In the example below, we compare the default distance (2) with a stricter distance (1) for the misspelled word 'pruevs'. Notice how `distance=1` returns fewer (or no)"
   ]
  },
  {
   "cell_type": "code",
   "execution_count": 11,
   "metadata": {},
   "outputs": [
    {
     "name": "stderr",
     "output_type": "stream",
     "text": [
      "INFO:spanish_nlp.spellchecker:Initializing SpanishSpellChecker with method: 'dictionary'\n",
      "INFO:spanish_nlp.spellchecker.dictionary_impl:DictionarySpellChecker initialized for language 'es' with distance 1.\n",
      "WARNING:spanish_nlp.spellchecker.dictionary_impl:pyspellchecker returned None for candidates of 'pruevs'. Returning empty list.\n"
     ]
    },
    {
     "name": "stdout",
     "output_type": "stream",
     "text": [
      "Suggestions for 'pruevs' (distance=2): ['pues', 'prueba']\n",
      "Suggestions for 'pruevs' (distance=1): []\n"
     ]
    }
   ],
   "source": [
    "try:\n",
    "    # Initialize with a stricter distance (distance=1)\n",
    "    dict_checker_strict = SpanishSpellChecker(method=\"dictionary\", distance=1)\n",
    "\n",
    "    word_to_check = \"pruevs\"\n",
    "    suggestions_default = dict_checker.suggest(word_to_check)  # Using default checker (distance=2)\n",
    "    suggestions_strict = dict_checker_strict.suggest(word_to_check)\n",
    "\n",
    "    print(f\"Suggestions for '{word_to_check}' (distance=2): {suggestions_default}\")\n",
    "    print(f\"Suggestions for '{word_to_check}' (distance=1): {suggestions_strict}\")\n",
    "\n",
    "except Exception as e:\n",
    "    print(f\"Error initializing strict distance checker: {e}\")"
   ]
  },
  {
   "cell_type": "markdown",
   "metadata": {},
   "source": [
    "### Using Custom Dictionary\n",
    "\n",
    "Loading words into a dictionary allows for custom spell checking, preventing correctly spelled domain-specific words or names from being flagged as errors."
   ]
  },
  {
   "cell_type": "code",
   "execution_count": 12,
   "metadata": {},
   "outputs": [
    {
     "name": "stderr",
     "output_type": "stream",
     "text": [
      "INFO:spanish_nlp.spellchecker:Initializing SpanishSpellChecker with method: 'dictionary'\n",
      "INFO:spanish_nlp.spellchecker.dictionary_impl:Loading 1 words from custom list.\n",
      "INFO:spanish_nlp.spellchecker.dictionary_impl:DictionarySpellChecker initialized for language 'es' with distance 2.\n"
     ]
    },
    {
     "name": "stdout",
     "output_type": "stream",
     "text": [
      "\n",
      "Original Text: holaa levenshtein komo stas\n",
      "Potential Errors (custom dict): ['holaa', 'komo', 'stas']\n"
     ]
    }
   ],
   "source": [
    "try:\n",
    "    # Example adding custom words (using default distance=2)\n",
    "    custom_words = [\"levenshtein\"]\n",
    "    dict_checker_custom = SpanishSpellChecker(method=\"dictionary\", custom_dictionary=custom_words)\n",
    "\n",
    "    text_custom = \"holaa levenshtein komo stas\"\n",
    "    print(f\"\\nOriginal Text: {text_custom}\")\n",
    "    errors_custom = dict_checker_custom.find_errors(text_custom)\n",
    "    print(f\"Potential Errors (custom dict): {errors_custom}\")\n",
    "\n",
    "except Exception as e:\n",
    "    print(f\"Error initializing custom dictionary checker: {e}\")"
   ]
  },
  {
   "cell_type": "markdown",
   "metadata": {},
   "source": [
    "## Method 2: Contextual Language Model (`method='contextual_lm'`)\n",
    "\n",
    "This method uses a transformer model (like BETO) to understand context. It's generally better for distinguishing between correctly spelled words used incorrectly (e.g., homophones) but is computationally more expensive.\n",
    "\n",
    "**Note:** This implementation is currently a skeleton and does not perform actual corrections."
   ]
  },
  {
   "cell_type": "code",
   "execution_count": null,
   "metadata": {},
   "outputs": [],
   "source": [
    "try:\n",
    "    # Initialize using BETO model, auto-detect device (GPU if available)\n",
    "    # You can specify device='cpu' or device=0 (for first GPU)\n",
    "    lm_checker = SpanishSpellChecker(\n",
    "        method=\"contextual_lm\",\n",
    "        model_name=\"dccuchile/bert-base-spanish-wwm-uncased\",  # BETO\n",
    "        # Other parameters like top_k, suggestion_distance_threshold would go here\n",
    "    )\n",
    "    print(f\"Initialized: {lm_checker.get_implementation_details()}\")\n",
    "\n",
    "    # --- Example usage (will show warnings as it's not implemented) ---\n",
    "    text_context_1 = \"Ola komo estas?\"\n",
    "    print(f\"\\nOriginal: {text_context_1}\")\n",
    "    corrected_1 = lm_checker.correct_text(text_context_1)\n",
    "    print(f\"Corrected (Skeleton): {corrected_1}\")\n",
    "\n",
    "    print(f\"Is 'komo' correct? {lm_checker.is_correct('komo')}\")\n",
    "    print(f\"Suggestions for 'komo': {lm_checker.suggest('komo')}\")\n",
    "\n",
    "except Exception as e:\n",
    "    print(f\"Error initializing or using contextual checker: {e}\")\n",
    "    # print(\n",
    "    #     \"Make sure 'transformers', 'torch' (or 'tensorflow'), 'accelerate', and 'python-Levenshtein' are installed for full functionality.\"\n",
    "    # )"
   ]
  }
 ],
 "metadata": {
  "kernelspec": {
   "display_name": ".venv",
   "language": "python",
   "name": "python3"
  },
  "language_info": {
   "codemirror_mode": {
    "name": "ipython",
    "version": 3
   },
   "file_extension": ".py",
   "mimetype": "text/x-python",
   "name": "python",
   "nbconvert_exporter": "python",
   "pygments_lexer": "ipython3",
   "version": "3.11.11"
  }
 },
 "nbformat": 4,
 "nbformat_minor": 2
}
