{
 "cells": [
  {
   "attachments": {},
   "cell_type": "markdown",
   "metadata": {},
   "source": [
    "# Spanish NLP: Classify Notebook\n",
    "\n",
    "For more information visit [spanish_nlp](https://github.com/jorgeortizfuentes/spanish_nlp) repository on GitHub."
   ]
  },
  {
   "attachments": {},
   "cell_type": "markdown",
   "metadata": {},
   "source": [
    "## Available models\n",
    "\n",
    "| **Model name**     | **Sources**                            |\n",
    "|--------------------|----------------------------------------|\n",
    "| hate_speech        | bert, robertuito                       |\n",
    "| incivility         | bert                                   |\n",
    "| toxic_speech       | political-tweets-es                    |\n",
    "| sentiment_analysis | robertuito                             |\n",
    "| emotion_analysis   | robertuito                             |\n",
    "| irony_analysis     | robertuito                             |\n",
    "| sexist_analysis    | sexist_analysis_metwo                  |\n",
    "| racist_analysis    | racism_paula_lobo_et_al_average_strict |\n"
   ]
  },
  {
   "attachments": {},
   "cell_type": "markdown",
   "metadata": {},
   "source": [
    "## Quick usage"
   ]
  },
  {
   "cell_type": "code",
   "execution_count": 1,
   "metadata": {},
   "outputs": [
    {
     "data": {
      "application/vnd.jupyter.widget-view+json": {
       "model_id": "1e9ecef736184a29bf8799d6375da152",
       "version_major": 2,
       "version_minor": 0
      },
      "text/plain": [
       "Downloading:   0%|          | 0.00/809 [00:00<?, ?B/s]"
      ]
     },
     "metadata": {},
     "output_type": "display_data"
    },
    {
     "data": {
      "application/vnd.jupyter.widget-view+json": {
       "model_id": "de40f94a28334c78998bc66034510a0c",
       "version_major": 2,
       "version_minor": 0
      },
      "text/plain": [
       "Downloading:   0%|          | 0.00/439M [00:00<?, ?B/s]"
      ]
     },
     "metadata": {},
     "output_type": "display_data"
    },
    {
     "data": {
      "application/vnd.jupyter.widget-view+json": {
       "model_id": "7febaf7da4324a21807e48bbe5cd44ce",
       "version_major": 2,
       "version_minor": 0
      },
      "text/plain": [
       "Downloading:   0%|          | 0.00/570 [00:00<?, ?B/s]"
      ]
     },
     "metadata": {},
     "output_type": "display_data"
    },
    {
     "data": {
      "application/vnd.jupyter.widget-view+json": {
       "model_id": "70065dc9306c4775905dd57239897380",
       "version_major": 2,
       "version_minor": 0
      },
      "text/plain": [
       "Downloading:   0%|          | 0.00/242k [00:00<?, ?B/s]"
      ]
     },
     "metadata": {},
     "output_type": "display_data"
    },
    {
     "data": {
      "application/vnd.jupyter.widget-view+json": {
       "model_id": "5ef54d15249449ac943741c8a24b4208",
       "version_major": 2,
       "version_minor": 0
      },
      "text/plain": [
       "Downloading:   0%|          | 0.00/730k [00:00<?, ?B/s]"
      ]
     },
     "metadata": {},
     "output_type": "display_data"
    },
    {
     "data": {
      "application/vnd.jupyter.widget-view+json": {
       "model_id": "08b2b96b827c4190ae2246b8cb795414",
       "version_major": 2,
       "version_minor": 0
      },
      "text/plain": [
       "Downloading:   0%|          | 0.00/125 [00:00<?, ?B/s]"
      ]
     },
     "metadata": {},
     "output_type": "display_data"
    },
    {
     "name": "stdout",
     "output_type": "stream",
     "text": [
      "Text 1:  LAS MUJERES Y GAYS DEBERÍAN SER EXTERMINADOS\n",
      "Prediction 1:  {'no_hate': 0.8702716827392578, 'hate': 0.129728302359581}\n",
      "Text 2:  El presidente convocó a una reunión a los representantes de los partidos políticos\n",
      "Prediction 2:  {'no_hate': 0.9976341724395752, 'hate': 0.002365865046158433}\n"
     ]
    }
   ],
   "source": [
    "from spanish_nlp import classifiers\n",
    "\n",
    "sc = classifiers.SpanishClassifier(model_name=\"hate_speech\", device=\"cpu\")\n",
    "t1 = \"LAS MUJERES Y GAYS DEBERÍAN SER EXTERMINADOS\"\n",
    "t2 = (\n",
    "    \"El presidente convocó a una reunión a los representantes de los partidos políticos\"\n",
    ")\n",
    "p1 = sc.predict(t1)\n",
    "p2 = sc.predict(t2)\n",
    "\n",
    "print(\"Text 1: \", t1)\n",
    "print(\"Prediction 1: \", p1)\n",
    "print(\"Text 2: \", t2)\n",
    "print(\"Prediction 2: \", p2)\n"
   ]
  },
  {
   "attachments": {},
   "cell_type": "markdown",
   "metadata": {},
   "source": [
    "## Apply classification for a dataset in pandas"
   ]
  },
  {
   "attachments": {},
   "cell_type": "markdown",
   "metadata": {},
   "source": [
    "### Load dataset"
   ]
  },
  {
   "cell_type": "code",
   "execution_count": 2,
   "metadata": {},
   "outputs": [],
   "source": [
    "from datetime import datetime\n",
    "\n",
    "import pandas as pd\n",
    "import swifter\n",
    "\n",
    "from spanish_nlp.classifiers import SpanishClassifier\n",
    "from spanish_nlp import preprocess\n",
    "\n",
    "# Create DataFrame\n",
    "\n",
    "texts = [\"Deberían ser exterminados los pueblos indígenas\",\n",
    "         \"El presidente convocó a una reunión a los representantes de los partidos políticos\",\n",
    "         \"Los pingüinos son animales\",\n",
    "         \"La vacuna contra el covid-19 ya está disponible\",\n",
    "         \"Hay que matar a todos los extranjeros\"]\n",
    "\n",
    "df = pd.DataFrame(texts, columns=[\"text\"])"
   ]
  },
  {
   "attachments": {},
   "cell_type": "markdown",
   "metadata": {},
   "source": [
    "### Preprocess dataset"
   ]
  },
  {
   "cell_type": "code",
   "execution_count": 3,
   "metadata": {},
   "outputs": [
    {
     "data": {
      "application/vnd.jupyter.widget-view+json": {
       "model_id": "1549562ca9084f66b897a1cfc82c2289",
       "version_major": 2,
       "version_minor": 0
      },
      "text/plain": [
       "Pandas Apply:   0%|          | 0/5 [00:00<?, ?it/s]"
      ]
     },
     "metadata": {},
     "output_type": "display_data"
    }
   ],
   "source": [
    "# Preprocess texts\n",
    "\n",
    "sp = preprocess.SpanishPreprocess(\n",
    "        lower=False,\n",
    "        remove_url=True,\n",
    "        remove_hashtags=False,\n",
    "        split_hashtags=True,\n",
    "        normalize_breaklines=True,\n",
    "        remove_emoticons=False,\n",
    "        remove_emojis=False,\n",
    "        convert_emoticons=False,\n",
    "        convert_emojis=False,\n",
    "        normalize_inclusive_language=True,\n",
    "        reduce_spam=True,\n",
    "        remove_vowels_accents=True,\n",
    "        remove_multiple_spaces=True,\n",
    "        remove_punctuation=True,\n",
    "        remove_unprintable=True,\n",
    "        remove_numbers=True,\n",
    "        remove_stopwords=False,\n",
    "        stopwords_list=None,\n",
    "        lemmatize=False,\n",
    "        stem=False,\n",
    "        remove_html_tags=True,\n",
    ")\n",
    "\n",
    "df[\"text\"] = df[\"text\"].swifter.apply(sp.transform)\n",
    "\n",
    "df = df[df.text.notnull()]\n",
    "df = df[df.text != \"\"]\n",
    "df = df[df[\"text\"].apply(lambda x: isinstance(x, str))]\n",
    "df = df.reset_index(drop=True)"
   ]
  },
  {
   "attachments": {},
   "cell_type": "markdown",
   "metadata": {},
   "source": [
    "### Classify dataset \n",
    "\n",
    "#### Models:\n",
    "* hate_speech\n",
    "* incivility\n",
    "* sentiment analysis\n",
    "* emotion analysis\n",
    "* sexist analysisracism analysis"
   ]
  },
  {
   "cell_type": "code",
   "execution_count": 4,
   "metadata": {},
   "outputs": [
    {
     "data": {
      "application/vnd.jupyter.widget-view+json": {
       "model_id": "70a032a50d8e4932850eae775aaf961c",
       "version_major": 2,
       "version_minor": 0
      },
      "text/plain": [
       "Pandas Apply:   0%|          | 0/5 [00:00<?, ?it/s]"
      ]
     },
     "metadata": {},
     "output_type": "display_data"
    },
    {
     "data": {
      "application/vnd.jupyter.widget-view+json": {
       "model_id": "49d322c46a4d4d478228899c8b14e41c",
       "version_major": 2,
       "version_minor": 0
      },
      "text/plain": [
       "Downloading:   0%|          | 0.00/944 [00:00<?, ?B/s]"
      ]
     },
     "metadata": {},
     "output_type": "display_data"
    },
    {
     "data": {
      "application/vnd.jupyter.widget-view+json": {
       "model_id": "f30b647c36e64f98a43bac8393a171d1",
       "version_major": 2,
       "version_minor": 0
      },
      "text/plain": [
       "Downloading:   0%|          | 0.00/439M [00:00<?, ?B/s]"
      ]
     },
     "metadata": {},
     "output_type": "display_data"
    },
    {
     "data": {
      "application/vnd.jupyter.widget-view+json": {
       "model_id": "0a2d514efe1a43429d3e60cf4740f6ff",
       "version_major": 2,
       "version_minor": 0
      },
      "text/plain": [
       "Downloading:   0%|          | 0.00/667 [00:00<?, ?B/s]"
      ]
     },
     "metadata": {},
     "output_type": "display_data"
    },
    {
     "data": {
      "application/vnd.jupyter.widget-view+json": {
       "model_id": "ea5435e0fa9c4b4cbc44ee81c741600b",
       "version_major": 2,
       "version_minor": 0
      },
      "text/plain": [
       "Downloading:   0%|          | 0.00/242k [00:00<?, ?B/s]"
      ]
     },
     "metadata": {},
     "output_type": "display_data"
    },
    {
     "data": {
      "application/vnd.jupyter.widget-view+json": {
       "model_id": "1f0276ef5c9b461a99a8cf8b8c456065",
       "version_major": 2,
       "version_minor": 0
      },
      "text/plain": [
       "Downloading:   0%|          | 0.00/730k [00:00<?, ?B/s]"
      ]
     },
     "metadata": {},
     "output_type": "display_data"
    },
    {
     "data": {
      "application/vnd.jupyter.widget-view+json": {
       "model_id": "fc53169ed035486eb6aec77bd99a6cb6",
       "version_major": 2,
       "version_minor": 0
      },
      "text/plain": [
       "Downloading:   0%|          | 0.00/125 [00:00<?, ?B/s]"
      ]
     },
     "metadata": {},
     "output_type": "display_data"
    },
    {
     "data": {
      "application/vnd.jupyter.widget-view+json": {
       "model_id": "1b40eb16364340f5928004233ebcbfbf",
       "version_major": 2,
       "version_minor": 0
      },
      "text/plain": [
       "Pandas Apply:   0%|          | 0/5 [00:00<?, ?it/s]"
      ]
     },
     "metadata": {},
     "output_type": "display_data"
    },
    {
     "data": {
      "application/vnd.jupyter.widget-view+json": {
       "model_id": "36980309100549dfb194081820e880ef",
       "version_major": 2,
       "version_minor": 0
      },
      "text/plain": [
       "Pandas Apply:   0%|          | 0/5 [00:00<?, ?it/s]"
      ]
     },
     "metadata": {},
     "output_type": "display_data"
    },
    {
     "data": {
      "application/vnd.jupyter.widget-view+json": {
       "model_id": "b8362c301a0843aea93910e6a478886c",
       "version_major": 2,
       "version_minor": 0
      },
      "text/plain": [
       "Pandas Apply:   0%|          | 0/5 [00:00<?, ?it/s]"
      ]
     },
     "metadata": {},
     "output_type": "display_data"
    },
    {
     "data": {
      "application/vnd.jupyter.widget-view+json": {
       "model_id": "1bcf0d3ff34b40f383a9ee4782109de2",
       "version_major": 2,
       "version_minor": 0
      },
      "text/plain": [
       "Pandas Apply:   0%|          | 0/5 [00:00<?, ?it/s]"
      ]
     },
     "metadata": {},
     "output_type": "display_data"
    },
    {
     "data": {
      "application/vnd.jupyter.widget-view+json": {
       "model_id": "6f7c25738b8848ae8e71d72af49609fb",
       "version_major": 2,
       "version_minor": 0
      },
      "text/plain": [
       "Pandas Apply:   0%|          | 0/5 [00:00<?, ?it/s]"
      ]
     },
     "metadata": {},
     "output_type": "display_data"
    },
    {
     "data": {
      "application/vnd.jupyter.widget-view+json": {
       "model_id": "0c793e17b26a48348e1f85a6160b7b15",
       "version_major": 2,
       "version_minor": 0
      },
      "text/plain": [
       "Pandas Apply:   0%|          | 0/5 [00:00<?, ?it/s]"
      ]
     },
     "metadata": {},
     "output_type": "display_data"
    }
   ],
   "source": [
    "def predict_label(text, model):\n",
    "    try:\n",
    "        return model.predict(text)\n",
    "    except Exception as e:\n",
    "        time = datetime.now().strftime(\"%d-%Y-%m %H:%M:%S\")\n",
    "        print(f\"{time} - {e}\")\n",
    "\n",
    "\n",
    "classifiers_names = [\n",
    "    \"hate_speech\",\n",
    "    \"incivility\",\n",
    "    \"sentiment_analysis\",\n",
    "    \"emotion_analysis\",\n",
    "    \"irony_analysis\",\n",
    "    \"sexist_analysis\",\n",
    "    \"racism_analysis\",\n",
    "]\n",
    "classifiers = {}\n",
    "\n",
    "for n in classifiers_names:\n",
    "    c = SpanishClassifier(model_name=n, device=\"cpu\")\n",
    "    df[n] = df[\"text\"].swifter.apply(lambda x: c.predict(x))\n",
    "\n"
   ]
  },
  {
   "cell_type": "code",
   "execution_count": 5,
   "metadata": {},
   "outputs": [
    {
     "data": {
      "text/html": [
       "<div>\n",
       "<style scoped>\n",
       "    .dataframe tbody tr th:only-of-type {\n",
       "        vertical-align: middle;\n",
       "    }\n",
       "\n",
       "    .dataframe tbody tr th {\n",
       "        vertical-align: top;\n",
       "    }\n",
       "\n",
       "    .dataframe thead th {\n",
       "        text-align: right;\n",
       "    }\n",
       "</style>\n",
       "<table border=\"1\" class=\"dataframe\">\n",
       "  <thead>\n",
       "    <tr style=\"text-align: right;\">\n",
       "      <th></th>\n",
       "      <th>text</th>\n",
       "      <th>hate_speech</th>\n",
       "      <th>incivility</th>\n",
       "      <th>sentiment_analysis</th>\n",
       "      <th>emotion_analysis</th>\n",
       "      <th>irony_analysis</th>\n",
       "      <th>sexist_analysis</th>\n",
       "      <th>racism_analysis</th>\n",
       "    </tr>\n",
       "  </thead>\n",
       "  <tbody>\n",
       "    <tr>\n",
       "      <th>0</th>\n",
       "      <td>Deberian ser exterminados los pueblos indigenas</td>\n",
       "      <td>{'no_hate': 0.9549753069877625, 'hate': 0.0450...</td>\n",
       "      <td>{'no_incivility': 0.623492956161499, 'incivili...</td>\n",
       "      <td>{'negative': 0.8032280802726746, 'neutral': 0....</td>\n",
       "      <td>{'others': 0.748774528503418, 'anger': 0.16288...</td>\n",
       "      <td>{'not_ironic': 0.9995823502540588, 'ironic': 0...</td>\n",
       "      <td>{'not_sexist': 0.9762647747993469, 'sexist': 0...</td>\n",
       "      <td>{'non-racist': 0.999099612236023, 'racist': 0....</td>\n",
       "    </tr>\n",
       "    <tr>\n",
       "      <th>1</th>\n",
       "      <td>El presidente convoco a una reunion a los repr...</td>\n",
       "      <td>{'no_hate': 0.9978753328323364, 'hate': 0.0021...</td>\n",
       "      <td>{'no_incivility': 0.8898597359657288, 'incivil...</td>\n",
       "      <td>{'neutral': 0.8114618062973022, 'positive': 0....</td>\n",
       "      <td>{'others': 0.9919043183326721, 'joy': 0.002639...</td>\n",
       "      <td>{'not_ironic': 0.9993013143539429, 'ironic': 0...</td>\n",
       "      <td>{'not_sexist': 0.9759377837181091, 'sexist': 0...</td>\n",
       "      <td>{'non-racist': 0.9996436834335327, 'racist': 0...</td>\n",
       "    </tr>\n",
       "    <tr>\n",
       "      <th>2</th>\n",
       "      <td>Los pinguinos son animalos</td>\n",
       "      <td>{'no_hate': 0.970565915107727, 'hate': 0.02943...</td>\n",
       "      <td>{'incivility': 0.5072252750396729, 'no_incivil...</td>\n",
       "      <td>{'positive': 0.5787513256072998, 'neutral': 0....</td>\n",
       "      <td>{'others': 0.9116767644882202, 'joy': 0.024299...</td>\n",
       "      <td>{'not_ironic': 0.7218025922775269, 'ironic': 0...</td>\n",
       "      <td>{'not_sexist': 0.9535900950431824, 'sexist': 0...</td>\n",
       "      <td>{'non-racist': 0.9981189370155334, 'racist': 0...</td>\n",
       "    </tr>\n",
       "    <tr>\n",
       "      <th>3</th>\n",
       "      <td>La vacuna contra el covid ya esta disponible</td>\n",
       "      <td>{'no_hate': 0.998217761516571, 'hate': 0.00178...</td>\n",
       "      <td>{'no_incivility': 0.9326367974281311, 'incivil...</td>\n",
       "      <td>{'positive': 0.5552893877029419, 'neutral': 0....</td>\n",
       "      <td>{'others': 0.9687969088554382, 'joy': 0.019537...</td>\n",
       "      <td>{'not_ironic': 0.9697375297546387, 'ironic': 0...</td>\n",
       "      <td>{'not_sexist': 0.9818084836006165, 'sexist': 0...</td>\n",
       "      <td>{'non-racist': 0.9996614456176758, 'racist': 0...</td>\n",
       "    </tr>\n",
       "    <tr>\n",
       "      <th>4</th>\n",
       "      <td>Hay que matar a todos los extranjeros</td>\n",
       "      <td>{'hate': 0.8858439326286316, 'no_hate': 0.1141...</td>\n",
       "      <td>{'no_incivility': 0.7517166137695312, 'incivil...</td>\n",
       "      <td>{'negative': 0.7249139547348022, 'neutral': 0....</td>\n",
       "      <td>{'anger': 0.626744270324707, 'disgust': 0.3094...</td>\n",
       "      <td>{'not_ironic': 0.9974295496940613, 'ironic': 0...</td>\n",
       "      <td>{'not_sexist': 0.9626052379608154, 'sexist': 0...</td>\n",
       "      <td>{'racist': 0.9961186647415161, 'non-racist': 0...</td>\n",
       "    </tr>\n",
       "  </tbody>\n",
       "</table>\n",
       "</div>"
      ],
      "text/plain": [
       "                                                text  \\\n",
       "0    Deberian ser exterminados los pueblos indigenas   \n",
       "1  El presidente convoco a una reunion a los repr...   \n",
       "2                         Los pinguinos son animalos   \n",
       "3       La vacuna contra el covid ya esta disponible   \n",
       "4              Hay que matar a todos los extranjeros   \n",
       "\n",
       "                                         hate_speech  \\\n",
       "0  {'no_hate': 0.9549753069877625, 'hate': 0.0450...   \n",
       "1  {'no_hate': 0.9978753328323364, 'hate': 0.0021...   \n",
       "2  {'no_hate': 0.970565915107727, 'hate': 0.02943...   \n",
       "3  {'no_hate': 0.998217761516571, 'hate': 0.00178...   \n",
       "4  {'hate': 0.8858439326286316, 'no_hate': 0.1141...   \n",
       "\n",
       "                                          incivility  \\\n",
       "0  {'no_incivility': 0.623492956161499, 'incivili...   \n",
       "1  {'no_incivility': 0.8898597359657288, 'incivil...   \n",
       "2  {'incivility': 0.5072252750396729, 'no_incivil...   \n",
       "3  {'no_incivility': 0.9326367974281311, 'incivil...   \n",
       "4  {'no_incivility': 0.7517166137695312, 'incivil...   \n",
       "\n",
       "                                  sentiment_analysis  \\\n",
       "0  {'negative': 0.8032280802726746, 'neutral': 0....   \n",
       "1  {'neutral': 0.8114618062973022, 'positive': 0....   \n",
       "2  {'positive': 0.5787513256072998, 'neutral': 0....   \n",
       "3  {'positive': 0.5552893877029419, 'neutral': 0....   \n",
       "4  {'negative': 0.7249139547348022, 'neutral': 0....   \n",
       "\n",
       "                                    emotion_analysis  \\\n",
       "0  {'others': 0.748774528503418, 'anger': 0.16288...   \n",
       "1  {'others': 0.9919043183326721, 'joy': 0.002639...   \n",
       "2  {'others': 0.9116767644882202, 'joy': 0.024299...   \n",
       "3  {'others': 0.9687969088554382, 'joy': 0.019537...   \n",
       "4  {'anger': 0.626744270324707, 'disgust': 0.3094...   \n",
       "\n",
       "                                      irony_analysis  \\\n",
       "0  {'not_ironic': 0.9995823502540588, 'ironic': 0...   \n",
       "1  {'not_ironic': 0.9993013143539429, 'ironic': 0...   \n",
       "2  {'not_ironic': 0.7218025922775269, 'ironic': 0...   \n",
       "3  {'not_ironic': 0.9697375297546387, 'ironic': 0...   \n",
       "4  {'not_ironic': 0.9974295496940613, 'ironic': 0...   \n",
       "\n",
       "                                     sexist_analysis  \\\n",
       "0  {'not_sexist': 0.9762647747993469, 'sexist': 0...   \n",
       "1  {'not_sexist': 0.9759377837181091, 'sexist': 0...   \n",
       "2  {'not_sexist': 0.9535900950431824, 'sexist': 0...   \n",
       "3  {'not_sexist': 0.9818084836006165, 'sexist': 0...   \n",
       "4  {'not_sexist': 0.9626052379608154, 'sexist': 0...   \n",
       "\n",
       "                                     racism_analysis  \n",
       "0  {'non-racist': 0.999099612236023, 'racist': 0....  \n",
       "1  {'non-racist': 0.9996436834335327, 'racist': 0...  \n",
       "2  {'non-racist': 0.9981189370155334, 'racist': 0...  \n",
       "3  {'non-racist': 0.9996614456176758, 'racist': 0...  \n",
       "4  {'racist': 0.9961186647415161, 'non-racist': 0...  "
      ]
     },
     "execution_count": 5,
     "metadata": {},
     "output_type": "execute_result"
    }
   ],
   "source": [
    "df"
   ]
  }
 ],
 "metadata": {
  "kernelspec": {
   "display_name": "py310",
   "language": "python",
   "name": "python3"
  },
  "language_info": {
   "codemirror_mode": {
    "name": "ipython",
    "version": 3
   },
   "file_extension": ".py",
   "mimetype": "text/x-python",
   "name": "python",
   "nbconvert_exporter": "python",
   "pygments_lexer": "ipython3",
   "version": "3.10.8"
  },
  "orig_nbformat": 4,
  "vscode": {
   "interpreter": {
    "hash": "d1a940d2a5a085e4f840c6fa90dace1e4a81d9a7fba180f0fcbb4947149ff9d2"
   }
  }
 },
 "nbformat": 4,
 "nbformat_minor": 2
}
