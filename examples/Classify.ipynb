{
 "cells": [
  {
   "attachments": {},
   "cell_type": "markdown",
   "metadata": {},
   "source": [
    "# Spanish NLP: Classify Notebook\n",
    "\n",
    "For more information visit [spanish_nlp](https://github.com/jorgeortizfuentes/spanish_nlp) repository on GitHub."
   ]
  },
  {
   "attachments": {},
   "cell_type": "markdown",
   "metadata": {},
   "source": [
    "## Available models\n",
    "\n",
    "| **Model name**     | **Sources**                            |\n",
    "|--------------------|----------------------------------------|\n",
    "| hate_speech        | robertuito                             |\n",
    "| incivility         | bert                                   |\n",
    "| toxic_speech       | political-tweets-es                    |\n",
    "| sentiment_analysis | robertuito                             |\n",
    "| emotion_analysis   | robertuito                             |\n",
    "| irony_analysis     | robertuito                             |\n",
    "| sexist_analysis    | sexist_analysis_metwo                  |\n",
    "| racist_analysis    | racism_paula_lobo_et_al_average_strict |\n"
   ]
  },
  {
   "attachments": {},
   "cell_type": "markdown",
   "metadata": {},
   "source": [
    "## Quick usage"
   ]
  },
  {
   "cell_type": "code",
   "execution_count": 1,
   "metadata": {},
   "outputs": [
    {
     "name": "stdout",
     "output_type": "stream",
     "text": [
      "Text 1:  LAS MUJERES Y GAYS DEBERÍAN SER EXTERMINADOS\n",
      "Prediction 1:  {'hate_speech': 0.7544152736663818, 'not_hate_speech': 0.24558477103710175}\n",
      "Text 2:  El presidente convocó a una reunión a los representantes de los partidos políticos\n",
      "Prediction 2:  {'not_hate_speech': 0.9793208837509155, 'hate_speech': 0.02067909575998783}\n"
     ]
    }
   ],
   "source": [
    "from spanish_nlp import classifiers\n",
    "\n",
    "sc = classifiers.SpanishClassifier(model_name=\"hate_speech\", device=\"cpu\")\n",
    "t1 = \"LAS MUJERES Y GAYS DEBERÍAN SER EXTERMINADOS\"\n",
    "t2 = (\n",
    "    \"El presidente convocó a una reunión a los representantes de los partidos políticos\"\n",
    ")\n",
    "p1 = sc.predict(t1)\n",
    "p2 = sc.predict(t2)\n",
    "\n",
    "print(\"Text 1: \", t1)\n",
    "print(\"Prediction 1: \", p1)\n",
    "print(\"Text 2: \", t2)\n",
    "print(\"Prediction 2: \", p2)\n"
   ]
  },
  {
   "attachments": {},
   "cell_type": "markdown",
   "metadata": {},
   "source": [
    "## Apply classification for a dataset in pandas"
   ]
  },
  {
   "cell_type": "code",
   "execution_count": 2,
   "metadata": {},
   "outputs": [],
   "source": [
    "from datetime import datetime\n",
    "\n",
    "import pandas as pd\n",
    "import swifter\n",
    "\n",
    "from spanish_nlp.classifiers import SpanishClassifier\n",
    "from spanish_nlp import preprocess\n",
    "\n",
    "# Create DataFrame\n",
    "\n",
    "texts = [\"Deberían ser exterminados los pueblos indígenas\",\n",
    "         \"El presidente convocó a una reunión a los representantes de los partidos políticos\",\n",
    "         \"Los pingüinos son animales\",\n",
    "         \"La vacuna contra el covid-19 ya está disponible\",\n",
    "         \"Hay que matar a todos los extranjeros\"]\n",
    "\n",
    "df = pd.DataFrame(texts, columns=[\"text\"])"
   ]
  },
  {
   "cell_type": "code",
   "execution_count": 3,
   "metadata": {},
   "outputs": [
    {
     "data": {
      "application/vnd.jupyter.widget-view+json": {
       "model_id": "efabad66060749088473c6a37ff16925",
       "version_major": 2,
       "version_minor": 0
      },
      "text/plain": [
       "Pandas Apply:   0%|          | 0/5 [00:00<?, ?it/s]"
      ]
     },
     "metadata": {},
     "output_type": "display_data"
    },
    {
     "data": {
      "application/vnd.jupyter.widget-view+json": {
       "model_id": "a834bc09206d4ccd804d2811cf9e88b1",
       "version_major": 2,
       "version_minor": 0
      },
      "text/plain": [
       "Pandas Apply:   0%|          | 0/5 [00:00<?, ?it/s]"
      ]
     },
     "metadata": {},
     "output_type": "display_data"
    },
    {
     "data": {
      "application/vnd.jupyter.widget-view+json": {
       "model_id": "2c33985a273247a4a18da8ceb42b4240",
       "version_major": 2,
       "version_minor": 0
      },
      "text/plain": [
       "Pandas Apply:   0%|          | 0/5 [00:00<?, ?it/s]"
      ]
     },
     "metadata": {},
     "output_type": "display_data"
    },
    {
     "data": {
      "application/vnd.jupyter.widget-view+json": {
       "model_id": "2c692e7c4bfb41b0aeda767eb0ecb969",
       "version_major": 2,
       "version_minor": 0
      },
      "text/plain": [
       "Downloading:   0%|          | 0.00/435M [00:00<?, ?B/s]"
      ]
     },
     "metadata": {},
     "output_type": "display_data"
    },
    {
     "data": {
      "application/vnd.jupyter.widget-view+json": {
       "model_id": "2b59ba627a164568a33d772921ed21e3",
       "version_major": 2,
       "version_minor": 0
      },
      "text/plain": [
       "Downloading:   0%|          | 0.00/384 [00:00<?, ?B/s]"
      ]
     },
     "metadata": {},
     "output_type": "display_data"
    },
    {
     "data": {
      "application/vnd.jupyter.widget-view+json": {
       "model_id": "427a8dd9d9e04718a0ca7fd5dd5a72f5",
       "version_major": 2,
       "version_minor": 0
      },
      "text/plain": [
       "Downloading:   0%|          | 0.00/1.31M [00:00<?, ?B/s]"
      ]
     },
     "metadata": {},
     "output_type": "display_data"
    },
    {
     "data": {
      "application/vnd.jupyter.widget-view+json": {
       "model_id": "295f52fde3514b82a67bf1f6d642e980",
       "version_major": 2,
       "version_minor": 0
      },
      "text/plain": [
       "Downloading:   0%|          | 0.00/167 [00:00<?, ?B/s]"
      ]
     },
     "metadata": {},
     "output_type": "display_data"
    },
    {
     "data": {
      "application/vnd.jupyter.widget-view+json": {
       "model_id": "d45e17aa550046febdeed117a563e9b3",
       "version_major": 2,
       "version_minor": 0
      },
      "text/plain": [
       "Pandas Apply:   0%|          | 0/5 [00:00<?, ?it/s]"
      ]
     },
     "metadata": {},
     "output_type": "display_data"
    },
    {
     "data": {
      "application/vnd.jupyter.widget-view+json": {
       "model_id": "8205011b91cd4813b9f6341e3a21da29",
       "version_major": 2,
       "version_minor": 0
      },
      "text/plain": [
       "Downloading:   0%|          | 0.00/1.08k [00:00<?, ?B/s]"
      ]
     },
     "metadata": {},
     "output_type": "display_data"
    },
    {
     "data": {
      "application/vnd.jupyter.widget-view+json": {
       "model_id": "cd00c3884d9d4418a585967bfffedb64",
       "version_major": 2,
       "version_minor": 0
      },
      "text/plain": [
       "Downloading:   0%|          | 0.00/435M [00:00<?, ?B/s]"
      ]
     },
     "metadata": {},
     "output_type": "display_data"
    },
    {
     "data": {
      "application/vnd.jupyter.widget-view+json": {
       "model_id": "8b5701aa87844c89956d298379a856ff",
       "version_major": 2,
       "version_minor": 0
      },
      "text/plain": [
       "Downloading:   0%|          | 0.00/384 [00:00<?, ?B/s]"
      ]
     },
     "metadata": {},
     "output_type": "display_data"
    },
    {
     "data": {
      "application/vnd.jupyter.widget-view+json": {
       "model_id": "f04012cad326481fb8545bcbbd8a59bd",
       "version_major": 2,
       "version_minor": 0
      },
      "text/plain": [
       "Downloading:   0%|          | 0.00/1.31M [00:00<?, ?B/s]"
      ]
     },
     "metadata": {},
     "output_type": "display_data"
    },
    {
     "data": {
      "application/vnd.jupyter.widget-view+json": {
       "model_id": "1b0bb3affc0f4fa292c2a82bc78edfff",
       "version_major": 2,
       "version_minor": 0
      },
      "text/plain": [
       "Downloading:   0%|          | 0.00/167 [00:00<?, ?B/s]"
      ]
     },
     "metadata": {},
     "output_type": "display_data"
    },
    {
     "data": {
      "application/vnd.jupyter.widget-view+json": {
       "model_id": "f138835efa3846bda9ffe2cd07151c89",
       "version_major": 2,
       "version_minor": 0
      },
      "text/plain": [
       "Pandas Apply:   0%|          | 0/5 [00:00<?, ?it/s]"
      ]
     },
     "metadata": {},
     "output_type": "display_data"
    },
    {
     "data": {
      "application/vnd.jupyter.widget-view+json": {
       "model_id": "de91f48d235d49a5b1e0db145ce680c2",
       "version_major": 2,
       "version_minor": 0
      },
      "text/plain": [
       "Downloading:   0%|          | 0.00/915 [00:00<?, ?B/s]"
      ]
     },
     "metadata": {},
     "output_type": "display_data"
    },
    {
     "data": {
      "application/vnd.jupyter.widget-view+json": {
       "model_id": "34ccf93e826d4db3a449a7d5d85dcc14",
       "version_major": 2,
       "version_minor": 0
      },
      "text/plain": [
       "Downloading:   0%|          | 0.00/435M [00:00<?, ?B/s]"
      ]
     },
     "metadata": {},
     "output_type": "display_data"
    },
    {
     "data": {
      "application/vnd.jupyter.widget-view+json": {
       "model_id": "6611d96983854b8eaf5f7a408c564d1a",
       "version_major": 2,
       "version_minor": 0
      },
      "text/plain": [
       "Downloading:   0%|          | 0.00/384 [00:00<?, ?B/s]"
      ]
     },
     "metadata": {},
     "output_type": "display_data"
    },
    {
     "data": {
      "application/vnd.jupyter.widget-view+json": {
       "model_id": "492aee1a260245ab87f62f052ee82bbd",
       "version_major": 2,
       "version_minor": 0
      },
      "text/plain": [
       "Downloading:   0%|          | 0.00/1.31M [00:00<?, ?B/s]"
      ]
     },
     "metadata": {},
     "output_type": "display_data"
    },
    {
     "data": {
      "application/vnd.jupyter.widget-view+json": {
       "model_id": "cfc434fa038340b1a21d8e29aba8d090",
       "version_major": 2,
       "version_minor": 0
      },
      "text/plain": [
       "Downloading:   0%|          | 0.00/167 [00:00<?, ?B/s]"
      ]
     },
     "metadata": {},
     "output_type": "display_data"
    },
    {
     "data": {
      "application/vnd.jupyter.widget-view+json": {
       "model_id": "3f23d656141d4dfeb575df758fee0421",
       "version_major": 2,
       "version_minor": 0
      },
      "text/plain": [
       "Pandas Apply:   0%|          | 0/5 [00:00<?, ?it/s]"
      ]
     },
     "metadata": {},
     "output_type": "display_data"
    },
    {
     "data": {
      "application/vnd.jupyter.widget-view+json": {
       "model_id": "3397201d11874273bf8cd396287f5c64",
       "version_major": 2,
       "version_minor": 0
      },
      "text/plain": [
       "Downloading:   0%|          | 0.00/795 [00:00<?, ?B/s]"
      ]
     },
     "metadata": {},
     "output_type": "display_data"
    },
    {
     "data": {
      "application/vnd.jupyter.widget-view+json": {
       "model_id": "0765cf987cf24eab9fdb634818ab5a47",
       "version_major": 2,
       "version_minor": 0
      },
      "text/plain": [
       "Downloading:   0%|          | 0.00/435M [00:00<?, ?B/s]"
      ]
     },
     "metadata": {},
     "output_type": "display_data"
    },
    {
     "data": {
      "application/vnd.jupyter.widget-view+json": {
       "model_id": "f3f4235acfd94b76a584672d9e5714d8",
       "version_major": 2,
       "version_minor": 0
      },
      "text/plain": [
       "Downloading:   0%|          | 0.00/334 [00:00<?, ?B/s]"
      ]
     },
     "metadata": {},
     "output_type": "display_data"
    },
    {
     "data": {
      "application/vnd.jupyter.widget-view+json": {
       "model_id": "565480339db046f386f7e61e7ad6cf27",
       "version_major": 2,
       "version_minor": 0
      },
      "text/plain": [
       "Downloading:   0%|          | 0.00/1.31M [00:00<?, ?B/s]"
      ]
     },
     "metadata": {},
     "output_type": "display_data"
    },
    {
     "data": {
      "application/vnd.jupyter.widget-view+json": {
       "model_id": "3f58c4401ee34e27a634318861a69dcd",
       "version_major": 2,
       "version_minor": 0
      },
      "text/plain": [
       "Downloading:   0%|          | 0.00/150 [00:00<?, ?B/s]"
      ]
     },
     "metadata": {},
     "output_type": "display_data"
    },
    {
     "data": {
      "application/vnd.jupyter.widget-view+json": {
       "model_id": "7b0ca672aef34e7da996b88486f93ae8",
       "version_major": 2,
       "version_minor": 0
      },
      "text/plain": [
       "Pandas Apply:   0%|          | 0/5 [00:00<?, ?it/s]"
      ]
     },
     "metadata": {},
     "output_type": "display_data"
    },
    {
     "data": {
      "application/vnd.jupyter.widget-view+json": {
       "model_id": "ea0a7b7f7b194e87b269d284b8d92a10",
       "version_major": 2,
       "version_minor": 0
      },
      "text/plain": [
       "Downloading:   0%|          | 0.00/834 [00:00<?, ?B/s]"
      ]
     },
     "metadata": {},
     "output_type": "display_data"
    },
    {
     "data": {
      "application/vnd.jupyter.widget-view+json": {
       "model_id": "2818cda8f206407dbab8cf8c9637cc99",
       "version_major": 2,
       "version_minor": 0
      },
      "text/plain": [
       "Downloading:   0%|          | 0.00/439M [00:00<?, ?B/s]"
      ]
     },
     "metadata": {},
     "output_type": "display_data"
    },
    {
     "data": {
      "application/vnd.jupyter.widget-view+json": {
       "model_id": "159eb45a84e240c0aa894eed5833016d",
       "version_major": 2,
       "version_minor": 0
      },
      "text/plain": [
       "Downloading:   0%|          | 0.00/310 [00:00<?, ?B/s]"
      ]
     },
     "metadata": {},
     "output_type": "display_data"
    },
    {
     "data": {
      "application/vnd.jupyter.widget-view+json": {
       "model_id": "df61784ba38e4fc19ab2060b72abf6fd",
       "version_major": 2,
       "version_minor": 0
      },
      "text/plain": [
       "Downloading:   0%|          | 0.00/650 [00:00<?, ?B/s]"
      ]
     },
     "metadata": {},
     "output_type": "display_data"
    },
    {
     "data": {
      "application/vnd.jupyter.widget-view+json": {
       "model_id": "cd06e14dea6246ddb4ae7cfbc8cbe681",
       "version_major": 2,
       "version_minor": 0
      },
      "text/plain": [
       "Downloading:   0%|          | 0.00/248k [00:00<?, ?B/s]"
      ]
     },
     "metadata": {},
     "output_type": "display_data"
    },
    {
     "data": {
      "application/vnd.jupyter.widget-view+json": {
       "model_id": "e5608901cef14a1797ece8b098f76568",
       "version_major": 2,
       "version_minor": 0
      },
      "text/plain": [
       "Downloading:   0%|          | 0.00/486k [00:00<?, ?B/s]"
      ]
     },
     "metadata": {},
     "output_type": "display_data"
    },
    {
     "data": {
      "application/vnd.jupyter.widget-view+json": {
       "model_id": "959f9211d9e74a6bae946d3c24ba8cdd",
       "version_major": 2,
       "version_minor": 0
      },
      "text/plain": [
       "Downloading:   0%|          | 0.00/134 [00:00<?, ?B/s]"
      ]
     },
     "metadata": {},
     "output_type": "display_data"
    },
    {
     "data": {
      "application/vnd.jupyter.widget-view+json": {
       "model_id": "49f6923a58ee4c07a913844fa89ba54b",
       "version_major": 2,
       "version_minor": 0
      },
      "text/plain": [
       "Pandas Apply:   0%|          | 0/5 [00:00<?, ?it/s]"
      ]
     },
     "metadata": {},
     "output_type": "display_data"
    },
    {
     "data": {
      "text/html": [
       "<div>\n",
       "<style scoped>\n",
       "    .dataframe tbody tr th:only-of-type {\n",
       "        vertical-align: middle;\n",
       "    }\n",
       "\n",
       "    .dataframe tbody tr th {\n",
       "        vertical-align: top;\n",
       "    }\n",
       "\n",
       "    .dataframe thead th {\n",
       "        text-align: right;\n",
       "    }\n",
       "</style>\n",
       "<table border=\"1\" class=\"dataframe\">\n",
       "  <thead>\n",
       "    <tr style=\"text-align: right;\">\n",
       "      <th></th>\n",
       "      <th>text</th>\n",
       "      <th>hate_speech</th>\n",
       "      <th>toxic_speech</th>\n",
       "      <th>sentiment_analysis</th>\n",
       "      <th>emotion_analysis</th>\n",
       "      <th>irony_analysis</th>\n",
       "      <th>sexist_analysis</th>\n",
       "      <th>racism_analysis</th>\n",
       "    </tr>\n",
       "  </thead>\n",
       "  <tbody>\n",
       "    <tr>\n",
       "      <th>0</th>\n",
       "      <td>Deberian ser exterminados los pueblos indigenas</td>\n",
       "      <td>{'not_hate_speech': 0.8328660130500793, 'hate_...</td>\n",
       "      <td>{'toxic': 0.6276343464851379, 'very_toxic': 0....</td>\n",
       "      <td>{'negative': 0.8032280802726746, 'neutral': 0....</td>\n",
       "      <td>{'others': 0.748774528503418, 'anger': 0.16288...</td>\n",
       "      <td>{'not_ironic': 0.9995823502540588, 'ironic': 0...</td>\n",
       "      <td>{'not_sexist': 0.9762647747993469, 'sexist': 0...</td>\n",
       "      <td>{'non-racist': 0.999099612236023, 'racist': 0....</td>\n",
       "    </tr>\n",
       "    <tr>\n",
       "      <th>1</th>\n",
       "      <td>El presidente convoco a una reunion a los repr...</td>\n",
       "      <td>{'not_hate_speech': 0.983544647693634, 'hate_s...</td>\n",
       "      <td>{'toxic': 0.00566514628008008, 'very_toxic': 0...</td>\n",
       "      <td>{'neutral': 0.8114618062973022, 'positive': 0....</td>\n",
       "      <td>{'others': 0.9919043183326721, 'joy': 0.002639...</td>\n",
       "      <td>{'not_ironic': 0.9993013143539429, 'ironic': 0...</td>\n",
       "      <td>{'not_sexist': 0.9759377837181091, 'sexist': 0...</td>\n",
       "      <td>{'non-racist': 0.9996436834335327, 'racist': 0...</td>\n",
       "    </tr>\n",
       "    <tr>\n",
       "      <th>2</th>\n",
       "      <td>Los pinguinos son animalos</td>\n",
       "      <td>{'not_hate_speech': 0.9637648463249207, 'hate_...</td>\n",
       "      <td>{'toxic': 0.0185139998793602, 'very_toxic': 0....</td>\n",
       "      <td>{'positive': 0.5787513256072998, 'neutral': 0....</td>\n",
       "      <td>{'others': 0.9116767644882202, 'joy': 0.024299...</td>\n",
       "      <td>{'not_ironic': 0.7218025922775269, 'ironic': 0...</td>\n",
       "      <td>{'not_sexist': 0.9535900950431824, 'sexist': 0...</td>\n",
       "      <td>{'non-racist': 0.9981189370155334, 'racist': 0...</td>\n",
       "    </tr>\n",
       "    <tr>\n",
       "      <th>3</th>\n",
       "      <td>La vacuna contra el covid ya esta disponible</td>\n",
       "      <td>{'not_hate_speech': 0.9811059832572937, 'hate_...</td>\n",
       "      <td>{'toxic': 0.13025140762329102, 'very_toxic': 0...</td>\n",
       "      <td>{'positive': 0.5552893877029419, 'neutral': 0....</td>\n",
       "      <td>{'others': 0.9687969088554382, 'joy': 0.019537...</td>\n",
       "      <td>{'not_ironic': 0.9697375297546387, 'ironic': 0...</td>\n",
       "      <td>{'not_sexist': 0.9818084836006165, 'sexist': 0...</td>\n",
       "      <td>{'non-racist': 0.9996614456176758, 'racist': 0...</td>\n",
       "    </tr>\n",
       "    <tr>\n",
       "      <th>4</th>\n",
       "      <td>Hay que matar a todos los extranjeros</td>\n",
       "      <td>{'hate_speech': 0.8915936350822449, 'not_hate_...</td>\n",
       "      <td>{'toxic': 0.7360461950302124, 'very_toxic': 0....</td>\n",
       "      <td>{'negative': 0.7249139547348022, 'neutral': 0....</td>\n",
       "      <td>{'anger': 0.626744270324707, 'disgust': 0.3094...</td>\n",
       "      <td>{'not_ironic': 0.9974295496940613, 'ironic': 0...</td>\n",
       "      <td>{'not_sexist': 0.9626052379608154, 'sexist': 0...</td>\n",
       "      <td>{'racist': 0.9961186647415161, 'non-racist': 0...</td>\n",
       "    </tr>\n",
       "  </tbody>\n",
       "</table>\n",
       "</div>"
      ],
      "text/plain": [
       "                                                text  \\\n",
       "0    Deberian ser exterminados los pueblos indigenas   \n",
       "1  El presidente convoco a una reunion a los repr...   \n",
       "2                         Los pinguinos son animalos   \n",
       "3       La vacuna contra el covid ya esta disponible   \n",
       "4              Hay que matar a todos los extranjeros   \n",
       "\n",
       "                                         hate_speech  \\\n",
       "0  {'not_hate_speech': 0.8328660130500793, 'hate_...   \n",
       "1  {'not_hate_speech': 0.983544647693634, 'hate_s...   \n",
       "2  {'not_hate_speech': 0.9637648463249207, 'hate_...   \n",
       "3  {'not_hate_speech': 0.9811059832572937, 'hate_...   \n",
       "4  {'hate_speech': 0.8915936350822449, 'not_hate_...   \n",
       "\n",
       "                                        toxic_speech  \\\n",
       "0  {'toxic': 0.6276343464851379, 'very_toxic': 0....   \n",
       "1  {'toxic': 0.00566514628008008, 'very_toxic': 0...   \n",
       "2  {'toxic': 0.0185139998793602, 'very_toxic': 0....   \n",
       "3  {'toxic': 0.13025140762329102, 'very_toxic': 0...   \n",
       "4  {'toxic': 0.7360461950302124, 'very_toxic': 0....   \n",
       "\n",
       "                                  sentiment_analysis  \\\n",
       "0  {'negative': 0.8032280802726746, 'neutral': 0....   \n",
       "1  {'neutral': 0.8114618062973022, 'positive': 0....   \n",
       "2  {'positive': 0.5787513256072998, 'neutral': 0....   \n",
       "3  {'positive': 0.5552893877029419, 'neutral': 0....   \n",
       "4  {'negative': 0.7249139547348022, 'neutral': 0....   \n",
       "\n",
       "                                    emotion_analysis  \\\n",
       "0  {'others': 0.748774528503418, 'anger': 0.16288...   \n",
       "1  {'others': 0.9919043183326721, 'joy': 0.002639...   \n",
       "2  {'others': 0.9116767644882202, 'joy': 0.024299...   \n",
       "3  {'others': 0.9687969088554382, 'joy': 0.019537...   \n",
       "4  {'anger': 0.626744270324707, 'disgust': 0.3094...   \n",
       "\n",
       "                                      irony_analysis  \\\n",
       "0  {'not_ironic': 0.9995823502540588, 'ironic': 0...   \n",
       "1  {'not_ironic': 0.9993013143539429, 'ironic': 0...   \n",
       "2  {'not_ironic': 0.7218025922775269, 'ironic': 0...   \n",
       "3  {'not_ironic': 0.9697375297546387, 'ironic': 0...   \n",
       "4  {'not_ironic': 0.9974295496940613, 'ironic': 0...   \n",
       "\n",
       "                                     sexist_analysis  \\\n",
       "0  {'not_sexist': 0.9762647747993469, 'sexist': 0...   \n",
       "1  {'not_sexist': 0.9759377837181091, 'sexist': 0...   \n",
       "2  {'not_sexist': 0.9535900950431824, 'sexist': 0...   \n",
       "3  {'not_sexist': 0.9818084836006165, 'sexist': 0...   \n",
       "4  {'not_sexist': 0.9626052379608154, 'sexist': 0...   \n",
       "\n",
       "                                     racism_analysis  \n",
       "0  {'non-racist': 0.999099612236023, 'racist': 0....  \n",
       "1  {'non-racist': 0.9996436834335327, 'racist': 0...  \n",
       "2  {'non-racist': 0.9981189370155334, 'racist': 0...  \n",
       "3  {'non-racist': 0.9996614456176758, 'racist': 0...  \n",
       "4  {'racist': 0.9961186647415161, 'non-racist': 0...  "
      ]
     },
     "execution_count": 3,
     "metadata": {},
     "output_type": "execute_result"
    }
   ],
   "source": [
    "# Preprocess texts\n",
    "\n",
    "sp = preprocess.SpanishPreprocess(\n",
    "        lower=False,\n",
    "        remove_url=True,\n",
    "        remove_hashtags=False,\n",
    "        split_hashtags=True,\n",
    "        normalize_breaklines=True,\n",
    "        remove_emoticons=False,\n",
    "        remove_emojis=False,\n",
    "        convert_emoticons=False,\n",
    "        convert_emojis=False,\n",
    "        normalize_inclusive_language=True,\n",
    "        reduce_spam=True,\n",
    "        remove_vowels_accents=True,\n",
    "        remove_multiple_spaces=True,\n",
    "        remove_punctuation=True,\n",
    "        remove_unprintable=True,\n",
    "        remove_numbers=True,\n",
    "        remove_stopwords=False,\n",
    "        stopwords_list=None,\n",
    "        lemmatize=False,\n",
    "        stem=False,\n",
    "        remove_html_tags=True,\n",
    ")\n",
    "\n",
    "df[\"text\"] = df[\"text\"].swifter.apply(sp.transform)\n",
    "\n",
    "df = df[df.text.notnull()]\n",
    "df = df[df.text != \"\"]\n",
    "df = df[df[\"text\"].apply(lambda x: isinstance(x, str))]\n",
    "df = df.reset_index(drop=True)\n",
    "\n",
    "\n",
    "def predict_label(text, model):\n",
    "    try:\n",
    "        return model.predict(text)\n",
    "    except Exception as e:\n",
    "        time = datetime.now().strftime(\"%d-%Y-%m %H:%M:%S\")\n",
    "        print(f\"{time} - {e}\")\n",
    "\n",
    "\n",
    "classifiers_names = [\n",
    "    \"hate_speech\",\n",
    "    \"toxic_speech\",\n",
    "    \"sentiment_analysis\",\n",
    "    \"emotion_analysis\",\n",
    "    \"irony_analysis\",\n",
    "    \"sexist_analysis\",\n",
    "    \"racism_analysis\",\n",
    "]\n",
    "classifiers = {}\n",
    "\n",
    "for n in classifiers_names:\n",
    "    c = SpanishClassifier(model_name=n, device=\"cpu\")\n",
    "    df[n] = df[\"text\"].swifter.apply(lambda x: c.predict(x))\n",
    "\n"
   ]
  }
 ],
 "metadata": {
  "kernelspec": {
   "display_name": "py310",
   "language": "python",
   "name": "python3"
  },
  "language_info": {
   "codemirror_mode": {
    "name": "ipython",
    "version": 3
   },
   "file_extension": ".py",
   "mimetype": "text/x-python",
   "name": "python",
   "nbconvert_exporter": "python",
   "pygments_lexer": "ipython3",
   "version": "3.10.0"
  },
  "orig_nbformat": 4,
  "vscode": {
   "interpreter": {
    "hash": "d1a940d2a5a085e4f840c6fa90dace1e4a81d9a7fba180f0fcbb4947149ff9d2"
   }
  }
 },
 "nbformat": 4,
 "nbformat_minor": 2
}
