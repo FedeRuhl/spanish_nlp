{
 "cells": [
  {
   "attachments": {},
   "cell_type": "markdown",
   "metadata": {},
   "source": [
    "# Spanish NLP: Classify Notebook\n",
    "\n",
    "For more information visit [spanish_nlp](https://github.com/jorgeortizfuentes/spanish_nlp) repository on GitHub.\n"
   ]
  },
  {
   "attachments": {},
   "cell_type": "markdown",
   "metadata": {},
   "source": [
    "## Available models\n",
    "\n",
    "| **Model name**     | **Sources**                            |\n",
    "| ------------------ | -------------------------------------- |\n",
    "| hate_speech        | bert, robertuito                       |\n",
    "| incivility         | bert                                   |\n",
    "| toxic_speech       | political-tweets-es                    |\n",
    "| sentiment_analysis | robertuito                             |\n",
    "| emotion_analysis   | robertuito                             |\n",
    "| irony_analysis     | robertuito                             |\n",
    "| sexist_analysis    | sexist_analysis_metwo                  |\n",
    "| racist_analysis    | racism_paula_lobo_et_al_average_strict |\n"
   ]
  },
  {
   "attachments": {},
   "cell_type": "markdown",
   "metadata": {},
   "source": [
    "## Quick usage\n"
   ]
  },
  {
   "cell_type": "code",
   "execution_count": 4,
   "metadata": {},
   "outputs": [
    {
     "name": "stderr",
     "output_type": "stream",
     "text": [
      "huggingface/tokenizers: The current process just got forked, after parallelism has already been used. Disabling parallelism to avoid deadlocks...\n",
      "To disable this warning, you can either:\n",
      "\t- Avoid using `tokenizers` before the fork if possible\n",
      "\t- Explicitly set the environment variable TOKENIZERS_PARALLELISM=(true | false)\n"
     ]
    },
    {
     "name": "stdout",
     "output_type": "stream",
     "text": [
      "Text 1:  LAS MUJERES Y GAYS DEBERÍAN SER EXTERMINADOS\n",
      "Prediction 1:  {'no_hate': 0.8702718019485474, 'hate': 0.12972821295261383}\n",
      "Text 2:  El presidente convocó a una reunión a los representantes de los partidos políticos\n",
      "Prediction 2:  {'no_hate': 0.9976341724395752, 'hate': 0.002365861786529422}\n"
     ]
    }
   ],
   "source": [
    "from spanish_nlp import SpanishClassifier\n",
    "\n",
    "sc = SpanishClassifier(model_name=\"hate_speech\", device=\"cpu\")\n",
    "t1 = \"LAS MUJERES Y GAYS DEBERÍAN SER EXTERMINADOS\"\n",
    "t2 = \"El presidente convocó a una reunión a los representantes de los partidos políticos\"\n",
    "p1 = sc.predict(t1)\n",
    "p2 = sc.predict(t2)\n",
    "\n",
    "print(\"Text 1: \", t1)\n",
    "print(\"Prediction 1: \", p1)\n",
    "print(\"Text 2: \", t2)\n",
    "print(\"Prediction 2: \", p2)"
   ]
  },
  {
   "attachments": {},
   "cell_type": "markdown",
   "metadata": {},
   "source": [
    "## Apply classification for a dataset in pandas\n"
   ]
  },
  {
   "attachments": {},
   "cell_type": "markdown",
   "metadata": {},
   "source": [
    "### Load dataset\n"
   ]
  },
  {
   "cell_type": "code",
   "execution_count": 5,
   "metadata": {},
   "outputs": [],
   "source": [
    "import pandas as pd\n",
    "\n",
    "# Create DataFrame\n",
    "\n",
    "texts = [\n",
    "    \"Deberían ser exterminados los pueblos indígenas\",\n",
    "    \"El presidente convocó a una reunión a los representantes de los partidos políticos\",\n",
    "    \"Los pingüinos son animales\",\n",
    "    \"La vacuna contra el covid-19 ya está disponible\",\n",
    "    \"Hay que matar a todos los extranjeros\",\n",
    "]\n",
    "\n",
    "df = pd.DataFrame(texts, columns=[\"text\"])"
   ]
  },
  {
   "attachments": {},
   "cell_type": "markdown",
   "metadata": {},
   "source": [
    "### Preprocess dataset\n"
   ]
  },
  {
   "cell_type": "code",
   "execution_count": null,
   "metadata": {},
   "outputs": [
    {
     "data": {
      "application/vnd.jupyter.widget-view+json": {
       "model_id": "0721ca235fa64a94b87633391c5b4066",
       "version_major": 2,
       "version_minor": 0
      },
      "text/plain": [
       "Pandas Apply:   0%|          | 0/5 [00:00<?, ?it/s]"
      ]
     },
     "metadata": {},
     "output_type": "display_data"
    }
   ],
   "source": [
    "# Preprocess texts\n",
    "\n",
    "from spanish_nlp import SpanishPreprocess\n",
    "\n",
    "sp = SpanishPreprocess(\n",
    "    lower=False,\n",
    "    remove_url=True,\n",
    "    remove_hashtags=False,\n",
    "    split_hashtags=True,\n",
    "    normalize_breaklines=True,\n",
    "    remove_emoticons=False,\n",
    "    remove_emojis=False,\n",
    "    convert_emoticons=False,\n",
    "    convert_emojis=False,\n",
    "    normalize_inclusive_language=True,\n",
    "    reduce_spam=True,\n",
    "    remove_vowels_accents=True,\n",
    "    remove_multiple_spaces=True,\n",
    "    remove_punctuation=True,\n",
    "    remove_unprintable=True,\n",
    "    remove_numbers=True,\n",
    "    remove_stopwords=False,\n",
    "    stopwords_list=None,\n",
    "    lemmatize=False,\n",
    "    stem=False,\n",
    "    remove_html_tags=True,\n",
    ")\n",
    "\n",
    "df[\"text\"] = df[\"text\"].apply(sp.transform)\n",
    "\n",
    "df = df[df.text.notnull()]\n",
    "df = df[df.text != \"\"]\n",
    "df = df[df[\"text\"].apply(lambda x: isinstance(x, str))]\n",
    "df = df.reset_index(drop=True)"
   ]
  },
  {
   "attachments": {},
   "cell_type": "markdown",
   "metadata": {},
   "source": [
    "### Classify dataset\n",
    "\n",
    "#### Models:\n",
    "\n",
    "- hate_speech\n",
    "- incivility\n",
    "- sentiment analysis\n",
    "- emotion analysis\n",
    "- sexist analysisracism analysis\n"
   ]
  },
  {
   "cell_type": "code",
   "execution_count": 7,
   "metadata": {},
   "outputs": [
    {
     "name": "stderr",
     "output_type": "stream",
     "text": [
      "huggingface/tokenizers: The current process just got forked, after parallelism has already been used. Disabling parallelism to avoid deadlocks...\n",
      "To disable this warning, you can either:\n",
      "\t- Avoid using `tokenizers` before the fork if possible\n",
      "\t- Explicitly set the environment variable TOKENIZERS_PARALLELISM=(true | false)\n"
     ]
    },
    {
     "data": {
      "application/vnd.jupyter.widget-view+json": {
       "model_id": "e8667e3be7c64e51a40e1f977a45ef63",
       "version_major": 2,
       "version_minor": 0
      },
      "text/plain": [
       "Pandas Apply:   0%|          | 0/5 [00:00<?, ?it/s]"
      ]
     },
     "metadata": {},
     "output_type": "display_data"
    },
    {
     "data": {
      "application/vnd.jupyter.widget-view+json": {
       "model_id": "f12e98d410104dc3b62efda5ed1626b8",
       "version_major": 2,
       "version_minor": 0
      },
      "text/plain": [
       "config.json:   0%|          | 0.00/944 [00:00<?, ?B/s]"
      ]
     },
     "metadata": {},
     "output_type": "display_data"
    },
    {
     "data": {
      "application/vnd.jupyter.widget-view+json": {
       "model_id": "9d9048b9810f4d5b8cceeb9e1b9f2c96",
       "version_major": 2,
       "version_minor": 0
      },
      "text/plain": [
       "pytorch_model.bin:   0%|          | 0.00/439M [00:00<?, ?B/s]"
      ]
     },
     "metadata": {},
     "output_type": "display_data"
    },
    {
     "name": "stderr",
     "output_type": "stream",
     "text": [
      "huggingface/tokenizers: The current process just got forked, after parallelism has already been used. Disabling parallelism to avoid deadlocks...\n",
      "To disable this warning, you can either:\n",
      "\t- Avoid using `tokenizers` before the fork if possible\n",
      "\t- Explicitly set the environment variable TOKENIZERS_PARALLELISM=(true | false)\n"
     ]
    },
    {
     "data": {
      "application/vnd.jupyter.widget-view+json": {
       "model_id": "e3aef866172a4de78b2e1ebbc9c2b70f",
       "version_major": 2,
       "version_minor": 0
      },
      "text/plain": [
       "tokenizer_config.json:   0%|          | 0.00/667 [00:00<?, ?B/s]"
      ]
     },
     "metadata": {},
     "output_type": "display_data"
    },
    {
     "data": {
      "application/vnd.jupyter.widget-view+json": {
       "model_id": "a77fc48f7e934b258df247da9c07fd58",
       "version_major": 2,
       "version_minor": 0
      },
      "text/plain": [
       "vocab.txt:   0%|          | 0.00/242k [00:00<?, ?B/s]"
      ]
     },
     "metadata": {},
     "output_type": "display_data"
    },
    {
     "data": {
      "application/vnd.jupyter.widget-view+json": {
       "model_id": "a955046c438848e48e768e2156d2ad44",
       "version_major": 2,
       "version_minor": 0
      },
      "text/plain": [
       "tokenizer.json:   0%|          | 0.00/730k [00:00<?, ?B/s]"
      ]
     },
     "metadata": {},
     "output_type": "display_data"
    },
    {
     "data": {
      "application/vnd.jupyter.widget-view+json": {
       "model_id": "d2a7b1ff86c6485bbe34adcc109611ab",
       "version_major": 2,
       "version_minor": 0
      },
      "text/plain": [
       "special_tokens_map.json:   0%|          | 0.00/125 [00:00<?, ?B/s]"
      ]
     },
     "metadata": {},
     "output_type": "display_data"
    },
    {
     "data": {
      "application/vnd.jupyter.widget-view+json": {
       "model_id": "b2789a7cc61f435e8a9dbb3008388c0e",
       "version_major": 2,
       "version_minor": 0
      },
      "text/plain": [
       "Pandas Apply:   0%|          | 0/5 [00:00<?, ?it/s]"
      ]
     },
     "metadata": {},
     "output_type": "display_data"
    },
    {
     "data": {
      "application/vnd.jupyter.widget-view+json": {
       "model_id": "013c9b04d4fb4dc28ffe2418319bc023",
       "version_major": 2,
       "version_minor": 0
      },
      "text/plain": [
       "config.json:   0%|          | 0.00/925 [00:00<?, ?B/s]"
      ]
     },
     "metadata": {},
     "output_type": "display_data"
    },
    {
     "data": {
      "application/vnd.jupyter.widget-view+json": {
       "model_id": "3abdafcfbfb74483a15fcb963a0db474",
       "version_major": 2,
       "version_minor": 0
      },
      "text/plain": [
       "model.safetensors:   0%|          | 0.00/435M [00:00<?, ?B/s]"
      ]
     },
     "metadata": {},
     "output_type": "display_data"
    },
    {
     "data": {
      "application/vnd.jupyter.widget-view+json": {
       "model_id": "578f4226ac51497894fa9de2f7af910a",
       "version_major": 2,
       "version_minor": 0
      },
      "text/plain": [
       "tokenizer_config.json:   0%|          | 0.00/384 [00:00<?, ?B/s]"
      ]
     },
     "metadata": {},
     "output_type": "display_data"
    },
    {
     "data": {
      "application/vnd.jupyter.widget-view+json": {
       "model_id": "874691ecb6d84278bed1bf71c36eb9ae",
       "version_major": 2,
       "version_minor": 0
      },
      "text/plain": [
       "tokenizer.json:   0%|          | 0.00/1.31M [00:00<?, ?B/s]"
      ]
     },
     "metadata": {},
     "output_type": "display_data"
    },
    {
     "data": {
      "application/vnd.jupyter.widget-view+json": {
       "model_id": "a432c42ae0884e519dbcaf7d87fd1a62",
       "version_major": 2,
       "version_minor": 0
      },
      "text/plain": [
       "special_tokens_map.json:   0%|          | 0.00/167 [00:00<?, ?B/s]"
      ]
     },
     "metadata": {},
     "output_type": "display_data"
    },
    {
     "data": {
      "application/vnd.jupyter.widget-view+json": {
       "model_id": "7f8bdf013142454fa099e808968663c3",
       "version_major": 2,
       "version_minor": 0
      },
      "text/plain": [
       "Pandas Apply:   0%|          | 0/5 [00:00<?, ?it/s]"
      ]
     },
     "metadata": {},
     "output_type": "display_data"
    },
    {
     "data": {
      "application/vnd.jupyter.widget-view+json": {
       "model_id": "94ddc06ad4374ee9ad54ec507d0642cd",
       "version_major": 2,
       "version_minor": 0
      },
      "text/plain": [
       "config.json:   0%|          | 0.00/1.08k [00:00<?, ?B/s]"
      ]
     },
     "metadata": {},
     "output_type": "display_data"
    },
    {
     "data": {
      "application/vnd.jupyter.widget-view+json": {
       "model_id": "128b7f7233214d39918f26f29c2afd9d",
       "version_major": 2,
       "version_minor": 0
      },
      "text/plain": [
       "pytorch_model.bin:   0%|          | 0.00/435M [00:00<?, ?B/s]"
      ]
     },
     "metadata": {},
     "output_type": "display_data"
    },
    {
     "name": "stderr",
     "output_type": "stream",
     "text": [
      "huggingface/tokenizers: The current process just got forked, after parallelism has already been used. Disabling parallelism to avoid deadlocks...\n",
      "To disable this warning, you can either:\n",
      "\t- Avoid using `tokenizers` before the fork if possible\n",
      "\t- Explicitly set the environment variable TOKENIZERS_PARALLELISM=(true | false)\n"
     ]
    },
    {
     "data": {
      "application/vnd.jupyter.widget-view+json": {
       "model_id": "349a901e7eec4771b21a626c8e3e19d5",
       "version_major": 2,
       "version_minor": 0
      },
      "text/plain": [
       "tokenizer_config.json:   0%|          | 0.00/384 [00:00<?, ?B/s]"
      ]
     },
     "metadata": {},
     "output_type": "display_data"
    },
    {
     "data": {
      "application/vnd.jupyter.widget-view+json": {
       "model_id": "8bab68c408fb4ef296b4f3faa5910ee3",
       "version_major": 2,
       "version_minor": 0
      },
      "text/plain": [
       "tokenizer.json:   0%|          | 0.00/1.31M [00:00<?, ?B/s]"
      ]
     },
     "metadata": {},
     "output_type": "display_data"
    },
    {
     "data": {
      "application/vnd.jupyter.widget-view+json": {
       "model_id": "6565649781704af5a64e7cec061f83da",
       "version_major": 2,
       "version_minor": 0
      },
      "text/plain": [
       "special_tokens_map.json:   0%|          | 0.00/167 [00:00<?, ?B/s]"
      ]
     },
     "metadata": {},
     "output_type": "display_data"
    },
    {
     "data": {
      "application/vnd.jupyter.widget-view+json": {
       "model_id": "2231344286334e6788543fd8b9c65b21",
       "version_major": 2,
       "version_minor": 0
      },
      "text/plain": [
       "Pandas Apply:   0%|          | 0/5 [00:00<?, ?it/s]"
      ]
     },
     "metadata": {},
     "output_type": "display_data"
    },
    {
     "data": {
      "application/vnd.jupyter.widget-view+json": {
       "model_id": "aabc0faef48341298605d24f3de4cf47",
       "version_major": 2,
       "version_minor": 0
      },
      "text/plain": [
       "config.json:   0%|          | 0.00/915 [00:00<?, ?B/s]"
      ]
     },
     "metadata": {},
     "output_type": "display_data"
    },
    {
     "data": {
      "application/vnd.jupyter.widget-view+json": {
       "model_id": "f74c8ea8863249c1927728b010f2ff64",
       "version_major": 2,
       "version_minor": 0
      },
      "text/plain": [
       "pytorch_model.bin:   0%|          | 0.00/435M [00:00<?, ?B/s]"
      ]
     },
     "metadata": {},
     "output_type": "display_data"
    },
    {
     "name": "stderr",
     "output_type": "stream",
     "text": [
      "huggingface/tokenizers: The current process just got forked, after parallelism has already been used. Disabling parallelism to avoid deadlocks...\n",
      "To disable this warning, you can either:\n",
      "\t- Avoid using `tokenizers` before the fork if possible\n",
      "\t- Explicitly set the environment variable TOKENIZERS_PARALLELISM=(true | false)\n"
     ]
    },
    {
     "data": {
      "application/vnd.jupyter.widget-view+json": {
       "model_id": "20dd49b2f7e44cd3a0e61d164916bcd4",
       "version_major": 2,
       "version_minor": 0
      },
      "text/plain": [
       "tokenizer_config.json:   0%|          | 0.00/384 [00:00<?, ?B/s]"
      ]
     },
     "metadata": {},
     "output_type": "display_data"
    },
    {
     "data": {
      "application/vnd.jupyter.widget-view+json": {
       "model_id": "76aaabfd73c6439c9d3305a495f0fcc0",
       "version_major": 2,
       "version_minor": 0
      },
      "text/plain": [
       "tokenizer.json:   0%|          | 0.00/1.31M [00:00<?, ?B/s]"
      ]
     },
     "metadata": {},
     "output_type": "display_data"
    },
    {
     "data": {
      "application/vnd.jupyter.widget-view+json": {
       "model_id": "5eb97d972bf34de99f466a9ba6026de4",
       "version_major": 2,
       "version_minor": 0
      },
      "text/plain": [
       "special_tokens_map.json:   0%|          | 0.00/167 [00:00<?, ?B/s]"
      ]
     },
     "metadata": {},
     "output_type": "display_data"
    },
    {
     "data": {
      "application/vnd.jupyter.widget-view+json": {
       "model_id": "9e0f5b74d3b145b69b142c692c169235",
       "version_major": 2,
       "version_minor": 0
      },
      "text/plain": [
       "Pandas Apply:   0%|          | 0/5 [00:00<?, ?it/s]"
      ]
     },
     "metadata": {},
     "output_type": "display_data"
    },
    {
     "data": {
      "application/vnd.jupyter.widget-view+json": {
       "model_id": "b30c71ac95724ed59fe9ed37faeb482b",
       "version_major": 2,
       "version_minor": 0
      },
      "text/plain": [
       "config.json:   0%|          | 0.00/795 [00:00<?, ?B/s]"
      ]
     },
     "metadata": {},
     "output_type": "display_data"
    },
    {
     "data": {
      "application/vnd.jupyter.widget-view+json": {
       "model_id": "83d330c91bbf42b5bc5efbd6838a490e",
       "version_major": 2,
       "version_minor": 0
      },
      "text/plain": [
       "pytorch_model.bin:   0%|          | 0.00/435M [00:00<?, ?B/s]"
      ]
     },
     "metadata": {},
     "output_type": "display_data"
    },
    {
     "data": {
      "application/vnd.jupyter.widget-view+json": {
       "model_id": "a67fc0fe4da94f238b635949ada23160",
       "version_major": 2,
       "version_minor": 0
      },
      "text/plain": [
       "tokenizer_config.json:   0%|          | 0.00/334 [00:00<?, ?B/s]"
      ]
     },
     "metadata": {},
     "output_type": "display_data"
    },
    {
     "data": {
      "application/vnd.jupyter.widget-view+json": {
       "model_id": "cb478793cde04d34939432333fc8f319",
       "version_major": 2,
       "version_minor": 0
      },
      "text/plain": [
       "tokenizer.json:   0%|          | 0.00/1.31M [00:00<?, ?B/s]"
      ]
     },
     "metadata": {},
     "output_type": "display_data"
    },
    {
     "data": {
      "application/vnd.jupyter.widget-view+json": {
       "model_id": "a0c4df611682479b8044e86f13a6ad19",
       "version_major": 2,
       "version_minor": 0
      },
      "text/plain": [
       "special_tokens_map.json:   0%|          | 0.00/150 [00:00<?, ?B/s]"
      ]
     },
     "metadata": {},
     "output_type": "display_data"
    },
    {
     "data": {
      "application/vnd.jupyter.widget-view+json": {
       "model_id": "5de99dbcb7c6494f9104f21d355c2948",
       "version_major": 2,
       "version_minor": 0
      },
      "text/plain": [
       "Pandas Apply:   0%|          | 0/5 [00:00<?, ?it/s]"
      ]
     },
     "metadata": {},
     "output_type": "display_data"
    },
    {
     "data": {
      "application/vnd.jupyter.widget-view+json": {
       "model_id": "13c9248ec89642a89b75ff4f737785f9",
       "version_major": 2,
       "version_minor": 0
      },
      "text/plain": [
       "config.json:   0%|          | 0.00/834 [00:00<?, ?B/s]"
      ]
     },
     "metadata": {},
     "output_type": "display_data"
    },
    {
     "data": {
      "application/vnd.jupyter.widget-view+json": {
       "model_id": "aa51bb64e0e7495996206afd75189768",
       "version_major": 2,
       "version_minor": 0
      },
      "text/plain": [
       "pytorch_model.bin:   0%|          | 0.00/439M [00:00<?, ?B/s]"
      ]
     },
     "metadata": {},
     "output_type": "display_data"
    },
    {
     "name": "stderr",
     "output_type": "stream",
     "text": [
      "huggingface/tokenizers: The current process just got forked, after parallelism has already been used. Disabling parallelism to avoid deadlocks...\n",
      "To disable this warning, you can either:\n",
      "\t- Avoid using `tokenizers` before the fork if possible\n",
      "\t- Explicitly set the environment variable TOKENIZERS_PARALLELISM=(true | false)\n"
     ]
    },
    {
     "data": {
      "application/vnd.jupyter.widget-view+json": {
       "model_id": "a66abcbc9f6a406d909326a4ba4f9c7f",
       "version_major": 2,
       "version_minor": 0
      },
      "text/plain": [
       "tokenizer_config.json:   0%|          | 0.00/310 [00:00<?, ?B/s]"
      ]
     },
     "metadata": {},
     "output_type": "display_data"
    },
    {
     "data": {
      "application/vnd.jupyter.widget-view+json": {
       "model_id": "5ffada27197b4a538a1212990e82fa10",
       "version_major": 2,
       "version_minor": 0
      },
      "text/plain": [
       "config.json:   0%|          | 0.00/650 [00:00<?, ?B/s]"
      ]
     },
     "metadata": {},
     "output_type": "display_data"
    },
    {
     "data": {
      "application/vnd.jupyter.widget-view+json": {
       "model_id": "77af42c3d6984763a8b9110f3aede0db",
       "version_major": 2,
       "version_minor": 0
      },
      "text/plain": [
       "vocab.txt:   0%|          | 0.00/248k [00:00<?, ?B/s]"
      ]
     },
     "metadata": {},
     "output_type": "display_data"
    },
    {
     "data": {
      "application/vnd.jupyter.widget-view+json": {
       "model_id": "3624a4ae2280428e94b7a8203b54c5b2",
       "version_major": 2,
       "version_minor": 0
      },
      "text/plain": [
       "tokenizer.json:   0%|          | 0.00/486k [00:00<?, ?B/s]"
      ]
     },
     "metadata": {},
     "output_type": "display_data"
    },
    {
     "data": {
      "application/vnd.jupyter.widget-view+json": {
       "model_id": "2c6a449983574d2c8123ba45a867a54e",
       "version_major": 2,
       "version_minor": 0
      },
      "text/plain": [
       "special_tokens_map.json:   0%|          | 0.00/134 [00:00<?, ?B/s]"
      ]
     },
     "metadata": {},
     "output_type": "display_data"
    },
    {
     "data": {
      "application/vnd.jupyter.widget-view+json": {
       "model_id": "5f3157ef05494a6eba1dd0a41d267bec",
       "version_major": 2,
       "version_minor": 0
      },
      "text/plain": [
       "Pandas Apply:   0%|          | 0/5 [00:00<?, ?it/s]"
      ]
     },
     "metadata": {},
     "output_type": "display_data"
    }
   ],
   "source": [
    "from datetime import datetime\n",
    "\n",
    "def predict_label(text, model):\n",
    "    try:\n",
    "        return model.predict(text)\n",
    "    except Exception as e:\n",
    "        time = datetime.now().strftime(\"%d-%Y-%m %H:%M:%S\")\n",
    "        print(f\"{time} - {e}\")\n",
    "\n",
    "\n",
    "classifiers_names = [\n",
    "    \"hate_speech\",\n",
    "    \"incivility\",\n",
    "    \"sentiment_analysis\",\n",
    "    \"emotion_analysis\",\n",
    "    \"irony_analysis\",\n",
    "    \"sexist_analysis\",\n",
    "    \"racism_analysis\",\n",
    "]\n",
    "classifiers = {}\n",
    "\n",
    "for n in classifiers_names:\n",
    "    c = SpanishClassifier(model_name=n, device=\"cpu\")\n",
    "    df[n] = df[\"text\"].apply(lambda x: c.predict(x))"
   ]
  },
  {
   "cell_type": "code",
   "execution_count": 8,
   "metadata": {},
   "outputs": [
    {
     "data": {
      "text/html": [
       "<div>\n",
       "<style scoped>\n",
       "    .dataframe tbody tr th:only-of-type {\n",
       "        vertical-align: middle;\n",
       "    }\n",
       "\n",
       "    .dataframe tbody tr th {\n",
       "        vertical-align: top;\n",
       "    }\n",
       "\n",
       "    .dataframe thead th {\n",
       "        text-align: right;\n",
       "    }\n",
       "</style>\n",
       "<table border=\"1\" class=\"dataframe\">\n",
       "  <thead>\n",
       "    <tr style=\"text-align: right;\">\n",
       "      <th></th>\n",
       "      <th>text</th>\n",
       "      <th>hate_speech</th>\n",
       "      <th>incivility</th>\n",
       "      <th>sentiment_analysis</th>\n",
       "      <th>emotion_analysis</th>\n",
       "      <th>irony_analysis</th>\n",
       "      <th>sexist_analysis</th>\n",
       "      <th>racism_analysis</th>\n",
       "    </tr>\n",
       "  </thead>\n",
       "  <tbody>\n",
       "    <tr>\n",
       "      <th>0</th>\n",
       "      <td>Deberian ser exterminados los pueblos indigenas</td>\n",
       "      <td>{'no_hate': 0.954975426197052, 'hate': 0.04502...</td>\n",
       "      <td>{'no_incivility': 0.6234936118125916, 'incivil...</td>\n",
       "      <td>{'negative': 0.8032279014587402, 'neutral': 0....</td>\n",
       "      <td>{'others': 0.748774528503418, 'anger': 0.16288...</td>\n",
       "      <td>{'not_ironic': 0.9995823502540588, 'ironic': 0...</td>\n",
       "      <td>{'not_sexist': 0.9762647747993469, 'sexist': 0...</td>\n",
       "      <td>{'non-racist': 0.999099612236023, 'racist': 0....</td>\n",
       "    </tr>\n",
       "    <tr>\n",
       "      <th>1</th>\n",
       "      <td>El presidente convoco a una reunion a los repr...</td>\n",
       "      <td>{'no_hate': 0.9978753328323364, 'hate': 0.0021...</td>\n",
       "      <td>{'no_incivility': 0.8898597955703735, 'incivil...</td>\n",
       "      <td>{'neutral': 0.8114618062973022, 'positive': 0....</td>\n",
       "      <td>{'others': 0.9919043183326721, 'joy': 0.002639...</td>\n",
       "      <td>{'not_ironic': 0.9993013143539429, 'ironic': 0...</td>\n",
       "      <td>{'not_sexist': 0.9759377837181091, 'sexist': 0...</td>\n",
       "      <td>{'non-racist': 0.9996436834335327, 'racist': 0...</td>\n",
       "    </tr>\n",
       "    <tr>\n",
       "      <th>2</th>\n",
       "      <td>Los pinguinos son animalos</td>\n",
       "      <td>{'no_hate': 0.9705660343170166, 'hate': 0.0294...</td>\n",
       "      <td>{'incivility': 0.5072245597839355, 'no_incivil...</td>\n",
       "      <td>{'positive': 0.5787491798400879, 'neutral': 0....</td>\n",
       "      <td>{'others': 0.9116768836975098, 'joy': 0.024299...</td>\n",
       "      <td>{'not_ironic': 0.7218023538589478, 'ironic': 0...</td>\n",
       "      <td>{'not_sexist': 0.9535900950431824, 'sexist': 0...</td>\n",
       "      <td>{'non-racist': 0.9981189370155334, 'racist': 0...</td>\n",
       "    </tr>\n",
       "    <tr>\n",
       "      <th>3</th>\n",
       "      <td>La vacuna contra el covid ya esta disponible</td>\n",
       "      <td>{'no_hate': 0.998217761516571, 'hate': 0.00178...</td>\n",
       "      <td>{'no_incivility': 0.9326367974281311, 'incivil...</td>\n",
       "      <td>{'positive': 0.5552893280982971, 'neutral': 0....</td>\n",
       "      <td>{'others': 0.9687969088554382, 'joy': 0.019537...</td>\n",
       "      <td>{'not_ironic': 0.9697375297546387, 'ironic': 0...</td>\n",
       "      <td>{'not_sexist': 0.9818084836006165, 'sexist': 0...</td>\n",
       "      <td>{'non-racist': 0.9996614456176758, 'racist': 0...</td>\n",
       "    </tr>\n",
       "    <tr>\n",
       "      <th>4</th>\n",
       "      <td>Hay que matar a todos los extranjeros</td>\n",
       "      <td>{'hate': 0.8858439922332764, 'no_hate': 0.1141...</td>\n",
       "      <td>{'no_incivility': 0.7517166137695312, 'incivil...</td>\n",
       "      <td>{'negative': 0.7249141931533813, 'neutral': 0....</td>\n",
       "      <td>{'anger': 0.6267445683479309, 'disgust': 0.309...</td>\n",
       "      <td>{'not_ironic': 0.9974295496940613, 'ironic': 0...</td>\n",
       "      <td>{'not_sexist': 0.9626052379608154, 'sexist': 0...</td>\n",
       "      <td>{'racist': 0.9961186647415161, 'non-racist': 0...</td>\n",
       "    </tr>\n",
       "  </tbody>\n",
       "</table>\n",
       "</div>"
      ],
      "text/plain": [
       "                                                text  \\\n",
       "0    Deberian ser exterminados los pueblos indigenas   \n",
       "1  El presidente convoco a una reunion a los repr...   \n",
       "2                         Los pinguinos son animalos   \n",
       "3       La vacuna contra el covid ya esta disponible   \n",
       "4              Hay que matar a todos los extranjeros   \n",
       "\n",
       "                                         hate_speech  \\\n",
       "0  {'no_hate': 0.954975426197052, 'hate': 0.04502...   \n",
       "1  {'no_hate': 0.9978753328323364, 'hate': 0.0021...   \n",
       "2  {'no_hate': 0.9705660343170166, 'hate': 0.0294...   \n",
       "3  {'no_hate': 0.998217761516571, 'hate': 0.00178...   \n",
       "4  {'hate': 0.8858439922332764, 'no_hate': 0.1141...   \n",
       "\n",
       "                                          incivility  \\\n",
       "0  {'no_incivility': 0.6234936118125916, 'incivil...   \n",
       "1  {'no_incivility': 0.8898597955703735, 'incivil...   \n",
       "2  {'incivility': 0.5072245597839355, 'no_incivil...   \n",
       "3  {'no_incivility': 0.9326367974281311, 'incivil...   \n",
       "4  {'no_incivility': 0.7517166137695312, 'incivil...   \n",
       "\n",
       "                                  sentiment_analysis  \\\n",
       "0  {'negative': 0.8032279014587402, 'neutral': 0....   \n",
       "1  {'neutral': 0.8114618062973022, 'positive': 0....   \n",
       "2  {'positive': 0.5787491798400879, 'neutral': 0....   \n",
       "3  {'positive': 0.5552893280982971, 'neutral': 0....   \n",
       "4  {'negative': 0.7249141931533813, 'neutral': 0....   \n",
       "\n",
       "                                    emotion_analysis  \\\n",
       "0  {'others': 0.748774528503418, 'anger': 0.16288...   \n",
       "1  {'others': 0.9919043183326721, 'joy': 0.002639...   \n",
       "2  {'others': 0.9116768836975098, 'joy': 0.024299...   \n",
       "3  {'others': 0.9687969088554382, 'joy': 0.019537...   \n",
       "4  {'anger': 0.6267445683479309, 'disgust': 0.309...   \n",
       "\n",
       "                                      irony_analysis  \\\n",
       "0  {'not_ironic': 0.9995823502540588, 'ironic': 0...   \n",
       "1  {'not_ironic': 0.9993013143539429, 'ironic': 0...   \n",
       "2  {'not_ironic': 0.7218023538589478, 'ironic': 0...   \n",
       "3  {'not_ironic': 0.9697375297546387, 'ironic': 0...   \n",
       "4  {'not_ironic': 0.9974295496940613, 'ironic': 0...   \n",
       "\n",
       "                                     sexist_analysis  \\\n",
       "0  {'not_sexist': 0.9762647747993469, 'sexist': 0...   \n",
       "1  {'not_sexist': 0.9759377837181091, 'sexist': 0...   \n",
       "2  {'not_sexist': 0.9535900950431824, 'sexist': 0...   \n",
       "3  {'not_sexist': 0.9818084836006165, 'sexist': 0...   \n",
       "4  {'not_sexist': 0.9626052379608154, 'sexist': 0...   \n",
       "\n",
       "                                     racism_analysis  \n",
       "0  {'non-racist': 0.999099612236023, 'racist': 0....  \n",
       "1  {'non-racist': 0.9996436834335327, 'racist': 0...  \n",
       "2  {'non-racist': 0.9981189370155334, 'racist': 0...  \n",
       "3  {'non-racist': 0.9996614456176758, 'racist': 0...  \n",
       "4  {'racist': 0.9961186647415161, 'non-racist': 0...  "
      ]
     },
     "execution_count": 8,
     "metadata": {},
     "output_type": "execute_result"
    }
   ],
   "source": [
    "df"
   ]
  }
 ],
 "metadata": {
  "kernelspec": {
   "display_name": ".venv",
   "language": "python",
   "name": "python3"
  },
  "language_info": {
   "codemirror_mode": {
    "name": "ipython",
    "version": 3
   },
   "file_extension": ".py",
   "mimetype": "text/x-python",
   "name": "python",
   "nbconvert_exporter": "python",
   "pygments_lexer": "ipython3",
   "version": "3.10.11"
  },
  "orig_nbformat": 4
 },
 "nbformat": 4,
 "nbformat_minor": 2
}
