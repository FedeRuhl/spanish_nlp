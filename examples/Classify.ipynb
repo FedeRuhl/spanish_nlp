{
 "cells": [
  {
   "attachments": {},
   "cell_type": "markdown",
   "metadata": {},
   "source": [
    "# Spanish NLP: Classify Notebook\n",
    "\n",
    "For more information visit [spanish_nlp](https://github.com/jorgeortizfuentes/spanish_nlp) repository on GitHub."
   ]
  },
  {
   "attachments": {},
   "cell_type": "markdown",
   "metadata": {},
   "source": [
    "## Available models\n",
    "\n",
    "| **Model name**     | **Sources**                            |\n",
    "|--------------------|----------------------------------------|\n",
    "| hate_speech        | bert, robertuito                       |\n",
    "| incivility         | bert                                   |\n",
    "| toxic_speech       | political-tweets-es                    |\n",
    "| sentiment_analysis | robertuito                             |\n",
    "| emotion_analysis   | robertuito                             |\n",
    "| irony_analysis     | robertuito                             |\n",
    "| sexist_analysis    | sexist_analysis_metwo                  |\n",
    "| racist_analysis    | racism_paula_lobo_et_al_average_strict |\n"
   ]
  },
  {
   "attachments": {},
   "cell_type": "markdown",
   "metadata": {},
   "source": [
    "## Quick usage"
   ]
  },
  {
   "cell_type": "code",
   "execution_count": 6,
   "metadata": {},
   "outputs": [
    {
     "name": "stdout",
     "output_type": "stream",
     "text": [
      "Text 1:  LAS MUJERES Y GAYS DEBERÍAN SER EXTERMINADOS\n",
      "Prediction 1:  {'no_hate': 0.8702716827392578, 'hate': 0.12972833216190338}\n",
      "Text 2:  El presidente convocó a una reunión a los representantes de los partidos políticos\n",
      "Prediction 2:  {'no_hate': 0.9976341724395752, 'hate': 0.002365865046158433}\n"
     ]
    }
   ],
   "source": [
    "from spanish_nlp import classifiers\n",
    "\n",
    "sc = classifiers.SpanishClassifier(model_name=\"hate_speech\", device=\"cpu\")\n",
    "t1 = \"LAS MUJERES Y GAYS DEBERÍAN SER EXTERMINADOS\"\n",
    "t2 = (\n",
    "    \"El presidente convocó a una reunión a los representantes de los partidos políticos\"\n",
    ")\n",
    "p1 = sc.predict(t1)\n",
    "p2 = sc.predict(t2)\n",
    "\n",
    "print(\"Text 1: \", t1)\n",
    "print(\"Prediction 1: \", p1)\n",
    "print(\"Text 2: \", t2)\n",
    "print(\"Prediction 2: \", p2)\n"
   ]
  },
  {
   "attachments": {},
   "cell_type": "markdown",
   "metadata": {},
   "source": [
    "## Apply classification for a dataset in pandas"
   ]
  },
  {
   "attachments": {},
   "cell_type": "markdown",
   "metadata": {},
   "source": [
    "### Load dataset"
   ]
  },
  {
   "cell_type": "code",
   "execution_count": 7,
   "metadata": {},
   "outputs": [],
   "source": [
    "from datetime import datetime\n",
    "\n",
    "import pandas as pd\n",
    "import swifter\n",
    "\n",
    "from spanish_nlp.classifiers import SpanishClassifier\n",
    "from spanish_nlp import SpanishPreprocess\n",
    "\n",
    "# Create DataFrame\n",
    "\n",
    "texts = [\"Deberían ser exterminados los pueblos indígenas\",\n",
    "         \"El presidente convocó a una reunión a los representantes de los partidos políticos\",\n",
    "         \"Los pingüinos son animales\",\n",
    "         \"La vacuna contra el covid-19 ya está disponible\",\n",
    "         \"Hay que matar a todos los extranjeros\"]\n",
    "\n",
    "df = pd.DataFrame(texts, columns=[\"text\"])"
   ]
  },
  {
   "attachments": {},
   "cell_type": "markdown",
   "metadata": {},
   "source": [
    "### Preprocess dataset"
   ]
  },
  {
   "cell_type": "code",
   "execution_count": 8,
   "metadata": {},
   "outputs": [
    {
     "data": {
      "application/vnd.jupyter.widget-view+json": {
       "model_id": "c1f815359a3d4d649ce1f28c92ed8f58",
       "version_major": 2,
       "version_minor": 0
      },
      "text/plain": [
       "Pandas Apply:   0%|          | 0/5 [00:00<?, ?it/s]"
      ]
     },
     "metadata": {},
     "output_type": "display_data"
    }
   ],
   "source": [
    "# Preprocess texts\n",
    "\n",
    "sp = SpanishPreprocess(\n",
    "        lower=False,\n",
    "        remove_url=True,\n",
    "        remove_hashtags=False,\n",
    "        split_hashtags=True,\n",
    "        normalize_breaklines=True,\n",
    "        remove_emoticons=False,\n",
    "        remove_emojis=False,\n",
    "        convert_emoticons=False,\n",
    "        convert_emojis=False,\n",
    "        normalize_inclusive_language=True,\n",
    "        reduce_spam=True,\n",
    "        remove_vowels_accents=True,\n",
    "        remove_multiple_spaces=True,\n",
    "        remove_punctuation=True,\n",
    "        remove_unprintable=True,\n",
    "        remove_numbers=True,\n",
    "        remove_stopwords=False,\n",
    "        stopwords_list=None,\n",
    "        lemmatize=False,\n",
    "        stem=False,\n",
    "        remove_html_tags=True,\n",
    ")\n",
    "\n",
    "df[\"text\"] = df[\"text\"].swifter.apply(sp.transform)\n",
    "\n",
    "df = df[df.text.notnull()]\n",
    "df = df[df.text != \"\"]\n",
    "df = df[df[\"text\"].apply(lambda x: isinstance(x, str))]\n",
    "df = df.reset_index(drop=True)"
   ]
  },
  {
   "attachments": {},
   "cell_type": "markdown",
   "metadata": {},
   "source": [
    "### Classify dataset \n",
    "\n",
    "#### Models:\n",
    "* hate_speech\n",
    "* incivility\n",
    "* sentiment analysis\n",
    "* emotion analysis\n",
    "* sexist analysisracism analysis"
   ]
  },
  {
   "cell_type": "code",
   "execution_count": 9,
   "metadata": {},
   "outputs": [
    {
     "data": {
      "application/vnd.jupyter.widget-view+json": {
       "model_id": "3bed0452fa0845088be6c7f90487f8a8",
       "version_major": 2,
       "version_minor": 0
      },
      "text/plain": [
       "Pandas Apply:   0%|          | 0/5 [00:00<?, ?it/s]"
      ]
     },
     "metadata": {},
     "output_type": "display_data"
    },
    {
     "data": {
      "application/vnd.jupyter.widget-view+json": {
       "model_id": "f03afdf3f77847cb85f2b173973fbbf7",
       "version_major": 2,
       "version_minor": 0
      },
      "text/plain": [
       "Pandas Apply:   0%|          | 0/5 [00:00<?, ?it/s]"
      ]
     },
     "metadata": {},
     "output_type": "display_data"
    }
   ],
   "source": [
    "def predict_label(text, model):\n",
    "    try:\n",
    "        return model.predict(text)\n",
    "    except Exception as e:\n",
    "        time = datetime.now().strftime(\"%d-%Y-%m %H:%M:%S\")\n",
    "        print(f\"{time} - {e}\")\n",
    "\n",
    "\n",
    "classifiers_names = [\n",
    "    \"hate_speech\",\n",
    "    \"incivility\",\n",
    "    \"sentiment_analysis\",\n",
    "    \"emotion_analysis\",\n",
    "    \"irony_analysis\",\n",
    "    \"sexist_analysis\",\n",
    "    \"racism_analysis\",\n",
    "]\n",
    "classifiers = {}\n",
    "\n",
    "for n in classifiers_names:\n",
    "    c = SpanishClassifier(model_name=n, device=\"cpu\")\n",
    "    df[n] = df[\"text\"].swifter.apply(lambda x: c.predict(x))\n",
    "\n"
   ]
  },
  {
   "cell_type": "code",
   "execution_count": null,
   "metadata": {},
   "outputs": [],
   "source": [
    "df"
   ]
  }
 ],
 "metadata": {
  "kernelspec": {
   "display_name": "py310",
   "language": "python",
   "name": "python3"
  },
  "language_info": {
   "codemirror_mode": {
    "name": "ipython",
    "version": 3
   },
   "file_extension": ".py",
   "mimetype": "text/x-python",
   "name": "python",
   "nbconvert_exporter": "python",
   "pygments_lexer": "ipython3",
   "version": "3.10.10"
  },
  "orig_nbformat": 4,
  "vscode": {
   "interpreter": {
    "hash": "d1a940d2a5a085e4f840c6fa90dace1e4a81d9a7fba180f0fcbb4947149ff9d2"
   }
  }
 },
 "nbformat": 4,
 "nbformat_minor": 2
}
