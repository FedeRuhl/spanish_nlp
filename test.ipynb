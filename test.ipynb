{
 "cells": [
  {
   "cell_type": "code",
   "execution_count": 5,
   "metadata": {},
   "outputs": [],
   "source": [
    "from transformers import pipeline\n",
    "import torch\n",
    "\n",
    "pipe = pipeline(\"text-classification\", model=\"pysentimiento/robertuito-hate-speech\", truncation=True, max_length=180, device=-1)#, device=torch.device(type=\"cpu\"))"
   ]
  },
  {
   "cell_type": "code",
   "execution_count": 21,
   "metadata": {},
   "outputs": [
    {
     "data": {
      "text/plain": [
       "[[{'label': 'hateful', 'score': 0.25566795468330383},\n",
       "  {'label': 'targeted', 'score': 0.014215655624866486},\n",
       "  {'label': 'aggressive', 'score': 0.14081329107284546}]]"
      ]
     },
     "execution_count": 21,
     "metadata": {},
     "output_type": "execute_result"
    }
   ],
   "source": [
    "t0 = \"estimados atrevidos estas semana no sera facil porque muchos nos trataran de atacar ayer la izquierda y los medios manipularon una respuesta para revivir a pinochet que murio hace años y tratar de influir en la eleccion el domingo pasado el dictador ortega fue reelegido y los candidatos de oposicion estaban presos aqui en chile hace años patricio aylwin fue candidato compitio gano y fue elegido presidente esa es la comparacion y todo lo que publican los medios y la izquierda son puras mentiras y falsedades la eleccion del proximo domingo no es sobre allende o pinochet es sobre futuro y quien es el mas capacitado para recuperar la paz el orden y el progreso ese sin duda es nuestro candidato jose antonio kast equipo kast\"\n",
    "\n",
    "pipe(t0, return_all_scores=True, truncation=True, max_length=128)"
   ]
  },
  {
   "cell_type": "code",
   "execution_count": null,
   "metadata": {},
   "outputs": [
    {
     "data": {
      "text/plain": [
       "[[{'label': 'LABEL_0', 'score': 0.7982975244522095},\n",
       "  {'label': 'LABEL_1', 'score': 0.20170250535011292}]]"
      ]
     },
     "execution_count": 18,
     "metadata": {},
     "output_type": "execute_result"
    }
   ],
   "source": [
    "pipe(\"Hola\", return_all_scores=True)"
   ]
  },
  {
   "cell_type": "code",
   "execution_count": 3,
   "metadata": {},
   "outputs": [
    {
     "data": {
      "text/plain": [
       "[{'label': 'hateful', 'score': 0.04571178928017616}]"
      ]
     },
     "execution_count": 3,
     "metadata": {},
     "output_type": "execute_result"
    }
   ],
   "source": [
    "pipe(\"amo la vida\")"
   ]
  },
  {
   "cell_type": "code",
   "execution_count": 1,
   "metadata": {},
   "outputs": [
    {
     "name": "stdout",
     "output_type": "stream",
     "text": [
      "chao\n",
      "chao\n"
     ]
    }
   ],
   "source": [
    "def prueba1(texto: str):\n",
    "    print(\"hola\")\n",
    "\n",
    "def prueba1(texto: list):\n",
    "    print(\"chao\")\n",
    "    \n",
    "\n",
    "prueba1(\"\")\n",
    "prueba1([])"
   ]
  }
 ],
 "metadata": {
  "kernelspec": {
   "display_name": "Python 3.9.12 ('spanish_nlp')",
   "language": "python",
   "name": "python3"
  },
  "language_info": {
   "codemirror_mode": {
    "name": "ipython",
    "version": 3
   },
   "file_extension": ".py",
   "mimetype": "text/x-python",
   "name": "python",
   "nbconvert_exporter": "python",
   "pygments_lexer": "ipython3",
   "version": "3.9.12"
  },
  "orig_nbformat": 4,
  "vscode": {
   "interpreter": {
    "hash": "a17d0dd0e62b0b2f91548d65570879f0f98cd396de4905819b9ef013dc03a942"
   }
  }
 },
 "nbformat": 4,
 "nbformat_minor": 2
}
